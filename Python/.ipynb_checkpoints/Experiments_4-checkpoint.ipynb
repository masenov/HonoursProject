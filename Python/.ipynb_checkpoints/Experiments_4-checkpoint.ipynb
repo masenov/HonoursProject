{
 "cells": [
  {
   "cell_type": "markdown",
   "metadata": {},
   "source": [
    "\n",
    "<h2 align=\"center\">Experiments (Sander's paper, fig.2)</h2> "
   ]
  },
  {
   "cell_type": "markdown",
   "metadata": {},
   "source": [
    "In this experiment we reproduce the experiment from fig.2 in the Elastica paper. We analyze the response of single orientaiton selective neuron (with prefered orientation 1 radian, or around 60 degrees). Its response is modulated by 32 neurons with varying orientation from 0 to pi."
   ]
  },
  {
   "cell_type": "code",
   "execution_count": 124,
   "metadata": {
    "collapsed": false
   },
   "outputs": [
    {
     "data": {
      "text/html": [
       "<script type=\"text/javascript\">\n",
       "function HoloViewsWidget(){\n",
       "        }\n",
       "        \n",
       "        HoloViewsWidget.prototype.init_slider = function(init_val){\n",
       "            if(this.cached) {\n",
       "                this.update_cache();\n",
       "                this.update(0);\n",
       "            } else {\n",
       "                this.dynamic_update(0);\n",
       "            }\n",
       "        }\n",
       "        \n",
       "        HoloViewsWidget.prototype.populate_cache = function(idx){\n",
       "            if(this.load_json) {\n",
       "        \t\tvar data_url = \"./\" + this.id + '.json';\n",
       "        \t\t$.getJSON(data_url, $.proxy(function(json_data) {\n",
       "        \t\t\tthis.frames = json_data;\n",
       "        \t\t\t$.each(this.frames, $.proxy(function(index, frame) {\n",
       "        \t\t\t\tthis.cache[index].html(frame);\n",
       "        \t\t\t}, this));\n",
       "        \t\t}, this));\n",
       "            } else {\n",
       "                this.cache[idx].html(this.frames[idx]);\n",
       "                if (this.embed) {\n",
       "                    delete this.frames[idx];\n",
       "                }\n",
       "            }\n",
       "        }\n",
       "        \n",
       "        HoloViewsWidget.prototype.process_error = function(msg){\n",
       "        \n",
       "        }\n",
       "        \n",
       "        \n",
       "        \n",
       "        HoloViewsWidget.prototype.dynamic_update = function(current){\n",
       "            function callback(msg){\n",
       "                /* This callback receives data from Python as a string\n",
       "                 in order to parse it correctly quotes are sliced off*/\n",
       "                var data = msg.content.data['text/plain'].slice(1, -1);\n",
       "                this.frames[current] = data;\n",
       "                this.update_cache();\n",
       "                this.update(current);\n",
       "            }\n",
       "            if(!(current in this.cache)) {\n",
       "                var kernel = IPython.notebook.kernel;\n",
       "                callbacks = {iopub: {output: $.proxy(callback, this)}};\n",
       "                var cmd = \"holoviews.plotting.widgets.NdWidget.widgets['\" + this.id + \"'].update(\" + current + \")\";\n",
       "                kernel.execute(\"import holoviews;\" + cmd, callbacks, {silent : false});\n",
       "            } else {\n",
       "                this.update(current);\n",
       "            }\n",
       "        }\n",
       "        \n",
       "        HoloViewsWidget.prototype.update_cache = function(){\n",
       "            if(this.load_json) {\n",
       "                var frame_len = Object.keys(this.keyMap).length;\n",
       "            } else {\n",
       "                var frame_len = Object.keys(this.frames).length;\n",
       "            }\n",
       "            for (var i=0; i<frame_len; i++) {\n",
       "                if(!this.load_json || this.dynamic)  {\n",
       "                    frame = Object.keys(this.frames)[i];\n",
       "                } else {\n",
       "                    frame = i;\n",
       "                }\n",
       "                if(!(frame in this.cache)) {\n",
       "                    this.cache[frame] = $('<div />').appendTo(\"#\" + this.img_id).hide();\n",
       "                    var cache_id = this.img_id+\"_\"+frame;\n",
       "                    this.cache[frame].attr(\"id\", cache_id);\n",
       "                    this.populate_cache(frame);\n",
       "                }\n",
       "            }\n",
       "        }\n",
       "        \n",
       "        HoloViewsWidget.prototype.update = function(current){\n",
       "            if(current in this.cache) {\n",
       "                $.each(this.cache, function(index, value) {\n",
       "                    value.hide();\n",
       "                });\n",
       "                this.cache[current].show();\n",
       "            }\n",
       "        }\n",
       "        \n",
       "        \n",
       "        function SelectionWidget(frames, id, slider_ids, keyMap, dim_vals, notFound, load_json, mode, cached, json_path, dynamic){\n",
       "            this.frames = frames;\n",
       "            this.fig_id = \"fig_\" + id;\n",
       "            this.img_id = \"_anim_img\" + id;\n",
       "            this.id = id;\n",
       "            this.slider_ids = slider_ids;\n",
       "            this.keyMap = keyMap\n",
       "            this.current_frame = 0;\n",
       "            this.current_vals = dim_vals;\n",
       "            this.load_json = load_json;\n",
       "            this.mode = mode;\n",
       "            this.notFound = notFound;\n",
       "            this.cached = cached;\n",
       "            this.dynamic = dynamic;\n",
       "            this.cache = {};\n",
       "        \tthis.json_path = json_path;\n",
       "            this.init_slider(this.current_vals[0]);\n",
       "        }\n",
       "        \n",
       "        SelectionWidget.prototype = new HoloViewsWidget;\n",
       "        \n",
       "        SelectionWidget.prototype.set_frame = function(dim_val, dim_idx){\n",
       "            this.current_vals[dim_idx] = dim_val;\n",
       "            if(this.dynamic) {\n",
       "                this.dynamic_update(this.current_vals)\n",
       "                return;\n",
       "            }\n",
       "            var key = \"(\";\n",
       "            for (var i=0; i<this.slider_ids.length; i++)\n",
       "            {\n",
       "                val = this.current_vals[i];\n",
       "                if (!(_.isString(val))) {\n",
       "                    if (val % 1 === 0) { var fixed = 1;}\n",
       "                    else { var fixed = 10;}\n",
       "                    val = val.toFixed(fixed)\n",
       "                }\n",
       "                key += \"'\" + val + \"'\";\n",
       "                if(i != this.slider_ids.length-1) { key += ', ';}\n",
       "                else if(this.slider_ids.length == 1) { key += ',';}\n",
       "            }\n",
       "            key += \")\";\n",
       "            var current = this.keyMap[key];\n",
       "            this.current_frame = current;\n",
       "            if(this.cached) {\n",
       "                this.update(current)\n",
       "            } else {\n",
       "                this.dynamic_update(current)\n",
       "            }\n",
       "        }\n",
       "        \n",
       "        \n",
       "        /* Define the ScrubberWidget class */\n",
       "        function ScrubberWidget(frames, num_frames, id, interval, load_json, mode, cached, json_path, dynamic){\n",
       "            this.img_id = \"_anim_img\" + id;\n",
       "            this.slider_id = \"_anim_slider\" + id;\n",
       "            this.loop_select_id = \"_anim_loop_select\" + id;\n",
       "            this.id = id;\n",
       "            this.fig_id = \"fig_\" + id;\n",
       "            this.interval = interval;\n",
       "            this.current_frame = 0;\n",
       "            this.direction = 0;\n",
       "            this.dynamic = dynamic;\n",
       "            this.timer = null;\n",
       "            this.load_json = load_json;\n",
       "            this.mode = mode;\n",
       "            this.cached = cached;\n",
       "            this.frames = frames;\n",
       "            this.cache = {};\n",
       "            this.length = num_frames;\n",
       "        \tthis.json_path = json_path;\n",
       "            document.getElementById(this.slider_id).max = this.length - 1;\n",
       "            this.init_slider(0);\n",
       "        }\n",
       "        \n",
       "        ScrubberWidget.prototype = new HoloViewsWidget;\n",
       "        \n",
       "        ScrubberWidget.prototype.set_frame = function(frame){\n",
       "            this.current_frame = frame;\n",
       "            document.getElementById(this.slider_id).value = this.current_frame;\n",
       "            if(this.cached) {\n",
       "                this.update(frame)\n",
       "            } else {\n",
       "                this.dynamic_update(frame)\n",
       "            }\n",
       "        }\n",
       "        \n",
       "        \n",
       "        ScrubberWidget.prototype.process_error = function(msg){\n",
       "        \tif (msg.content.ename === 'StopIteration') {\n",
       "        \t\tthis.pause_animation();\n",
       "        \t\tvar keys = Object.keys(this.frames)\n",
       "        \t\tthis.length = keys.length;\n",
       "        \t\tdocument.getElementById(this.slider_id).max = this.length-1;\n",
       "        \t\tdocument.getElementById(this.slider_id).value = this.length-1;\n",
       "        \t\tthis.current_frame = this.length-1;\n",
       "        \t}\n",
       "        }\n",
       "        \n",
       "        \n",
       "        ScrubberWidget.prototype.get_loop_state = function(){\n",
       "            var button_group = document[this.loop_select_id].state;\n",
       "            for (var i = 0; i < button_group.length; i++) {\n",
       "                var button = button_group[i];\n",
       "                if (button.checked) {\n",
       "                    return button.value;\n",
       "                }\n",
       "            }\n",
       "            return undefined;\n",
       "        }\n",
       "        \n",
       "        \n",
       "        ScrubberWidget.prototype.next_frame = function() {\n",
       "        \tif (this.dynamic && this.current_frame + 1 >= this.length) {\n",
       "        \t\tthis.length += 1;\n",
       "                document.getElementById(this.slider_id).max = this.length-1;\n",
       "        \t}\n",
       "            this.set_frame(Math.min(this.length - 1, this.current_frame + 1));\n",
       "        }\n",
       "        \n",
       "        ScrubberWidget.prototype.previous_frame = function() {\n",
       "            this.set_frame(Math.max(0, this.current_frame - 1));\n",
       "        }\n",
       "        \n",
       "        ScrubberWidget.prototype.first_frame = function() {\n",
       "            this.set_frame(0);\n",
       "        }\n",
       "        \n",
       "        ScrubberWidget.prototype.last_frame = function() {\n",
       "            this.set_frame(this.length - 1);\n",
       "        }\n",
       "        \n",
       "        ScrubberWidget.prototype.slower = function() {\n",
       "            this.interval /= 0.7;\n",
       "            if(this.direction > 0){this.play_animation();}\n",
       "            else if(this.direction < 0){this.reverse_animation();}\n",
       "        }\n",
       "        \n",
       "        ScrubberWidget.prototype.faster = function() {\n",
       "            this.interval *= 0.7;\n",
       "            if(this.direction > 0){this.play_animation();}\n",
       "            else if(this.direction < 0){this.reverse_animation();}\n",
       "        }\n",
       "        \n",
       "        ScrubberWidget.prototype.anim_step_forward = function() {\n",
       "            if(this.current_frame < this.length || this.dynamic){\n",
       "                this.next_frame();\n",
       "            }else{\n",
       "                var loop_state = this.get_loop_state();\n",
       "                if(loop_state == \"loop\"){\n",
       "                    this.first_frame();\n",
       "                }else if(loop_state == \"reflect\"){\n",
       "                    this.last_frame();\n",
       "                    this.reverse_animation();\n",
       "                }else{\n",
       "                    this.pause_animation();\n",
       "                    this.last_frame();\n",
       "                }\n",
       "            }\n",
       "        }\n",
       "        \n",
       "        ScrubberWidget.prototype.anim_step_reverse = function() {\n",
       "            this.current_frame -= 1;\n",
       "            if(this.current_frame >= 0){\n",
       "                this.set_frame(this.current_frame);\n",
       "            } else {\n",
       "                var loop_state = this.get_loop_state();\n",
       "                if(loop_state == \"loop\"){\n",
       "                    this.last_frame();\n",
       "                }else if(loop_state == \"reflect\"){\n",
       "                    this.first_frame();\n",
       "                    this.play_animation();\n",
       "                }else{\n",
       "                    this.pause_animation();\n",
       "                    this.first_frame();\n",
       "                }\n",
       "            }\n",
       "        }\n",
       "        \n",
       "        ScrubberWidget.prototype.pause_animation = function() {\n",
       "            this.direction = 0;\n",
       "            if (this.timer){\n",
       "                clearInterval(this.timer);\n",
       "                this.timer = null;\n",
       "            }\n",
       "        }\n",
       "        \n",
       "        ScrubberWidget.prototype.play_animation = function() {\n",
       "            this.pause_animation();\n",
       "            this.direction = 1;\n",
       "            var t = this;\n",
       "            if (!this.timer) this.timer = setInterval(function(){t.anim_step_forward();}, this.interval);\n",
       "        }\n",
       "        \n",
       "        ScrubberWidget.prototype.reverse_animation = function() {\n",
       "            this.pause_animation();\n",
       "            this.direction = -1;\n",
       "            var t = this;\n",
       "            if (!this.timer) this.timer = setInterval(function(){t.anim_step_reverse();}, this.interval);\n",
       "        }\n",
       "        \n",
       "        function extend(destination, source) {\n",
       "            for (var k in source) {\n",
       "                if (source.hasOwnProperty(k)) {\n",
       "                    destination[k] = source[k];\n",
       "                }\n",
       "            }\n",
       "            return destination;\n",
       "        }\n",
       "        \n",
       "        function update_widget(widget, values) {\n",
       "        \tif (widget.hasClass(\"ui-slider\")) {\n",
       "        \t\twidget.slider('option',\n",
       "        \t\t\t\t\t  {'min': 0, 'max': values.length-1,\n",
       "        \t\t\t\t\t   'dim_vals': values, 'value': 0})\n",
       "        \t\twidget.slider('option', 'slide').call(widget, event, {'value': 0})\n",
       "        \t} else {\n",
       "        \t\twidget.empty();\n",
       "        \t\tfor (var i=0; i<values.length; i++){\n",
       "        \t\t\twidget.append($(\"<option>\", {\n",
       "        \t\t\t\tvalue: i,\n",
       "        \t\t\t\ttext: values[i]\n",
       "        \t\t\t}))};\n",
       "        \t\twidget.trigger(\"change\");\n",
       "        \t};\n",
       "        }\n",
       "        \n",
       "        // Define MPL specific subclasses\n",
       "        function MPLSelectionWidget() {\n",
       "        \tSelectionWidget.apply(this, arguments);\n",
       "        }\n",
       "        \n",
       "        function MPLScrubberWidget() {\n",
       "        \tScrubberWidget.apply(this, arguments);\n",
       "        }\n",
       "        \n",
       "        // Let them inherit from the baseclasses\n",
       "        MPLSelectionWidget.prototype = Object.create(SelectionWidget.prototype);\n",
       "        MPLScrubberWidget.prototype = Object.create(ScrubberWidget.prototype);\n",
       "        \n",
       "        // Define methods to override on widgets\n",
       "        var MPLMethods = {\n",
       "        \tinit_slider : function(init_val){\n",
       "        \t\tif(this.mode == 'nbagg') {\n",
       "        \t\t\tthis.update_cache();\n",
       "        \t\t\tthis.update(0);\n",
       "        \t\t\tthis.set_frame(init_val, 0);\n",
       "        \t\t} else if(this.cached) {\n",
       "        \t\t\tthis.update_cache();\n",
       "        \t\t\tthis.update(0);\n",
       "        \t\t} else {\n",
       "        \t\t\tthis.dynamic_update(0);\n",
       "        \t\t}\n",
       "        \t},\n",
       "        \tpopulate_cache : function(idx){\n",
       "        \t\tvar cache_id = this.img_id+\"_\"+idx;\n",
       "        \t\tif(this.load_json) {\n",
       "        \t\t\tvar data_url = this.json_path + '/' + this.id + '.json';\n",
       "        \t\t\t$.getJSON(data_url, $.proxy(function(json_data) {\n",
       "        \t\t\t\tif(this.mode == 'mpld3') {\n",
       "        \t\t\t\t\tmpld3.draw_figure(cache_id, json_data[idx]);\n",
       "        \t\t\t\t} else {\n",
       "        \t\t\t\t\tthis.cache[idx].html(json_data[idx]);\n",
       "        \t\t\t\t}\n",
       "        \t\t\t}, this));\n",
       "        \t\t} else {\n",
       "        \t\t\tif(this.mode == 'mpld3') {\n",
       "        \t\t\t\tmpld3.draw_figure(cache_id, this.frames[idx]);\n",
       "        \t\t\t} else {\n",
       "        \t\t\t\tthis.cache[idx].html(this.frames[idx]);\n",
       "        \t\t\t}\n",
       "        \t\t}\n",
       "        \t},\n",
       "        \tdynamic_update : function(current){\n",
       "        \t\tif (this.dynamic) {\n",
       "        \t\t\tcurrent = JSON.stringify(current);\n",
       "        \t\t}\n",
       "        \t\tfunction callback(msg){\n",
       "        \t\t\t/* This callback receives data from Python as a string\n",
       "        \t\t\t in order to parse it correctly quotes are sliced off*/\n",
       "        \t\t\tif (msg.content.ename != undefined) {\n",
       "        \t\t\t\tthis.process_error(msg);\n",
       "        \t\t\t}\n",
       "        \t\t\tif (msg.msg_type != \"execute_result\") {\n",
       "        \t\t\t\tconsole.log(\"Warning: HoloViews callback returned unexpected data for key: (\", current, \") with the following content:\", msg.content)\n",
       "        \t\t\t\treturn\n",
       "        \t\t\t}\n",
       "        \t\t\tif (!(this.mode == 'nbagg')) {\n",
       "        \t\t\t\tif(!(current in this.cache)) {\n",
       "        \t\t\t\t\tvar data = msg.content.data['text/plain'].slice(1, -1);\n",
       "        \t\t\t\t\tif(this.mode == 'mpld3'){\n",
       "        \t\t\t\t\t\tdata = JSON.parse(data)[0];\n",
       "        \t\t\t\t\t}\n",
       "        \t\t\t\t\tthis.frames[current] = data;\n",
       "        \t\t\t\t\tthis.update_cache();\n",
       "        \t\t\t\t}\n",
       "        \t\t\t\tthis.update(current);\n",
       "        \t\t\t}\n",
       "        \t\t}\n",
       "        \t\tvar kernel = IPython.notebook.kernel;\n",
       "        \t\tcallbacks = {iopub: {output: $.proxy(callback, this)}};\n",
       "        \t\tvar cmd = \"holoviews.plotting.widgets.NdWidget.widgets['\" + this.id + \"'].update(\" + current + \")\";\n",
       "        \t\tkernel.execute(\"import holoviews;\" + cmd, callbacks, {silent : false});\n",
       "        \t}\n",
       "        }\n",
       "        \n",
       "        // Extend MPL widgets with backend specific methods\n",
       "        extend(MPLSelectionWidget.prototype, MPLMethods);\n",
       "        extend(MPLScrubberWidget.prototype, MPLMethods);\n",
       "</script>\n",
       "\n",
       "<style>\n",
       "div.hololayout {\n",
       "            display: flex;\n",
       "            align-items: center;\n",
       "            margin: 0;\n",
       "        }\n",
       "        \n",
       "        form.holoform {\n",
       "            background-color: #fafafa;\n",
       "            border-radius: 5px;\n",
       "            overflow: hidden;\n",
       "            padding: 0.8em;\n",
       "        }\n",
       "        \n",
       "        div.holoslider {\n",
       "            min-height: 0 !important;\n",
       "            height: 0.8em;\n",
       "        }\n",
       "        \n",
       "        div.holoformgroup {\n",
       "            padding-right: 0.5em;\n",
       "            padding-top: 0.5em;\n",
       "            margin-bottom: 0.5em;\n",
       "        }\n",
       "        \n",
       "        div.hologroup {\n",
       "            padding-left: 0;\n",
       "            padding-right: 0.6em;\n",
       "        }\n",
       "        \n",
       "        .holoselect {\n",
       "            width: 92%;\n",
       "            margin-left: 0;\n",
       "            margin-right: 0;\n",
       "        }\n",
       "        \n",
       "        .holotext {\n",
       "            width: 100%;\n",
       "            padding-left:  0.5em;\n",
       "            padding-right: 0;\n",
       "        }\n",
       "</style>\n",
       "\n",
       "\n",
       "<div>\n",
       "<img src='data:image/png;base64,iVBORw0KGgoAAAANSUhEUgAAABkAAAAZCAIAAABLixI0AAAACXBIWXMAAAsTAAALEwEAmpwYAAAAB3RJTUUH3wkCDDIOi3cusgAABT1JREFUOMtVlclvG2UYh3/fMovHe53FThySNHZomrRJl6QR0AJdpVblQBEHJC4ciipxAgmO3PgPEP8BQkIsRUJUSF1oqGih0JY2CtnjOLGz2Em8xPbMeL6Pw9RJOprLjPT+5tH7Pu83JE7pqeHh8wMD2evfyXMXf/nxB2FZo6dPNzVHvvr6GxMQeOEigARswNzzUgK6x8NagPzS0nqxODQ62nLn1xMnX99/eLC3sGVROj2/IBxHABKgANlzM4ACTuMRAOecNREiAWtzc0NIEu/M37zVMTWeqlrpUDg1M7NTVgdkowwvxqGRRV1CE8jOznq7uhYAi2CpXtdVVQE4QAAdCAAGwAAJyEa9Amh7PsAihBBAABrg1XUfpe3bxTXb8XR0WJa1VSzWGyAcUAEVoIAARIMOQH2HC4AA6lKW8/n9Pm/Ahl4zV8fGTg0PtzQ3K3tA3GId8AO+BqZLt8sFQKE0GouRSkWtFM63KV0Vy1rJhN44k56cFFI6exJ3MBWANACVHS63aw5QtutVVT/4xWfHv/0ylytmHvx56sIFLxACfIABGIAf8ANRn++9y5evXrkS0XWXd5dLJWRfOHwspA1tr4iFtP3gD8/apjCtSDiyQYhZKNA94wOQTCQPhfzm9FTJH8jn84Tz3SyPlEQ4vf0Dt5/MPE5vpVObzQbxqvaDdL731MnWnh5pmsxxdE3rTCZfO3u2FbL6+2+hzpcKwXA2ldrNUgAVII7TMXhkZnzcAQTgAWI6sgV7YmKivLra1tFxMJk4Ho/r5fLy3btsYS7JHL1YoeHQKldKhcLzLNcdlRDOWDgczuVyOtDt4yN9gRYVmc161TTLmYw9P9e8OHcU5dG2fa3EmhNyKjGwROmzZ8+YqlIAKsDd9jtOenIy1t8vgDJQtuvYrjRT0kMQBRIUQxqSXkSDUIO0YAulvdfxGk/u33eVZs2EeBvu6gCjtKW7Oz81xQBhI73mtATQn/BuZ6wTrezsYX+1Jn+aNR8sl9Zb47l4/O+HD2u27QDgnHUQwhvKuFmRaLS2tkZsmwJSQpqIUzHYyynndx5t/1Vy5gXyhMhorEJIKpViQB0QnFNlZzkbdExRhBAckIAFbFXFetkpg94er004WK6jCniamrRAYHlmxhXFtWTXVfW50SQYDjvVKm+YHVMR10G5VAGrcWAohkEVpbC1RRo7QN2mS0BzuQiJHziwMTurAwrgBTo95NVjnshb3XaF9q1MTM7VeWNv6kJQgAISYAAHuARUQAHA2NCZM35KJ27c6KA4YiBXJlpVro5bkaGN2mStsCy8gAXobpyU7iFhAgxQAB40jMHh4WhnJ6nVpsfGVjOZUQMhi40k9K1FqQZI4ogffd3k33GPobTb5kCIFmriEYjgnABao60KwD68eCnz5PH0vXsr4+OsVIpRvNmpnLvQEozRpm5vxAP107dx+RMlvGTcmw7Xle6DwZlsdbZY05qbAq2ta9msCkhAcM4+yv+3uFZWAA+gA5pEaUOUnpaMohb+/BK7+j76r4IliFoyAv9EjsZ4ZbMmyOKqmdvciiWTL4+OUsY8mkY554d7okGyciuHqgQFVIABlkJ9fV44FLFrz8ecuIZ3u6offzD1fSnFmJSgle35mzcdVQ1Eo23B4Eh7lJdWNgZGohM/r5QAjZEoaDzi0TfKPlFDV/KF35mqs0NN1v3iRrqqAT7Xbdti6UXPImKZaf5SQiUBtAIG0OVXXnmnDUJWb9nET7D8VPba7pAJTKRnxPUpI+v0BXlApZPrlgDaCTke1VqaaLZC/wesjSVVF5Ac7QAAAABJRU5ErkJggg=='\n",
       "     style='width:25px;height:25px; border-radius:12px;'/>\n",
       "\n",
       "HoloViewsJS successfully loaded in this cell.\n",
       "</div>\n"
      ],
      "text/plain": [
       "<IPython.core.display.HTML object>"
      ]
     },
     "metadata": {},
     "output_type": "display_data"
    }
   ],
   "source": [
    "# Imports\n",
    "import math as m\n",
    "import numpy as np\n",
    "import matplotlib.pyplot as plt\n",
    "import holoviews as hv\n",
    "import pylab as pl\n",
    "from pylab import exp,cos,sin,pi,tan, pi\n",
    "import pandas as pd\n",
    "import seaborn as sb\n",
    "import holoviews as hv\n",
    "from IPython.display import SVG\n",
    "import io\n",
    "from PIL import Image\n",
    "from random import random\n",
    "import elastica as el\n",
    "import elastica_neurons as en\n",
    "from dynamics import *\n",
    "%matplotlib inline\n",
    "hv.notebook_extension()"
   ]
  },
  {
   "cell_type": "code",
   "execution_count": 125,
   "metadata": {
    "collapsed": true
   },
   "outputs": [],
   "source": [
    "# Define some variables\n",
    "# number of neurons\n",
    "nn = 32\n",
    "# flanker orientation\n",
    "flanker = np.arange(0,np.pi,np.pi/40)\n",
    "# constants for von mises function\n",
    "A = 3\n",
    "k = 0.25\n",
    "# offset energy\n",
    "E0 = 4\n",
    "# strength of the modulation\n",
    "a = 0.1\n",
    "# different flanker orientations\n",
    "theta = np.arange(0,np.pi,np.pi/nn)\n",
    "# elastica energies for different flanker orientations (calculated below)\n",
    "energies = np.zeros(nn)\n",
    "\n",
    "\n"
   ]
  },
  {
   "cell_type": "markdown",
   "metadata": {},
   "source": [
    "The weight matrix shows the full connectivity between all the orientation selective neurons in every part of the visual field. If we have the matrix mxnxnosn, we unroll them in a vector with lenght L=m*n*nosn. Our weight matrix has size LxL, defining the full connectivity between neurons. We index the matrix by varying nosn, then n and finally m. In order to exaplin the structure of the matrix, we take the simple example of 2x3 visual field with 32 orientation selective neurons in every field. Every 32x32 square represents the connectivity between all neurons in a part of the visual field. The diagonal squares are all zeros as there is don't assume any modulation between neurons from the same receptive field.\n",
    "\n",
    "(For indexing the picture, you can put (0,0), (0,1), ... representing the location of the orientation selective neurons in the visual field)"
   ]
  },
  {
   "cell_type": "code",
   "execution_count": 126,
   "metadata": {
    "collapsed": false
   },
   "outputs": [],
   "source": [
    "#weights = generateWeightMatrix(type='el',m=15,n=15,nosn=32)\n",
    "#showWeights(weights, fig_size=10)"
   ]
  },
  {
   "cell_type": "code",
   "execution_count": null,
   "metadata": {
    "collapsed": false
   },
   "outputs": [],
   "source": [
    "def calculate_energies(nn, flanker, theta):\n",
    "    energies = np.zeros(nn)\n",
    "    for i in range(nn):\n",
    "        energies[i] = en.E(flanker,theta[i],[1,0])\n",
    "    return energies"
   ]
  },
  {
   "cell_type": "code",
   "execution_count": 145,
   "metadata": {
    "collapsed": false
   },
   "outputs": [
    {
     "data": {
      "text/html": [
       "<img src='data:image/png;base64,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' style='max-width:100%; margin: auto; display: block; '/>"
      ],
      "text/plain": [
       ":Curve   [test2]   (y)"
      ]
     },
     "execution_count": 145,
     "metadata": {},
     "output_type": "execute_result"
    }
   ],
   "source": [
    "# Elastica energies between neuron with orientation 1 rad and population of 32 neurons with variable orientation from 0 to pi\n",
    "for i in range(nn):\n",
    "    energies[i] = en.E(flanker,theta[i],[1,0])\n",
    "\n",
    "dimensions = ['Flanker']\n",
    "keys = [flanker[i] for i in range(len(flanker))]\n",
    "elastica_energies = [(k, calculate_energies(nn, flanker[k], theta)) for k in keys]\n",
    "results = hv.HoloMap(elastica_energies, kdims=dimensions)    \n",
    "\n",
    "a = hv.Curve(zip(theta,energies),kdims=[('test','test2')])(plot={})\n",
    "a"
   ]
  },
  {
   "cell_type": "markdown",
   "metadata": {},
   "source": [
    "Calculate h, in additive and multiplicate models"
   ]
  },
  {
   "cell_type": "code",
   "execution_count": 62,
   "metadata": {
    "collapsed": false
   },
   "outputs": [],
   "source": [
    "modulation_ad = -a*(energies - E0)\n",
    "modulation_mp = np.exp(-a*(energies - E0))"
   ]
  },
  {
   "cell_type": "code",
   "execution_count": 63,
   "metadata": {
    "collapsed": false
   },
   "outputs": [
    {
     "data": {
      "text/plain": [
       "<matplotlib.text.Text at 0xb956090>"
      ]
     },
     "execution_count": 63,
     "metadata": {},
     "output_type": "execute_result"
    },
    {
     "data": {
      "image/png": "[encoded data removed]",
      "text/plain": [
       "<matplotlib.figure.Figure at 0xbd0aa50>"
      ]
     },
     "metadata": {},
     "output_type": "display_data"
    }
   ],
   "source": [
    "# Additive\n",
    "plt.plot(theta,modulation_ad)\n",
    "plt.ylim([-1,5])\n",
    "plt.xlabel('Orientation')\n",
    "plt.ylabel('h, additive')"
   ]
  },
  {
   "cell_type": "code",
   "execution_count": 64,
   "metadata": {
    "collapsed": false
   },
   "outputs": [
    {
     "data": {
      "text/plain": [
       "<matplotlib.text.Text at 0xbf1f850>"
      ]
     },
     "execution_count": 64,
     "metadata": {},
     "output_type": "execute_result"
    },
    {
     "data": {
      "image/png": "[encoded data removed]",
      "text/plain": [
       "<matplotlib.figure.Figure at 0xbd1c850>"
      ]
     },
     "metadata": {},
     "output_type": "display_data"
    }
   ],
   "source": [
    "# Multiplicative\n",
    "plt.plot(theta,modulation_mp)\n",
    "plt.ylim([-1,5])\n",
    "plt.xlabel('Orientation')\n",
    "plt.ylabel('h, multplicate')"
   ]
  },
  {
   "cell_type": "code",
   "execution_count": 65,
   "metadata": {
    "collapsed": false
   },
   "outputs": [
    {
     "data": {
      "text/plain": [
       "<matplotlib.text.Text at 0xbf24790>"
      ]
     },
     "execution_count": 65,
     "metadata": {},
     "output_type": "execute_result"
    },
    {
     "data": {
      "image/png": "[encoded data removed]",
      "text/plain": [
       "<matplotlib.figure.Figure at 0xbf37590>"
      ]
     },
     "metadata": {},
     "output_type": "display_data"
    }
   ],
   "source": [
    "# Central drive\n",
    "curve,x,y = mises_curve(A,k,flanker,neuron=nn)\n",
    "plt.plot(x,y)\n",
    "plt.xlabel('Orientation')\n",
    "plt.ylabel('Response')"
   ]
  },
  {
   "cell_type": "code",
   "execution_count": 66,
   "metadata": {
    "collapsed": false
   },
   "outputs": [
    {
     "data": {
      "text/plain": [
       "[<matplotlib.lines.Line2D at 0xc458590>]"
      ]
     },
     "execution_count": 66,
     "metadata": {},
     "output_type": "execute_result"
    },
    {
     "data": {
      "image/png": "[encoded data removed]",
      "text/plain": [
       "<matplotlib.figure.Figure at 0xbf39450>"
      ]
     },
     "metadata": {},
     "output_type": "display_data"
    }
   ],
   "source": [
    "plt.plot(theta,modulation_ad)\n"
   ]
  },
  {
   "cell_type": "code",
   "execution_count": 67,
   "metadata": {
    "collapsed": false
   },
   "outputs": [
    {
     "data": {
      "text/plain": [
       "<matplotlib.legend.Legend at 0xc6465d0>"
      ]
     },
     "execution_count": 67,
     "metadata": {},
     "output_type": "execute_result"
    },
    {
     "data": {
      "image/png": "[encoded data removed]",
      "text/plain": [
       "<matplotlib.figure.Figure at 0xc441d50>"
      ]
     },
     "metadata": {},
     "output_type": "display_data"
    }
   ],
   "source": [
    "# Additive\n",
    "mod, = plt.plot(theta,modulation_ad, label='Modulation')\n",
    "cen, = plt.plot(x,y, label='Central response')\n",
    "# Take only the positive values\n",
    "com, = plt.plot(x,(y+modulation_ad).clip(min=0), label='Combined')\n",
    "\n",
    "plt.legend(handles=[mod, cen, com])"
   ]
  },
  {
   "cell_type": "code",
   "execution_count": 68,
   "metadata": {
    "collapsed": false
   },
   "outputs": [
    {
     "data": {
      "text/plain": [
       "<matplotlib.legend.Legend at 0xc84d290>"
      ]
     },
     "execution_count": 68,
     "metadata": {},
     "output_type": "execute_result"
    },
    {
     "data": {
      "image/png": "[encoded data removed]",
      "text/plain": [
       "<matplotlib.figure.Figure at 0xc664810>"
      ]
     },
     "metadata": {},
     "output_type": "display_data"
    }
   ],
   "source": [
    "# Multiplicative\n",
    "mod, = plt.plot(theta,modulation_mp, label='Modulation')\n",
    "cen, = plt.plot(x,y, label='Central response')\n",
    "com, = plt.plot(x,np.multiply(y,modulation_mp), label='Combined')\n",
    "\n",
    "plt.legend(handles=[mod, cen, com])"
   ]
  }
 ],
 "metadata": {
  "kernelspec": {
   "display_name": "Python 2",
   "language": "python",
   "name": "python2"
  },
  "language_info": {
   "codemirror_mode": {
    "name": "ipython",
    "version": 2
   },
   "file_extension": ".py",
   "mimetype": "text/x-python",
   "name": "python",
   "nbconvert_exporter": "python",
   "pygments_lexer": "ipython2",
   "version": "2.7.5"
  }
 },
 "nbformat": 4,
 "nbformat_minor": 0
}
