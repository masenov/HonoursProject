{
 "cells": [
  {
   "cell_type": "markdown",
   "metadata": {},
   "source": [
    "\n",
    "<h2 align=\"center\">Experiments (Sander's paper, fig.2, dynamics)</h2> "
   ]
  },
  {
   "cell_type": "code",
   "execution_count": 88,
   "metadata": {
    "collapsed": false
   },
   "outputs": [
    {
     "data": {
      "text/html": [
       "<script type=\"text/javascript\">\n",
       "function HoloViewsWidget(){\n",
       "        }\n",
       "        \n",
       "        HoloViewsWidget.prototype.init_slider = function(init_val){\n",
       "            if(this.cached) {\n",
       "                this.update_cache();\n",
       "                this.update(0);\n",
       "            } else {\n",
       "                this.dynamic_update(0);\n",
       "            }\n",
       "        }\n",
       "        \n",
       "        HoloViewsWidget.prototype.populate_cache = function(idx){\n",
       "            if(this.load_json) {\n",
       "        \t\tvar data_url = \"./\" + this.id + '.json';\n",
       "        \t\t$.getJSON(data_url, $.proxy(function(json_data) {\n",
       "        \t\t\tthis.frames = json_data;\n",
       "        \t\t\t$.each(this.frames, $.proxy(function(index, frame) {\n",
       "        \t\t\t\tthis.cache[index].html(frame);\n",
       "        \t\t\t}, this));\n",
       "        \t\t}, this));\n",
       "            } else {\n",
       "                this.cache[idx].html(this.frames[idx]);\n",
       "                if (this.embed) {\n",
       "                    delete this.frames[idx];\n",
       "                }\n",
       "            }\n",
       "        }\n",
       "        \n",
       "        HoloViewsWidget.prototype.process_error = function(msg){\n",
       "        \n",
       "        }\n",
       "        \n",
       "        \n",
       "        \n",
       "        HoloViewsWidget.prototype.dynamic_update = function(current){\n",
       "            function callback(msg){\n",
       "                /* This callback receives data from Python as a string\n",
       "                 in order to parse it correctly quotes are sliced off*/\n",
       "                var data = msg.content.data['text/plain'].slice(1, -1);\n",
       "                this.frames[current] = data;\n",
       "                this.update_cache();\n",
       "                this.update(current);\n",
       "            }\n",
       "            if(!(current in this.cache)) {\n",
       "                var kernel = IPython.notebook.kernel;\n",
       "                callbacks = {iopub: {output: $.proxy(callback, this)}};\n",
       "                var cmd = \"holoviews.plotting.widgets.NdWidget.widgets['\" + this.id + \"'].update(\" + current + \")\";\n",
       "                kernel.execute(\"import holoviews;\" + cmd, callbacks, {silent : false});\n",
       "            } else {\n",
       "                this.update(current);\n",
       "            }\n",
       "        }\n",
       "        \n",
       "        HoloViewsWidget.prototype.update_cache = function(){\n",
       "            if(this.load_json) {\n",
       "                var frame_len = Object.keys(this.keyMap).length;\n",
       "            } else {\n",
       "                var frame_len = Object.keys(this.frames).length;\n",
       "            }\n",
       "            for (var i=0; i<frame_len; i++) {\n",
       "                if(!this.load_json || this.dynamic)  {\n",
       "                    frame = Object.keys(this.frames)[i];\n",
       "                } else {\n",
       "                    frame = i;\n",
       "                }\n",
       "                if(!(frame in this.cache)) {\n",
       "                    this.cache[frame] = $('<div />').appendTo(\"#\" + this.img_id).hide();\n",
       "                    var cache_id = this.img_id+\"_\"+frame;\n",
       "                    this.cache[frame].attr(\"id\", cache_id);\n",
       "                    this.populate_cache(frame);\n",
       "                }\n",
       "            }\n",
       "        }\n",
       "        \n",
       "        HoloViewsWidget.prototype.update = function(current){\n",
       "            if(current in this.cache) {\n",
       "                $.each(this.cache, function(index, value) {\n",
       "                    value.hide();\n",
       "                });\n",
       "                this.cache[current].show();\n",
       "            }\n",
       "        }\n",
       "        \n",
       "        \n",
       "        function SelectionWidget(frames, id, slider_ids, keyMap, dim_vals, notFound, load_json, mode, cached, json_path, dynamic){\n",
       "            this.frames = frames;\n",
       "            this.fig_id = \"fig_\" + id;\n",
       "            this.img_id = \"_anim_img\" + id;\n",
       "            this.id = id;\n",
       "            this.slider_ids = slider_ids;\n",
       "            this.keyMap = keyMap\n",
       "            this.current_frame = 0;\n",
       "            this.current_vals = dim_vals;\n",
       "            this.load_json = load_json;\n",
       "            this.mode = mode;\n",
       "            this.notFound = notFound;\n",
       "            this.cached = cached;\n",
       "            this.dynamic = dynamic;\n",
       "            this.cache = {};\n",
       "        \tthis.json_path = json_path;\n",
       "            this.init_slider(this.current_vals[0]);\n",
       "        }\n",
       "        \n",
       "        SelectionWidget.prototype = new HoloViewsWidget;\n",
       "        \n",
       "        SelectionWidget.prototype.set_frame = function(dim_val, dim_idx){\n",
       "            this.current_vals[dim_idx] = dim_val;\n",
       "            if(this.dynamic) {\n",
       "                this.dynamic_update(this.current_vals)\n",
       "                return;\n",
       "            }\n",
       "            var key = \"(\";\n",
       "            for (var i=0; i<this.slider_ids.length; i++)\n",
       "            {\n",
       "                val = this.current_vals[i];\n",
       "                if (!(_.isString(val))) {\n",
       "                    if (val % 1 === 0) { var fixed = 1;}\n",
       "                    else { var fixed = 10;}\n",
       "                    val = val.toFixed(fixed)\n",
       "                }\n",
       "                key += \"'\" + val + \"'\";\n",
       "                if(i != this.slider_ids.length-1) { key += ', ';}\n",
       "                else if(this.slider_ids.length == 1) { key += ',';}\n",
       "            }\n",
       "            key += \")\";\n",
       "            var current = this.keyMap[key];\n",
       "            this.current_frame = current;\n",
       "            if(this.cached) {\n",
       "                this.update(current)\n",
       "            } else {\n",
       "                this.dynamic_update(current)\n",
       "            }\n",
       "        }\n",
       "        \n",
       "        \n",
       "        /* Define the ScrubberWidget class */\n",
       "        function ScrubberWidget(frames, num_frames, id, interval, load_json, mode, cached, json_path, dynamic){\n",
       "            this.img_id = \"_anim_img\" + id;\n",
       "            this.slider_id = \"_anim_slider\" + id;\n",
       "            this.loop_select_id = \"_anim_loop_select\" + id;\n",
       "            this.id = id;\n",
       "            this.fig_id = \"fig_\" + id;\n",
       "            this.interval = interval;\n",
       "            this.current_frame = 0;\n",
       "            this.direction = 0;\n",
       "            this.dynamic = dynamic;\n",
       "            this.timer = null;\n",
       "            this.load_json = load_json;\n",
       "            this.mode = mode;\n",
       "            this.cached = cached;\n",
       "            this.frames = frames;\n",
       "            this.cache = {};\n",
       "            this.length = num_frames;\n",
       "        \tthis.json_path = json_path;\n",
       "            document.getElementById(this.slider_id).max = this.length - 1;\n",
       "            this.init_slider(0);\n",
       "        }\n",
       "        \n",
       "        ScrubberWidget.prototype = new HoloViewsWidget;\n",
       "        \n",
       "        ScrubberWidget.prototype.set_frame = function(frame){\n",
       "            this.current_frame = frame;\n",
       "            document.getElementById(this.slider_id).value = this.current_frame;\n",
       "            if(this.cached) {\n",
       "                this.update(frame)\n",
       "            } else {\n",
       "                this.dynamic_update(frame)\n",
       "            }\n",
       "        }\n",
       "        \n",
       "        \n",
       "        ScrubberWidget.prototype.process_error = function(msg){\n",
       "        \tif (msg.content.ename === 'StopIteration') {\n",
       "        \t\tthis.pause_animation();\n",
       "        \t\tvar keys = Object.keys(this.frames)\n",
       "        \t\tthis.length = keys.length;\n",
       "        \t\tdocument.getElementById(this.slider_id).max = this.length-1;\n",
       "        \t\tdocument.getElementById(this.slider_id).value = this.length-1;\n",
       "        \t\tthis.current_frame = this.length-1;\n",
       "        \t}\n",
       "        }\n",
       "        \n",
       "        \n",
       "        ScrubberWidget.prototype.get_loop_state = function(){\n",
       "            var button_group = document[this.loop_select_id].state;\n",
       "            for (var i = 0; i < button_group.length; i++) {\n",
       "                var button = button_group[i];\n",
       "                if (button.checked) {\n",
       "                    return button.value;\n",
       "                }\n",
       "            }\n",
       "            return undefined;\n",
       "        }\n",
       "        \n",
       "        \n",
       "        ScrubberWidget.prototype.next_frame = function() {\n",
       "        \tif (this.dynamic && this.current_frame + 1 >= this.length) {\n",
       "        \t\tthis.length += 1;\n",
       "                document.getElementById(this.slider_id).max = this.length-1;\n",
       "        \t}\n",
       "            this.set_frame(Math.min(this.length - 1, this.current_frame + 1));\n",
       "        }\n",
       "        \n",
       "        ScrubberWidget.prototype.previous_frame = function() {\n",
       "            this.set_frame(Math.max(0, this.current_frame - 1));\n",
       "        }\n",
       "        \n",
       "        ScrubberWidget.prototype.first_frame = function() {\n",
       "            this.set_frame(0);\n",
       "        }\n",
       "        \n",
       "        ScrubberWidget.prototype.last_frame = function() {\n",
       "            this.set_frame(this.length - 1);\n",
       "        }\n",
       "        \n",
       "        ScrubberWidget.prototype.slower = function() {\n",
       "            this.interval /= 0.7;\n",
       "            if(this.direction > 0){this.play_animation();}\n",
       "            else if(this.direction < 0){this.reverse_animation();}\n",
       "        }\n",
       "        \n",
       "        ScrubberWidget.prototype.faster = function() {\n",
       "            this.interval *= 0.7;\n",
       "            if(this.direction > 0){this.play_animation();}\n",
       "            else if(this.direction < 0){this.reverse_animation();}\n",
       "        }\n",
       "        \n",
       "        ScrubberWidget.prototype.anim_step_forward = function() {\n",
       "            if(this.current_frame < this.length || this.dynamic){\n",
       "                this.next_frame();\n",
       "            }else{\n",
       "                var loop_state = this.get_loop_state();\n",
       "                if(loop_state == \"loop\"){\n",
       "                    this.first_frame();\n",
       "                }else if(loop_state == \"reflect\"){\n",
       "                    this.last_frame();\n",
       "                    this.reverse_animation();\n",
       "                }else{\n",
       "                    this.pause_animation();\n",
       "                    this.last_frame();\n",
       "                }\n",
       "            }\n",
       "        }\n",
       "        \n",
       "        ScrubberWidget.prototype.anim_step_reverse = function() {\n",
       "            this.current_frame -= 1;\n",
       "            if(this.current_frame >= 0){\n",
       "                this.set_frame(this.current_frame);\n",
       "            } else {\n",
       "                var loop_state = this.get_loop_state();\n",
       "                if(loop_state == \"loop\"){\n",
       "                    this.last_frame();\n",
       "                }else if(loop_state == \"reflect\"){\n",
       "                    this.first_frame();\n",
       "                    this.play_animation();\n",
       "                }else{\n",
       "                    this.pause_animation();\n",
       "                    this.first_frame();\n",
       "                }\n",
       "            }\n",
       "        }\n",
       "        \n",
       "        ScrubberWidget.prototype.pause_animation = function() {\n",
       "            this.direction = 0;\n",
       "            if (this.timer){\n",
       "                clearInterval(this.timer);\n",
       "                this.timer = null;\n",
       "            }\n",
       "        }\n",
       "        \n",
       "        ScrubberWidget.prototype.play_animation = function() {\n",
       "            this.pause_animation();\n",
       "            this.direction = 1;\n",
       "            var t = this;\n",
       "            if (!this.timer) this.timer = setInterval(function(){t.anim_step_forward();}, this.interval);\n",
       "        }\n",
       "        \n",
       "        ScrubberWidget.prototype.reverse_animation = function() {\n",
       "            this.pause_animation();\n",
       "            this.direction = -1;\n",
       "            var t = this;\n",
       "            if (!this.timer) this.timer = setInterval(function(){t.anim_step_reverse();}, this.interval);\n",
       "        }\n",
       "        \n",
       "        function extend(destination, source) {\n",
       "            for (var k in source) {\n",
       "                if (source.hasOwnProperty(k)) {\n",
       "                    destination[k] = source[k];\n",
       "                }\n",
       "            }\n",
       "            return destination;\n",
       "        }\n",
       "        \n",
       "        function update_widget(widget, values) {\n",
       "        \tif (widget.hasClass(\"ui-slider\")) {\n",
       "        \t\twidget.slider('option',\n",
       "        \t\t\t\t\t  {'min': 0, 'max': values.length-1,\n",
       "        \t\t\t\t\t   'dim_vals': values, 'value': 0})\n",
       "        \t\twidget.slider('option', 'slide').call(widget, event, {'value': 0})\n",
       "        \t} else {\n",
       "        \t\twidget.empty();\n",
       "        \t\tfor (var i=0; i<values.length; i++){\n",
       "        \t\t\twidget.append($(\"<option>\", {\n",
       "        \t\t\t\tvalue: i,\n",
       "        \t\t\t\ttext: values[i]\n",
       "        \t\t\t}))};\n",
       "        \t\twidget.trigger(\"change\");\n",
       "        \t};\n",
       "        }\n",
       "        \n",
       "        // Define MPL specific subclasses\n",
       "        function MPLSelectionWidget() {\n",
       "        \tSelectionWidget.apply(this, arguments);\n",
       "        }\n",
       "        \n",
       "        function MPLScrubberWidget() {\n",
       "        \tScrubberWidget.apply(this, arguments);\n",
       "        }\n",
       "        \n",
       "        // Let them inherit from the baseclasses\n",
       "        MPLSelectionWidget.prototype = Object.create(SelectionWidget.prototype);\n",
       "        MPLScrubberWidget.prototype = Object.create(ScrubberWidget.prototype);\n",
       "        \n",
       "        // Define methods to override on widgets\n",
       "        var MPLMethods = {\n",
       "        \tinit_slider : function(init_val){\n",
       "        \t\tif(this.mode == 'nbagg') {\n",
       "        \t\t\tthis.update_cache();\n",
       "        \t\t\tthis.update(0);\n",
       "        \t\t\tthis.set_frame(init_val, 0);\n",
       "        \t\t} else if(this.cached) {\n",
       "        \t\t\tthis.update_cache();\n",
       "        \t\t\tthis.update(0);\n",
       "        \t\t} else {\n",
       "        \t\t\tthis.dynamic_update(0);\n",
       "        \t\t}\n",
       "        \t},\n",
       "        \tpopulate_cache : function(idx){\n",
       "        \t\tvar cache_id = this.img_id+\"_\"+idx;\n",
       "        \t\tif(this.load_json) {\n",
       "        \t\t\tvar data_url = this.json_path + '/' + this.id + '.json';\n",
       "        \t\t\t$.getJSON(data_url, $.proxy(function(json_data) {\n",
       "        \t\t\t\tif(this.mode == 'mpld3') {\n",
       "        \t\t\t\t\tmpld3.draw_figure(cache_id, json_data[idx]);\n",
       "        \t\t\t\t} else {\n",
       "        \t\t\t\t\tthis.cache[idx].html(json_data[idx]);\n",
       "        \t\t\t\t}\n",
       "        \t\t\t}, this));\n",
       "        \t\t} else {\n",
       "        \t\t\tif(this.mode == 'mpld3') {\n",
       "        \t\t\t\tmpld3.draw_figure(cache_id, this.frames[idx]);\n",
       "        \t\t\t} else {\n",
       "        \t\t\t\tthis.cache[idx].html(this.frames[idx]);\n",
       "        \t\t\t}\n",
       "        \t\t}\n",
       "        \t},\n",
       "        \tdynamic_update : function(current){\n",
       "        \t\tif (this.dynamic) {\n",
       "        \t\t\tcurrent = JSON.stringify(current);\n",
       "        \t\t}\n",
       "        \t\tfunction callback(msg){\n",
       "        \t\t\t/* This callback receives data from Python as a string\n",
       "        \t\t\t in order to parse it correctly quotes are sliced off*/\n",
       "        \t\t\tif (msg.content.ename != undefined) {\n",
       "        \t\t\t\tthis.process_error(msg);\n",
       "        \t\t\t}\n",
       "        \t\t\tif (msg.msg_type != \"execute_result\") {\n",
       "        \t\t\t\tconsole.log(\"Warning: HoloViews callback returned unexpected data for key: (\", current, \") with the following content:\", msg.content)\n",
       "        \t\t\t\treturn\n",
       "        \t\t\t}\n",
       "        \t\t\tif (!(this.mode == 'nbagg')) {\n",
       "        \t\t\t\tif(!(current in this.cache)) {\n",
       "        \t\t\t\t\tvar data = msg.content.data['text/plain'].slice(1, -1);\n",
       "        \t\t\t\t\tif(this.mode == 'mpld3'){\n",
       "        \t\t\t\t\t\tdata = JSON.parse(data)[0];\n",
       "        \t\t\t\t\t}\n",
       "        \t\t\t\t\tthis.frames[current] = data;\n",
       "        \t\t\t\t\tthis.update_cache();\n",
       "        \t\t\t\t}\n",
       "        \t\t\t\tthis.update(current);\n",
       "        \t\t\t}\n",
       "        \t\t}\n",
       "        \t\tvar kernel = IPython.notebook.kernel;\n",
       "        \t\tcallbacks = {iopub: {output: $.proxy(callback, this)}};\n",
       "        \t\tvar cmd = \"holoviews.plotting.widgets.NdWidget.widgets['\" + this.id + \"'].update(\" + current + \")\";\n",
       "        \t\tkernel.execute(\"import holoviews;\" + cmd, callbacks, {silent : false});\n",
       "        \t}\n",
       "        }\n",
       "        \n",
       "        // Extend MPL widgets with backend specific methods\n",
       "        extend(MPLSelectionWidget.prototype, MPLMethods);\n",
       "        extend(MPLScrubberWidget.prototype, MPLMethods);\n",
       "</script>\n",
       "\n",
       "<style>\n",
       "div.hololayout {\n",
       "            display: flex;\n",
       "            align-items: center;\n",
       "            margin: 0;\n",
       "        }\n",
       "        \n",
       "        form.holoform {\n",
       "            background-color: #fafafa;\n",
       "            border-radius: 5px;\n",
       "            overflow: hidden;\n",
       "            padding: 0.8em;\n",
       "        }\n",
       "        \n",
       "        div.holoslider {\n",
       "            min-height: 0 !important;\n",
       "            height: 0.8em;\n",
       "        }\n",
       "        \n",
       "        div.holoformgroup {\n",
       "            padding-right: 0.5em;\n",
       "            padding-top: 0.5em;\n",
       "            margin-bottom: 0.5em;\n",
       "        }\n",
       "        \n",
       "        div.hologroup {\n",
       "            padding-left: 0;\n",
       "            padding-right: 0.6em;\n",
       "        }\n",
       "        \n",
       "        .holoselect {\n",
       "            width: 92%;\n",
       "            margin-left: 0;\n",
       "            margin-right: 0;\n",
       "        }\n",
       "        \n",
       "        .holotext {\n",
       "            width: 100%;\n",
       "            padding-left:  0.5em;\n",
       "            padding-right: 0;\n",
       "        }\n",
       "</style>\n",
       "\n",
       "\n",
       "<div>\n",
       "<img src='data:image/png;base64,iVBORw0KGgoAAAANSUhEUgAAABkAAAAZCAIAAABLixI0AAAACXBIWXMAAAsTAAALEwEAmpwYAAAAB3RJTUUH3wkCDDIOi3cusgAABT1JREFUOMtVlclvG2UYh3/fMovHe53FThySNHZomrRJl6QR0AJdpVblQBEHJC4ciipxAgmO3PgPEP8BQkIsRUJUSF1oqGih0JY2CtnjOLGz2Em8xPbMeL6Pw9RJOprLjPT+5tH7Pu83JE7pqeHh8wMD2evfyXMXf/nxB2FZo6dPNzVHvvr6GxMQeOEigARswNzzUgK6x8NagPzS0nqxODQ62nLn1xMnX99/eLC3sGVROj2/IBxHABKgANlzM4ACTuMRAOecNREiAWtzc0NIEu/M37zVMTWeqlrpUDg1M7NTVgdkowwvxqGRRV1CE8jOznq7uhYAi2CpXtdVVQE4QAAdCAAGwAAJyEa9Amh7PsAihBBAABrg1XUfpe3bxTXb8XR0WJa1VSzWGyAcUAEVoIAARIMOQH2HC4AA6lKW8/n9Pm/Ahl4zV8fGTg0PtzQ3K3tA3GId8AO+BqZLt8sFQKE0GouRSkWtFM63KV0Vy1rJhN44k56cFFI6exJ3MBWANACVHS63aw5QtutVVT/4xWfHv/0ylytmHvx56sIFLxACfIABGIAf8ANRn++9y5evXrkS0XWXd5dLJWRfOHwspA1tr4iFtP3gD8/apjCtSDiyQYhZKNA94wOQTCQPhfzm9FTJH8jn84Tz3SyPlEQ4vf0Dt5/MPE5vpVObzQbxqvaDdL731MnWnh5pmsxxdE3rTCZfO3u2FbL6+2+hzpcKwXA2ldrNUgAVII7TMXhkZnzcAQTgAWI6sgV7YmKivLra1tFxMJk4Ho/r5fLy3btsYS7JHL1YoeHQKldKhcLzLNcdlRDOWDgczuVyOtDt4yN9gRYVmc161TTLmYw9P9e8OHcU5dG2fa3EmhNyKjGwROmzZ8+YqlIAKsDd9jtOenIy1t8vgDJQtuvYrjRT0kMQBRIUQxqSXkSDUIO0YAulvdfxGk/u33eVZs2EeBvu6gCjtKW7Oz81xQBhI73mtATQn/BuZ6wTrezsYX+1Jn+aNR8sl9Zb47l4/O+HD2u27QDgnHUQwhvKuFmRaLS2tkZsmwJSQpqIUzHYyynndx5t/1Vy5gXyhMhorEJIKpViQB0QnFNlZzkbdExRhBAckIAFbFXFetkpg94er004WK6jCniamrRAYHlmxhXFtWTXVfW50SQYDjvVKm+YHVMR10G5VAGrcWAohkEVpbC1RRo7QN2mS0BzuQiJHziwMTurAwrgBTo95NVjnshb3XaF9q1MTM7VeWNv6kJQgAISYAAHuARUQAHA2NCZM35KJ27c6KA4YiBXJlpVro5bkaGN2mStsCy8gAXobpyU7iFhAgxQAB40jMHh4WhnJ6nVpsfGVjOZUQMhi40k9K1FqQZI4ogffd3k33GPobTb5kCIFmriEYjgnABao60KwD68eCnz5PH0vXsr4+OsVIpRvNmpnLvQEozRpm5vxAP107dx+RMlvGTcmw7Xle6DwZlsdbZY05qbAq2ta9msCkhAcM4+yv+3uFZWAA+gA5pEaUOUnpaMohb+/BK7+j76r4IliFoyAv9EjsZ4ZbMmyOKqmdvciiWTL4+OUsY8mkY554d7okGyciuHqgQFVIABlkJ9fV44FLFrz8ecuIZ3u6offzD1fSnFmJSgle35mzcdVQ1Eo23B4Eh7lJdWNgZGohM/r5QAjZEoaDzi0TfKPlFDV/KF35mqs0NN1v3iRrqqAT7Xbdti6UXPImKZaf5SQiUBtAIG0OVXXnmnDUJWb9nET7D8VPba7pAJTKRnxPUpI+v0BXlApZPrlgDaCTke1VqaaLZC/wesjSVVF5Ac7QAAAABJRU5ErkJggg=='\n",
       "     style='width:25px;height:25px; border-radius:12px;'/>\n",
       "\n",
       "HoloViewsJS successfully loaded in this cell.\n",
       "</div>\n"
      ],
      "text/plain": [
       "<IPython.core.display.HTML object>"
      ]
     },
     "metadata": {},
     "output_type": "display_data"
    }
   ],
   "source": [
    "# Imports\n",
    "import math as m\n",
    "import numpy as np\n",
    "import matplotlib.pyplot as plt\n",
    "import holoviews as hv\n",
    "import pylab as pl\n",
    "from pylab import exp,cos,sin,pi,tan, pi\n",
    "import pandas as pd\n",
    "import seaborn as sb\n",
    "import holoviews as hv\n",
    "from IPython.display import SVG\n",
    "import io\n",
    "from PIL import Image\n",
    "from random import random\n",
    "import elastica as el\n",
    "import elastica_neurons as en\n",
    "from dynamics import *\n",
    "from experiments import *\n",
    "import matplotlib.pyplot as mpl\n",
    "%matplotlib inline\n",
    "hv.notebook_extension()"
   ]
  },
  {
   "cell_type": "markdown",
   "metadata": {},
   "source": [
    "Central orientation is $\\cfrac{\\pi}{2}$ (vertical bar) and the flanker orienatation is $\\cfrac{\\pi}{2} + \\cfrac{\\pi}{10}$. In this notebook we built a dynamic model using the elastica energy and compare the response to the already implemented passive model (see other notebook). Another important distinction between the two implementations, apart from the added dynamics is how we model the modulation. In both of the models we use an additive model. In both the passive and dynamic model, we use certain numbers of orientation selective neurons to decode the response of the center bar. However in the passive model (elastica model), we don't model the the flanker's bar response with orientation selective neurons. Rather we just calculate the energy between the orientation selective neurons of the center bar and the flanker's orientation.\n",
    "\n",
    "In this model we change two things. First of all we model the flanker with orientation selective neurons. We also add recurrence, by not only applying modulation from the flanker to the center bar, but also back from the center to the flanker bar. The responses change with time, until they settle to a stable point.\n",
    "\n",
    "The result from the passive and dynamic model can be seen below."
   ]
  },
  {
   "cell_type": "code",
   "execution_count": 143,
   "metadata": {
    "collapsed": false
   },
   "outputs": [],
   "source": [
    "#----- Define some variables -----\n",
    "\n",
    "# number of neurons\n",
    "nosn = 32\n",
    "nn = nosn\n",
    "number_of_experiments = 25\n",
    "center = np.pi/2\n",
    "# constants for von mises function\n",
    "A = 1\n",
    "k = 1\n",
    "# offset energy\n",
    "E0 = 4\n",
    "\n",
    "# elastica energies for different flanker orientations (calculated below)\n",
    "energies = np.zeros(nn)\n",
    "\n",
    "\n",
    "\n",
    "# used for simulation\n",
    "timesteps = 50\n",
    "tau = 6\n",
    "\n",
    "\n",
    "\n",
    "a = 0.3\n",
    "R = np.array([6,12,18,24,30])\n",
    "a_pas = a/R\n",
    "a_dyn = a/R/(nosn/2)\n",
    "\n",
    "# colormaps - np.linspace(0, 1, len(a)) can be used as well\n",
    "colors_cen = mpl.cm.autumn((np.arange(0, 1, 1.0/len(a_dyn))+0.3)/1.2)\n",
    "colors_fla = mpl.cm.Blues((np.arange(0, 1, 1.0/len(a_dyn))+0.3)/1.2)"
   ]
  },
  {
   "cell_type": "code",
   "execution_count": 144,
   "metadata": {
    "collapsed": false
   },
   "outputs": [],
   "source": [
    "matrix2 = calculateMatrixB(nosn)"
   ]
  },
  {
   "cell_type": "code",
   "execution_count": 145,
   "metadata": {
    "collapsed": false
   },
   "outputs": [
    {
     "data": {
      "text/plain": [
       "\"\\nmpl.rcParams.update({'font.size':32})\\nfig_size = 20\\nplt.figure(figsize=[fig_size, fig_size])\\nplt.imshow(matrix)\\nplt.colorbar(shrink=0.8, pad = 0.05)\\nplt.xticks([50,150,250],['left flanker', 'center', 'right flanker'])\\nplt.yticks([50,150,250],['left flanker', 'center', 'right flanker'])\\nplt.savefig('../Report/Pictures/experiments/fig5/figB/matrix.png', dpi=200,bbox_inches='tight')\\n\""
      ]
     },
     "execution_count": 145,
     "metadata": {},
     "output_type": "execute_result"
    }
   ],
   "source": [
    "'''\n",
    "mpl.rcParams.update({'font.size':32})\n",
    "fig_size = 20\n",
    "plt.figure(figsize=[fig_size, fig_size])\n",
    "plt.imshow(matrix)\n",
    "plt.colorbar(shrink=0.8, pad = 0.05)\n",
    "plt.xticks([50,150,250],['left flanker', 'center', 'right flanker'])\n",
    "plt.yticks([50,150,250],['left flanker', 'center', 'right flanker'])\n",
    "plt.savefig('../Report/Pictures/experiments/fig5/figB/matrix.png', dpi=200,bbox_inches='tight')\n",
    "'''"
   ]
  },
  {
   "cell_type": "code",
   "execution_count": 78,
   "metadata": {
    "collapsed": false
   },
   "outputs": [],
   "source": [
    "#----- One line of one of the squares of the matrix -----\n",
    "#plt.plot(matrix[0,100:200])\n",
    "#nosn"
   ]
  },
  {
   "cell_type": "code",
   "execution_count": 146,
   "metadata": {
    "collapsed": false
   },
   "outputs": [
    {
     "name": "stdout",
     "output_type": "stream",
     "text": [
      "(1, 1)\n"
     ]
    }
   ],
   "source": [
    "import copy\n",
    "setNumberOfColors(number_of_experiments)\n",
    "\n",
    "orientations = np.arange(0, np.pi, np.pi/nosn)\n",
    "\n",
    "flanker_orientation = pl.linspace(pl.pi/2,pl.pi,number_of_experiments)\n",
    "flankers = np.zeros((a_dyn.shape[0],number_of_experiments))\n",
    "centers = np.zeros((a_dyn.shape[0],number_of_experiments))\n",
    "print(A,k)\n",
    "for i in range(number_of_experiments):\n",
    "    for j in range(a_dyn.shape[0]):\n",
    "        responses = np.zeros((nosn, timesteps))\n",
    "        t = np.arange(0,timesteps,1)\n",
    "        ac_orient = np.array([[flanker_orientation[i]],[center],[flanker_orientation[i]]])\n",
    "        spikes_ = vonMises(A,k,ac_orient,orientations)\n",
    "        spikes = spikes_.ravel(order='F')\n",
    "        r = np.zeros(len(spikes))\n",
    "        drdt = spikes/tau\n",
    "        rs = np.zeros(spikes.shape + (len(t),))\n",
    "        matrix = a_dyn[j]*matrix2\n",
    "        for s in range(len(t)):\n",
    "            r = r + drdt\n",
    "            drdt = (-r + (spikes + np.dot(matrix,r)).clip(min=0))/tau\n",
    "            rs[:,s] = r\n",
    "        rs = np.reshape(rs, spikes_.shape + (len(t),), order='F')\n",
    "        if (i==12 and j==0):\n",
    "            rs_test = copy.copy(rs)\n",
    "            (direction_test, magnitude_test) = populationVector(orientations, rs, nosn, timesteps)\n",
    "        (direction, magnitude) = populationVector(orientations, rs, nosn, timesteps)\n",
    "        flankers[j,i] = direction[0,0,number_of_experiments-1]\n",
    "        centers[j,i] = direction[1,0,number_of_experiments-1]"
   ]
  },
  {
   "cell_type": "code",
   "execution_count": 147,
   "metadata": {
    "collapsed": false
   },
   "outputs": [
    {
     "data": {
      "text/plain": [
       "[<matplotlib.lines.Line2D at 0x900e450>]"
      ]
     },
     "execution_count": 147,
     "metadata": {},
     "output_type": "execute_result"
    },
    {
     "data": {
      "image/png": "[encoded data removed]",
      "text/plain": [
       "<matplotlib.figure.Figure at 0x901c510>"
      ]
     },
     "metadata": {},
     "output_type": "display_data"
    }
   ],
   "source": [
    "plt.plot(np.squeeze(direction_test[1,:,:]))\n",
    "plt.plot(np.squeeze(direction_test[0,:,:]))"
   ]
  },
  {
   "cell_type": "code",
   "execution_count": 148,
   "metadata": {
    "collapsed": false
   },
   "outputs": [
    {
     "data": {
      "text/plain": [
       "[<matplotlib.lines.Line2D at 0x85c56d0>]"
      ]
     },
     "execution_count": 148,
     "metadata": {},
     "output_type": "execute_result"
    },
    {
     "data": {
      "image/png": "[encoded data removed]",
      "text/plain": [
       "<matplotlib.figure.Figure at 0x902bb10>"
      ]
     },
     "metadata": {},
     "output_type": "display_data"
    }
   ],
   "source": [
    "plt.plot(np.squeeze(magnitude_test[1,:,:]))"
   ]
  },
  {
   "cell_type": "code",
   "execution_count": 155,
   "metadata": {
    "collapsed": false
   },
   "outputs": [
    {
     "ename": "RuntimeError",
     "evalue": "No mappable was found to use for colorbar creation. First define a mappable such as an image (with imshow) or a contour set (with contourf).",
     "output_type": "error",
     "traceback": [
      "\u001b[1;31m---------------------------------------------------------------------------\u001b[0m",
      "\u001b[1;31mRuntimeError\u001b[0m                              Traceback (most recent call last)",
      "\u001b[1;32m<ipython-input-155-61c695294ab1>\u001b[0m in \u001b[0;36m<module>\u001b[1;34m()\u001b[0m\n\u001b[0;32m      2\u001b[0m \u001b[1;32mfor\u001b[0m \u001b[0mi\u001b[0m \u001b[1;32min\u001b[0m \u001b[0mrange\u001b[0m\u001b[1;33m(\u001b[0m\u001b[1;36m50\u001b[0m\u001b[1;33m)\u001b[0m\u001b[1;33m:\u001b[0m\u001b[1;33m\u001b[0m\u001b[0m\n\u001b[0;32m      3\u001b[0m     \u001b[0mplt\u001b[0m\u001b[1;33m.\u001b[0m\u001b[0mplot\u001b[0m\u001b[1;33m(\u001b[0m\u001b[0mnp\u001b[0m\u001b[1;33m.\u001b[0m\u001b[0msqueeze\u001b[0m\u001b[1;33m(\u001b[0m\u001b[0mrs_test\u001b[0m\u001b[1;33m[\u001b[0m\u001b[1;33m:\u001b[0m\u001b[1;33m,\u001b[0m\u001b[1;36m0\u001b[0m\u001b[1;33m,\u001b[0m\u001b[1;33m:\u001b[0m\u001b[1;33m,\u001b[0m\u001b[0mi\u001b[0m\u001b[1;33m]\u001b[0m\u001b[1;33m)\u001b[0m\u001b[1;33m,\u001b[0m \u001b[0mcolor\u001b[0m\u001b[1;33m=\u001b[0m\u001b[0mcolors_timestep\u001b[0m\u001b[1;33m[\u001b[0m\u001b[0mi\u001b[0m\u001b[1;33m]\u001b[0m\u001b[1;33m)\u001b[0m\u001b[1;33m\u001b[0m\u001b[0m\n\u001b[1;32m----> 4\u001b[1;33m \u001b[0mplt\u001b[0m\u001b[1;33m.\u001b[0m\u001b[0mcolorbar\u001b[0m\u001b[1;33m(\u001b[0m\u001b[1;33m)\u001b[0m\u001b[1;33m\u001b[0m\u001b[0m\n\u001b[0m",
      "\u001b[1;32m/afs/inf.ed.ac.uk/user/s12/s1247380/Documents/HonoursProject/Python/venv/lib/python2.7/site-packages/matplotlib/pyplot.pyc\u001b[0m in \u001b[0;36mcolorbar\u001b[1;34m(mappable, cax, ax, **kw)\u001b[0m\n\u001b[0;32m   2228\u001b[0m         \u001b[0mmappable\u001b[0m \u001b[1;33m=\u001b[0m \u001b[0mgci\u001b[0m\u001b[1;33m(\u001b[0m\u001b[1;33m)\u001b[0m\u001b[1;33m\u001b[0m\u001b[0m\n\u001b[0;32m   2229\u001b[0m         \u001b[1;32mif\u001b[0m \u001b[0mmappable\u001b[0m \u001b[1;32mis\u001b[0m \u001b[0mNone\u001b[0m\u001b[1;33m:\u001b[0m\u001b[1;33m\u001b[0m\u001b[0m\n\u001b[1;32m-> 2230\u001b[1;33m             raise RuntimeError('No mappable was found to use for colorbar '\n\u001b[0m\u001b[0;32m   2231\u001b[0m                                \u001b[1;34m'creation. First define a mappable such as '\u001b[0m\u001b[1;33m\u001b[0m\u001b[0m\n\u001b[0;32m   2232\u001b[0m                                \u001b[1;34m'an image (with imshow) or a contour set ('\u001b[0m\u001b[1;33m\u001b[0m\u001b[0m\n",
      "\u001b[1;31mRuntimeError\u001b[0m: No mappable was found to use for colorbar creation. First define a mappable such as an image (with imshow) or a contour set (with contourf)."
     ]
    },
    {
     "data": {
      "image/png": "[encoded data removed]",
      "text/plain": [
       "<matplotlib.figure.Figure at 0x7fadf10>"
      ]
     },
     "metadata": {},
     "output_type": "display_data"
    }
   ],
   "source": [
    "colors_timestep = mpl.cm.autumn(np.arange(0, 1, 1.0/50))\n",
    "for i in range(50):\n",
    "    plt.plot(np.squeeze(rs_test[:,0,:,i]), color=colors_timestep[i])\n",
    "plt.colorbar()"
   ]
  },
  {
   "cell_type": "code",
   "execution_count": 153,
   "metadata": {
    "collapsed": false
   },
   "outputs": [
    {
     "data": {
      "text/plain": [
       "(32, 3, 1, 50)"
      ]
     },
     "execution_count": 153,
     "metadata": {},
     "output_type": "execute_result"
    }
   ],
   "source": [
    "rs_test.shape"
   ]
  },
  {
   "cell_type": "code",
   "execution_count": 93,
   "metadata": {
    "collapsed": false
   },
   "outputs": [
    {
     "data": {
      "image/png": "[encoded data removed]",
      "text/plain": [
       "<matplotlib.figure.Figure at 0x51c4e10>"
      ]
     },
     "metadata": {},
     "output_type": "display_data"
    }
   ],
   "source": [
    "import matplotlib as mpl\n",
    "mpl.rcParams.update({'font.size':16})\n",
    "for i in np.arange(0,a_dyn.shape[0],1):\n",
    "    name = 'cen' + str(i) + ','\n",
    "    exec(name + \" = plt.plot((centers[i,:]-np.pi/2)*57.2958, label=R[i], color=colors_cen[i])\")\n",
    "plt.legend(handles=[cen0,cen1,cen2,cen3,cen4])\n",
    "plt.xlim([0,24])\n",
    "plt.ylim([-5.5,5.5])\n",
    "plt.yticks([-5,0,5],[-5,0,5])\n",
    "plt.xticks([0,12,24],[90,  135,  180])\n",
    "plt.xlabel('Flanker orientations')\n",
    "plt.ylabel('Bias(deg)')\n",
    "plt.savefig('../Report/Pictures/experiments/fig5/figB/d_cen_b.png', dpi=200,bbox_inches='tight')"
   ]
  },
  {
   "cell_type": "code",
   "execution_count": 81,
   "metadata": {
    "collapsed": false
   },
   "outputs": [
    {
     "data": {
      "image/png": "[encoded data removed]",
      "text/plain": [
       "<matplotlib.figure.Figure at 0x5846d90>"
      ]
     },
     "metadata": {},
     "output_type": "display_data"
    }
   ],
   "source": [
    "#### import matplotlib as mpl\n",
    "mpl.rcParams.update({'font.size':16})\n",
    "for i in np.arange(0,a_dyn.shape[0],1):\n",
    "    name = 'cen' + str(i) + ','\n",
    "    exec(name + \" = plt.plot(norm_plot(flankers[i,:]-flanker_orientation)*57.2958, label=R[i], color=colors_fla[i])\")\n",
    "#for i in np.arange(0,a.shape[0],1):\n",
    "#    plt.plot(flankers[i,:]-flanker_orientation)\n",
    "plt.legend(handles=[cen0,cen1,cen2,cen3,cen4], loc=4)\n",
    "plt.xlim([0,24])\n",
    "plt.ylim([-5.5,5.5])\n",
    "plt.yticks([-5,0,5],[-5,0,5])\n",
    "plt.xticks([0,12,24],[90,  135,  180])\n",
    "plt.xlabel('Flanker orientations')\n",
    "plt.ylabel('Bias(deg)')\n",
    "plt.savefig('../Report/Pictures/experiments/fig5/figB/d_flan_b.png', dpi=200,bbox_inches='tight')"
   ]
  },
  {
   "cell_type": "code",
   "execution_count": 82,
   "metadata": {
    "collapsed": false
   },
   "outputs": [],
   "source": [
    "%output size=300\n",
    "#flankers_[0,] = flankers[0,:]-flanker_orientation\n",
    "plot = hv.Curve(norm_plot(flankers[0,:]-flanker_orientation))\n",
    "for i in np.arange(1,a_dyn.shape[0],1):\n",
    "    plot *= hv.Curve(norm_plot(flankers[i,:]-flanker_orientation))\n",
    "#plot(plot={'aspect':3})"
   ]
  },
  {
   "cell_type": "code",
   "execution_count": 83,
   "metadata": {
    "collapsed": false
   },
   "outputs": [],
   "source": [
    "flanker_orientation = pl.linspace(pl.pi/2,pl.pi,number_of_experiments)\n",
    "flankers = np.zeros((a_pas.shape[0],number_of_experiments))\n",
    "centers = np.zeros((a_pas.shape[0],number_of_experiments))\n",
    "orientations = np.arange(0, np.pi, np.pi/nosn)\n",
    "\n",
    "for i in range(number_of_experiments):\n",
    "    for j in range(a_pas.shape[0]):\n",
    "        # elastica energies for different flanker orientations (calculated below)\n",
    "        energies = np.zeros(nn)\n",
    "\n",
    "\n",
    "        # Elastica energies between neuron with orientation 1 rad and population of 32 neurons with variable orientation from 0 to pi\n",
    "        for s in range(nn):\n",
    "            energies[s] = en.E(orientations[s],flanker_orientation[i],[1,0])\n",
    "\n",
    "\n",
    "        modulation_ad = -a_pas[j]*(energies - E0)\n",
    "\n",
    "\n",
    "        # Central drive\n",
    "        curve,x,y = mises_curve(A,k,center,neuron=nn)\n",
    "        centers[j,i] = popvec((y+2*modulation_ad).clip(min=0),nn)\n"
   ]
  },
  {
   "cell_type": "code",
   "execution_count": 84,
   "metadata": {
    "collapsed": false
   },
   "outputs": [
    {
     "data": {
      "image/png": "[encoded data removed]",
      "text/plain": [
       "<matplotlib.figure.Figure at 0x51c4610>"
      ]
     },
     "metadata": {},
     "output_type": "display_data"
    }
   ],
   "source": [
    "for i in np.arange(0,a_pas.shape[0],1):\n",
    "    name = 'cen' + str(i) + ','\n",
    "    exec(name + \" = plt.plot(norm_plot(centers[i,:]-np.pi/2)*57.2958, label=R[i], color=colors_cen[i])\")\n",
    "plt.legend(handles=[cen0,cen1,cen2,cen3,cen4])\n",
    "plt.xlim([0,24])\n",
    "plt.ylim([-5.5,5.5])\n",
    "plt.yticks([-5,0,5],[-5,0,5])\n",
    "plt.xticks([0,12,24],[90, 135, 180])\n",
    "#plt.yticks([-5,0,5],[-5,0,5])\n",
    "plt.xlabel('Flanker orientations')\n",
    "plt.ylabel('Bias(rad)')\n",
    "plt.savefig('../Report/Pictures/experiments/fig5/figB/p_cen_b.png', dpi=200,bbox_inches='tight')"
   ]
  },
  {
   "cell_type": "code",
   "execution_count": 85,
   "metadata": {
    "collapsed": false
   },
   "outputs": [],
   "source": [
    "%output size=300\n",
    "plot = hv.Curve(norm_plot(centers[0,:]-np.pi/2))\n",
    "for i in np.arange(1,a_pas.shape[0],1):\n",
    "    plot *= hv.Curve(norm_plot(centers[i,:]-np.pi/2))\n",
    "#plot(plot={'aspect':3})"
   ]
  },
  {
   "cell_type": "code",
   "execution_count": null,
   "metadata": {
    "collapsed": true
   },
   "outputs": [],
   "source": []
  }
 ],
 "metadata": {
  "kernelspec": {
   "display_name": "Python 2",
   "language": "python",
   "name": "python2"
  },
  "language_info": {
   "codemirror_mode": {
    "name": "ipython",
    "version": 2
   },
   "file_extension": ".py",
   "mimetype": "text/x-python",
   "name": "python",
   "nbconvert_exporter": "python",
   "pygments_lexer": "ipython2",
   "version": "2.7.5"
  }
 },
 "nbformat": 4,
 "nbformat_minor": 0
}
