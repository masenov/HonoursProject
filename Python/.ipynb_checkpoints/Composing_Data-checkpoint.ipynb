{
 "cells": [
  {
   "cell_type": "markdown",
   "metadata": {},
   "source": [
    "The [Containers](Containers) tutorial shows examples of each of the container types in HoloViews, and it is useful to work through that before focusing on this one.  \n",
    "\n",
    "This tutorial shows you how to combine the various container types, in order to build data structures that can contain all of the data that you want to visualize or analyze, in an extremely flexible way.  For instance, you may have a large set of measurements of different types of data (numerical, image, textual notations, etc.) from different experiments done on different days, with various different parameter values associated with each one.  HoloViews can store all of this data together, which will allow you to select just the right bit of data \"on the fly\" for any particular analysis or visualization, by indexing, slicing, selecting, and sampling in this data structure.\n",
    "\n",
    "To illustrate the full functionality provided, we will create an example of the maximally nested object structure currently possible with HoloViews:"
   ]
  },
  {
   "cell_type": "code",
   "execution_count": 1,
   "metadata": {
    "collapsed": false
   },
   "outputs": [
    {
     "name": "stderr",
     "output_type": "stream",
     "text": [
      "/usr/lib/python2.7/site-packages/matplotlib/__init__.py:872: UserWarning: axes.color_cycle is deprecated and replaced with axes.prop_cycle; please use the latter.\n",
      "  warnings.warn(self.msg_depr % (key, alt_key))\n"
     ]
    },
    {
     "data": {
      "text/html": [
       "<script type=\"text/javascript\">\n",
       "function HoloViewsWidget(){\n",
       "        }\n",
       "        \n",
       "        HoloViewsWidget.prototype.init_slider = function(init_val){\n",
       "            if(this.cached) {\n",
       "                this.update_cache();\n",
       "                this.update(0);\n",
       "            } else {\n",
       "                this.dynamic_update(0);\n",
       "            }\n",
       "        }\n",
       "        \n",
       "        HoloViewsWidget.prototype.populate_cache = function(idx){\n",
       "            if(this.load_json) {\n",
       "        \t\tvar data_url = \"./\" + this.id + '.json';\n",
       "        \t\t$.getJSON(data_url, $.proxy(function(json_data) {\n",
       "        \t\t\tthis.frames = json_data;\n",
       "        \t\t\t$.each(this.frames, $.proxy(function(index, frame) {\n",
       "        \t\t\t\tthis.cache[index].html(frame);\n",
       "        \t\t\t}, this));\n",
       "        \t\t}, this));\n",
       "            } else {\n",
       "                this.cache[idx].html(this.frames[idx]);\n",
       "                if (this.embed) {\n",
       "                    delete this.frames[idx];\n",
       "                }\n",
       "            }\n",
       "        }\n",
       "        \n",
       "        HoloViewsWidget.prototype.process_error = function(msg){\n",
       "        \n",
       "        }\n",
       "        \n",
       "        \n",
       "        \n",
       "        HoloViewsWidget.prototype.dynamic_update = function(current){\n",
       "            function callback(msg){\n",
       "                /* This callback receives data from Python as a string\n",
       "                 in order to parse it correctly quotes are sliced off*/\n",
       "                var data = msg.content.data['text/plain'].slice(1, -1);\n",
       "                this.frames[current] = data;\n",
       "                this.update_cache();\n",
       "                this.update(current);\n",
       "            }\n",
       "            if(!(current in this.cache)) {\n",
       "                var kernel = IPython.notebook.kernel;\n",
       "                callbacks = {iopub: {output: $.proxy(callback, this)}};\n",
       "                var cmd = \"holoviews.plotting.widgets.NdWidget.widgets['\" + this.id + \"'].update(\" + current + \")\";\n",
       "                kernel.execute(\"import holoviews;\" + cmd, callbacks, {silent : false});\n",
       "            } else {\n",
       "                this.update(current);\n",
       "            }\n",
       "        }\n",
       "        \n",
       "        HoloViewsWidget.prototype.update_cache = function(){\n",
       "            if(this.load_json) {\n",
       "                var frame_len = Object.keys(this.keyMap).length;\n",
       "            } else {\n",
       "                var frame_len = Object.keys(this.frames).length;\n",
       "            }\n",
       "            for (var i=0; i<frame_len; i++) {\n",
       "                if(!this.load_json || this.dynamic)  {\n",
       "                    frame = Object.keys(this.frames)[i];\n",
       "                } else {\n",
       "                    frame = i;\n",
       "                }\n",
       "                if(!(frame in this.cache)) {\n",
       "                    this.cache[frame] = $('<div />').appendTo(\"#\" + this.img_id).hide();\n",
       "                    var cache_id = this.img_id+\"_\"+frame;\n",
       "                    this.cache[frame].attr(\"id\", cache_id);\n",
       "                    this.populate_cache(frame);\n",
       "                }\n",
       "            }\n",
       "        }\n",
       "        \n",
       "        HoloViewsWidget.prototype.update = function(current){\n",
       "            if(current in this.cache) {\n",
       "                $.each(this.cache, function(index, value) {\n",
       "                    value.hide();\n",
       "                });\n",
       "                this.cache[current].show();\n",
       "            }\n",
       "        }\n",
       "        \n",
       "        \n",
       "        function SelectionWidget(frames, id, slider_ids, keyMap, dim_vals, notFound, load_json, mode, cached, json_path, dynamic){\n",
       "            this.frames = frames;\n",
       "            this.fig_id = \"fig_\" + id;\n",
       "            this.img_id = \"_anim_img\" + id;\n",
       "            this.id = id;\n",
       "            this.slider_ids = slider_ids;\n",
       "            this.keyMap = keyMap\n",
       "            this.current_frame = 0;\n",
       "            this.current_vals = dim_vals;\n",
       "            this.load_json = load_json;\n",
       "            this.mode = mode;\n",
       "            this.notFound = notFound;\n",
       "            this.cached = cached;\n",
       "            this.dynamic = dynamic;\n",
       "            this.cache = {};\n",
       "        \tthis.json_path = json_path;\n",
       "            this.init_slider(this.current_vals[0]);\n",
       "        }\n",
       "        \n",
       "        SelectionWidget.prototype = new HoloViewsWidget;\n",
       "        \n",
       "        SelectionWidget.prototype.set_frame = function(dim_val, dim_idx){\n",
       "            this.current_vals[dim_idx] = dim_val;\n",
       "            if(this.dynamic) {\n",
       "                this.dynamic_update(this.current_vals)\n",
       "                return;\n",
       "            }\n",
       "            var key = \"(\";\n",
       "            for (var i=0; i<this.slider_ids.length; i++)\n",
       "            {\n",
       "                val = this.current_vals[i];\n",
       "                if (!(_.isString(val))) {\n",
       "                    if (val % 1 === 0) { var fixed = 1;}\n",
       "                    else { var fixed = 10;}\n",
       "                    val = val.toFixed(fixed)\n",
       "                }\n",
       "                key += \"'\" + val + \"'\";\n",
       "                if(i != this.slider_ids.length-1) { key += ', ';}\n",
       "                else if(this.slider_ids.length == 1) { key += ',';}\n",
       "            }\n",
       "            key += \")\";\n",
       "            var current = this.keyMap[key];\n",
       "            this.current_frame = current;\n",
       "            if(this.cached) {\n",
       "                this.update(current)\n",
       "            } else {\n",
       "                this.dynamic_update(current)\n",
       "            }\n",
       "        }\n",
       "        \n",
       "        \n",
       "        /* Define the ScrubberWidget class */\n",
       "        function ScrubberWidget(frames, num_frames, id, interval, load_json, mode, cached, json_path, dynamic){\n",
       "            this.img_id = \"_anim_img\" + id;\n",
       "            this.slider_id = \"_anim_slider\" + id;\n",
       "            this.loop_select_id = \"_anim_loop_select\" + id;\n",
       "            this.id = id;\n",
       "            this.fig_id = \"fig_\" + id;\n",
       "            this.interval = interval;\n",
       "            this.current_frame = 0;\n",
       "            this.direction = 0;\n",
       "            this.dynamic = dynamic;\n",
       "            this.timer = null;\n",
       "            this.load_json = load_json;\n",
       "            this.mode = mode;\n",
       "            this.cached = cached;\n",
       "            this.frames = frames;\n",
       "            this.cache = {};\n",
       "            this.length = num_frames;\n",
       "        \tthis.json_path = json_path;\n",
       "            document.getElementById(this.slider_id).max = this.length - 1;\n",
       "            this.init_slider(0);\n",
       "        }\n",
       "        \n",
       "        ScrubberWidget.prototype = new HoloViewsWidget;\n",
       "        \n",
       "        ScrubberWidget.prototype.set_frame = function(frame){\n",
       "            this.current_frame = frame;\n",
       "            document.getElementById(this.slider_id).value = this.current_frame;\n",
       "            if(this.cached) {\n",
       "                this.update(frame)\n",
       "            } else {\n",
       "                this.dynamic_update(frame)\n",
       "            }\n",
       "        }\n",
       "        \n",
       "        \n",
       "        ScrubberWidget.prototype.process_error = function(msg){\n",
       "        \tif (msg.content.ename === 'StopIteration') {\n",
       "        \t\tthis.pause_animation();\n",
       "        \t\tvar keys = Object.keys(this.frames)\n",
       "        \t\tthis.length = keys.length;\n",
       "        \t\tdocument.getElementById(this.slider_id).max = this.length-1;\n",
       "        \t\tdocument.getElementById(this.slider_id).value = this.length-1;\n",
       "        \t\tthis.current_frame = this.length-1;\n",
       "        \t}\n",
       "        }\n",
       "        \n",
       "        \n",
       "        ScrubberWidget.prototype.get_loop_state = function(){\n",
       "            var button_group = document[this.loop_select_id].state;\n",
       "            for (var i = 0; i < button_group.length; i++) {\n",
       "                var button = button_group[i];\n",
       "                if (button.checked) {\n",
       "                    return button.value;\n",
       "                }\n",
       "            }\n",
       "            return undefined;\n",
       "        }\n",
       "        \n",
       "        \n",
       "        ScrubberWidget.prototype.next_frame = function() {\n",
       "        \tif (this.dynamic && this.current_frame + 1 >= this.length) {\n",
       "        \t\tthis.length += 1;\n",
       "                document.getElementById(this.slider_id).max = this.length-1;\n",
       "        \t}\n",
       "            this.set_frame(Math.min(this.length - 1, this.current_frame + 1));\n",
       "        }\n",
       "        \n",
       "        ScrubberWidget.prototype.previous_frame = function() {\n",
       "            this.set_frame(Math.max(0, this.current_frame - 1));\n",
       "        }\n",
       "        \n",
       "        ScrubberWidget.prototype.first_frame = function() {\n",
       "            this.set_frame(0);\n",
       "        }\n",
       "        \n",
       "        ScrubberWidget.prototype.last_frame = function() {\n",
       "            this.set_frame(this.length - 1);\n",
       "        }\n",
       "        \n",
       "        ScrubberWidget.prototype.slower = function() {\n",
       "            this.interval /= 0.7;\n",
       "            if(this.direction > 0){this.play_animation();}\n",
       "            else if(this.direction < 0){this.reverse_animation();}\n",
       "        }\n",
       "        \n",
       "        ScrubberWidget.prototype.faster = function() {\n",
       "            this.interval *= 0.7;\n",
       "            if(this.direction > 0){this.play_animation();}\n",
       "            else if(this.direction < 0){this.reverse_animation();}\n",
       "        }\n",
       "        \n",
       "        ScrubberWidget.prototype.anim_step_forward = function() {\n",
       "            if(this.current_frame < this.length || this.dynamic){\n",
       "                this.next_frame();\n",
       "            }else{\n",
       "                var loop_state = this.get_loop_state();\n",
       "                if(loop_state == \"loop\"){\n",
       "                    this.first_frame();\n",
       "                }else if(loop_state == \"reflect\"){\n",
       "                    this.last_frame();\n",
       "                    this.reverse_animation();\n",
       "                }else{\n",
       "                    this.pause_animation();\n",
       "                    this.last_frame();\n",
       "                }\n",
       "            }\n",
       "        }\n",
       "        \n",
       "        ScrubberWidget.prototype.anim_step_reverse = function() {\n",
       "            this.current_frame -= 1;\n",
       "            if(this.current_frame >= 0){\n",
       "                this.set_frame(this.current_frame);\n",
       "            } else {\n",
       "                var loop_state = this.get_loop_state();\n",
       "                if(loop_state == \"loop\"){\n",
       "                    this.last_frame();\n",
       "                }else if(loop_state == \"reflect\"){\n",
       "                    this.first_frame();\n",
       "                    this.play_animation();\n",
       "                }else{\n",
       "                    this.pause_animation();\n",
       "                    this.first_frame();\n",
       "                }\n",
       "            }\n",
       "        }\n",
       "        \n",
       "        ScrubberWidget.prototype.pause_animation = function() {\n",
       "            this.direction = 0;\n",
       "            if (this.timer){\n",
       "                clearInterval(this.timer);\n",
       "                this.timer = null;\n",
       "            }\n",
       "        }\n",
       "        \n",
       "        ScrubberWidget.prototype.play_animation = function() {\n",
       "            this.pause_animation();\n",
       "            this.direction = 1;\n",
       "            var t = this;\n",
       "            if (!this.timer) this.timer = setInterval(function(){t.anim_step_forward();}, this.interval);\n",
       "        }\n",
       "        \n",
       "        ScrubberWidget.prototype.reverse_animation = function() {\n",
       "            this.pause_animation();\n",
       "            this.direction = -1;\n",
       "            var t = this;\n",
       "            if (!this.timer) this.timer = setInterval(function(){t.anim_step_reverse();}, this.interval);\n",
       "        }\n",
       "        \n",
       "        function extend(destination, source) {\n",
       "            for (var k in source) {\n",
       "                if (source.hasOwnProperty(k)) {\n",
       "                    destination[k] = source[k];\n",
       "                }\n",
       "            }\n",
       "            return destination;\n",
       "        }\n",
       "        \n",
       "        function update_widget(widget, values) {\n",
       "        \tif (widget.hasClass(\"ui-slider\")) {\n",
       "        \t\twidget.slider('option',\n",
       "        \t\t\t\t\t  {'min': 0, 'max': values.length-1,\n",
       "        \t\t\t\t\t   'dim_vals': values, 'value': 0})\n",
       "        \t\twidget.slider('option', 'slide').call(widget, event, {'value': 0})\n",
       "        \t} else {\n",
       "        \t\twidget.empty();\n",
       "        \t\tfor (var i=0; i<values.length; i++){\n",
       "        \t\t\twidget.append($(\"<option>\", {\n",
       "        \t\t\t\tvalue: i,\n",
       "        \t\t\t\ttext: values[i]\n",
       "        \t\t\t}))};\n",
       "        \t\twidget.trigger(\"change\");\n",
       "        \t};\n",
       "        }\n",
       "        \n",
       "        // Define MPL specific subclasses\n",
       "        function MPLSelectionWidget() {\n",
       "        \tSelectionWidget.apply(this, arguments);\n",
       "        }\n",
       "        \n",
       "        function MPLScrubberWidget() {\n",
       "        \tScrubberWidget.apply(this, arguments);\n",
       "        }\n",
       "        \n",
       "        // Let them inherit from the baseclasses\n",
       "        MPLSelectionWidget.prototype = Object.create(SelectionWidget.prototype);\n",
       "        MPLScrubberWidget.prototype = Object.create(ScrubberWidget.prototype);\n",
       "        \n",
       "        // Define methods to override on widgets\n",
       "        var MPLMethods = {\n",
       "        \tinit_slider : function(init_val){\n",
       "        \t\tif(this.mode == 'nbagg') {\n",
       "        \t\t\tthis.update_cache();\n",
       "        \t\t\tthis.update(0);\n",
       "        \t\t\tthis.set_frame(init_val, 0);\n",
       "        \t\t} else if(this.cached) {\n",
       "        \t\t\tthis.update_cache();\n",
       "        \t\t\tthis.update(0);\n",
       "        \t\t} else {\n",
       "        \t\t\tthis.dynamic_update(0);\n",
       "        \t\t}\n",
       "        \t},\n",
       "        \tpopulate_cache : function(idx){\n",
       "        \t\tvar cache_id = this.img_id+\"_\"+idx;\n",
       "        \t\tif(this.load_json) {\n",
       "        \t\t\tvar data_url = this.json_path + '/' + this.id + '.json';\n",
       "        \t\t\t$.getJSON(data_url, $.proxy(function(json_data) {\n",
       "        \t\t\t\tif(this.mode == 'mpld3') {\n",
       "        \t\t\t\t\tmpld3.draw_figure(cache_id, json_data[idx]);\n",
       "        \t\t\t\t} else {\n",
       "        \t\t\t\t\tthis.cache[idx].html(json_data[idx]);\n",
       "        \t\t\t\t}\n",
       "        \t\t\t}, this));\n",
       "        \t\t} else {\n",
       "        \t\t\tif(this.mode == 'mpld3') {\n",
       "        \t\t\t\tmpld3.draw_figure(cache_id, this.frames[idx]);\n",
       "        \t\t\t} else {\n",
       "        \t\t\t\tthis.cache[idx].html(this.frames[idx]);\n",
       "        \t\t\t}\n",
       "        \t\t}\n",
       "        \t},\n",
       "        \tdynamic_update : function(current){\n",
       "        \t\tif (this.dynamic) {\n",
       "        \t\t\tcurrent = JSON.stringify(current);\n",
       "        \t\t}\n",
       "        \t\tfunction callback(msg){\n",
       "        \t\t\t/* This callback receives data from Python as a string\n",
       "        \t\t\t in order to parse it correctly quotes are sliced off*/\n",
       "        \t\t\tif (msg.content.ename != undefined) {\n",
       "        \t\t\t\tthis.process_error(msg);\n",
       "        \t\t\t}\n",
       "        \t\t\tif (msg.msg_type != \"execute_result\") {\n",
       "        \t\t\t\tconsole.log(\"Warning: HoloViews callback returned unexpected data for key: (\", current, \") with the following content:\", msg.content)\n",
       "        \t\t\t\treturn\n",
       "        \t\t\t}\n",
       "        \t\t\tif (!(this.mode == 'nbagg')) {\n",
       "        \t\t\t\tif(!(current in this.cache)) {\n",
       "        \t\t\t\t\tvar data = msg.content.data['text/plain'].slice(1, -1);\n",
       "        \t\t\t\t\tif(this.mode == 'mpld3'){\n",
       "        \t\t\t\t\t\tdata = JSON.parse(data)[0];\n",
       "        \t\t\t\t\t}\n",
       "        \t\t\t\t\tthis.frames[current] = data;\n",
       "        \t\t\t\t\tthis.update_cache();\n",
       "        \t\t\t\t}\n",
       "        \t\t\t\tthis.update(current);\n",
       "        \t\t\t}\n",
       "        \t\t}\n",
       "        \t\tif((this.mode == 'nbagg') || !(current in this.cache)) {\n",
       "        \t\t\tvar kernel = IPython.notebook.kernel;\n",
       "        \t\t\tcallbacks = {iopub: {output: $.proxy(callback, this)}};\n",
       "        \t\t\tvar cmd = \"holoviews.plotting.widgets.NdWidget.widgets['\" + this.id + \"'].update(\" + current + \")\";\n",
       "        \t\t\tkernel.execute(\"import holoviews;\" + cmd, callbacks, {silent : false});\n",
       "        \t\t} else {\n",
       "        \t\t\tthis.update(current);\n",
       "        \t\t}\n",
       "        \t}\n",
       "        }\n",
       "        \n",
       "        // Extend MPL widgets with backend specific methods\n",
       "        extend(MPLSelectionWidget.prototype, MPLMethods);\n",
       "        extend(MPLScrubberWidget.prototype, MPLMethods);\n",
       "</script>\n",
       "\n",
       "<style>\n",
       "div.hololayout {\n",
       "            display: flex;\n",
       "            align-items: center;\n",
       "            margin: 0;\n",
       "        }\n",
       "        \n",
       "        form.holoform {\n",
       "            background-color: #fafafa;\n",
       "            border-radius: 5px;\n",
       "            overflow: hidden;\n",
       "            padding: 0.8em;\n",
       "        }\n",
       "        \n",
       "        div.holoslider {\n",
       "            min-height: 0 !important;\n",
       "            height: 0.8em;\n",
       "        }\n",
       "        \n",
       "        div.holoformgroup {\n",
       "            padding-right: 0.5em;\n",
       "            padding-top: 0.5em;\n",
       "            margin-bottom: 0.5em;\n",
       "        }\n",
       "        \n",
       "        div.hologroup {\n",
       "            padding-left: 0;\n",
       "            padding-right: 0.6em;\n",
       "        }\n",
       "        \n",
       "        .holoselect {\n",
       "            width: 92%;\n",
       "            margin-left: 0;\n",
       "            margin-right: 0;\n",
       "        }\n",
       "        \n",
       "        .holotext {\n",
       "            width: 100%;\n",
       "            padding-left:  0.5em;\n",
       "            padding-right: 0;\n",
       "        }\n",
       "</style>\n",
       "\n",
       "\n",
       "<div>\n",
       "<img src='data:image/png;base64,iVBORw0KGgoAAAANSUhEUgAAABkAAAAZCAIAAABLixI0AAAACXBIWXMAAAsTAAALEwEAmpwYAAAAB3RJTUUH3wkCDDIOi3cusgAABT1JREFUOMtVlclvG2UYh3/fMovHe53FThySNHZomrRJl6QR0AJdpVblQBEHJC4ciipxAgmO3PgPEP8BQkIsRUJUSF1oqGih0JY2CtnjOLGz2Em8xPbMeL6Pw9RJOprLjPT+5tH7Pu83JE7pqeHh8wMD2evfyXMXf/nxB2FZo6dPNzVHvvr6GxMQeOEigARswNzzUgK6x8NagPzS0nqxODQ62nLn1xMnX99/eLC3sGVROj2/IBxHABKgANlzM4ACTuMRAOecNREiAWtzc0NIEu/M37zVMTWeqlrpUDg1M7NTVgdkowwvxqGRRV1CE8jOznq7uhYAi2CpXtdVVQE4QAAdCAAGwAAJyEa9Amh7PsAihBBAABrg1XUfpe3bxTXb8XR0WJa1VSzWGyAcUAEVoIAARIMOQH2HC4AA6lKW8/n9Pm/Ahl4zV8fGTg0PtzQ3K3tA3GId8AO+BqZLt8sFQKE0GouRSkWtFM63KV0Vy1rJhN44k56cFFI6exJ3MBWANACVHS63aw5QtutVVT/4xWfHv/0ylytmHvx56sIFLxACfIABGIAf8ANRn++9y5evXrkS0XWXd5dLJWRfOHwspA1tr4iFtP3gD8/apjCtSDiyQYhZKNA94wOQTCQPhfzm9FTJH8jn84Tz3SyPlEQ4vf0Dt5/MPE5vpVObzQbxqvaDdL731MnWnh5pmsxxdE3rTCZfO3u2FbL6+2+hzpcKwXA2ldrNUgAVII7TMXhkZnzcAQTgAWI6sgV7YmKivLra1tFxMJk4Ho/r5fLy3btsYS7JHL1YoeHQKldKhcLzLNcdlRDOWDgczuVyOtDt4yN9gRYVmc161TTLmYw9P9e8OHcU5dG2fa3EmhNyKjGwROmzZ8+YqlIAKsDd9jtOenIy1t8vgDJQtuvYrjRT0kMQBRIUQxqSXkSDUIO0YAulvdfxGk/u33eVZs2EeBvu6gCjtKW7Oz81xQBhI73mtATQn/BuZ6wTrezsYX+1Jn+aNR8sl9Zb47l4/O+HD2u27QDgnHUQwhvKuFmRaLS2tkZsmwJSQpqIUzHYyynndx5t/1Vy5gXyhMhorEJIKpViQB0QnFNlZzkbdExRhBAckIAFbFXFetkpg94er004WK6jCniamrRAYHlmxhXFtWTXVfW50SQYDjvVKm+YHVMR10G5VAGrcWAohkEVpbC1RRo7QN2mS0BzuQiJHziwMTurAwrgBTo95NVjnshb3XaF9q1MTM7VeWNv6kJQgAISYAAHuARUQAHA2NCZM35KJ27c6KA4YiBXJlpVro5bkaGN2mStsCy8gAXobpyU7iFhAgxQAB40jMHh4WhnJ6nVpsfGVjOZUQMhi40k9K1FqQZI4ogffd3k33GPobTb5kCIFmriEYjgnABao60KwD68eCnz5PH0vXsr4+OsVIpRvNmpnLvQEozRpm5vxAP107dx+RMlvGTcmw7Xle6DwZlsdbZY05qbAq2ta9msCkhAcM4+yv+3uFZWAA+gA5pEaUOUnpaMohb+/BK7+j76r4IliFoyAv9EjsZ4ZbMmyOKqmdvciiWTL4+OUsY8mkY554d7okGyciuHqgQFVIABlkJ9fV44FLFrz8ecuIZ3u6offzD1fSnFmJSgle35mzcdVQ1Eo23B4Eh7lJdWNgZGohM/r5QAjZEoaDzi0TfKPlFDV/KF35mqs0NN1v3iRrqqAT7Xbdti6UXPImKZaf5SQiUBtAIG0OVXXnmnDUJWb9nET7D8VPba7pAJTKRnxPUpI+v0BXlApZPrlgDaCTke1VqaaLZC/wesjSVVF5Ac7QAAAABJRU5ErkJggg=='\n",
       "     style='width:25px;height:25px; border-radius:12px;'/>\n",
       "\n",
       "HoloViewsJS successfully loaded in this cell.\n",
       "</div>\n"
      ],
      "text/plain": [
       "<IPython.core.display.HTML object>"
      ]
     },
     "metadata": {},
     "output_type": "display_data"
    }
   ],
   "source": [
    "import numpy as np\n",
    "import holoviews as hv\n",
    "hv.notebook_extension()"
   ]
  },
  {
   "cell_type": "code",
   "execution_count": 2,
   "metadata": {
    "collapsed": false
   },
   "outputs": [
    {
     "ename": "IOError",
     "evalue": "[Errno 2] No such file or directory: '../assets/penguins.png'",
     "output_type": "error",
     "traceback": [
      "\u001b[1;31m---------------------------------------------------------------------------\u001b[0m",
      "\u001b[1;31mIOError\u001b[0m                                   Traceback (most recent call last)",
      "\u001b[1;32m<ipython-input-2-c06a2d03fdd0>\u001b[0m in \u001b[0;36m<module>\u001b[1;34m()\u001b[0m\n\u001b[0;32m     25\u001b[0m         \u001b[0mgridspace\u001b[0m\u001b[1;33m[\u001b[0m\u001b[0mamplitude\u001b[0m\u001b[1;33m,\u001b[0m \u001b[0mpower\u001b[0m\u001b[1;33m]\u001b[0m \u001b[1;33m=\u001b[0m \u001b[0mholomap\u001b[0m\u001b[1;33m\u001b[0m\u001b[0m\n\u001b[0;32m     26\u001b[0m \u001b[1;33m\u001b[0m\u001b[0m\n\u001b[1;32m---> 27\u001b[1;33m \u001b[0mpenguins\u001b[0m \u001b[1;33m=\u001b[0m \u001b[0mhv\u001b[0m\u001b[1;33m.\u001b[0m\u001b[0mRGB\u001b[0m\u001b[1;33m.\u001b[0m\u001b[0mload_image\u001b[0m\u001b[1;33m(\u001b[0m\u001b[1;34m'../assets/penguins.png'\u001b[0m\u001b[1;33m)\u001b[0m\u001b[1;33m.\u001b[0m\u001b[0mrelabel\u001b[0m\u001b[1;33m(\u001b[0m\u001b[0mgroup\u001b[0m\u001b[1;33m=\u001b[0m\u001b[1;34m\"Family\"\u001b[0m\u001b[1;33m,\u001b[0m \u001b[0mlabel\u001b[0m\u001b[1;33m=\u001b[0m\u001b[1;34m\"Penguin\"\u001b[0m\u001b[1;33m)\u001b[0m\u001b[1;33m\u001b[0m\u001b[0m\n\u001b[0m\u001b[0;32m     28\u001b[0m \u001b[1;33m\u001b[0m\u001b[0m\n\u001b[0;32m     29\u001b[0m \u001b[0mlayout\u001b[0m \u001b[1;33m=\u001b[0m \u001b[0mgridspace\u001b[0m \u001b[1;33m+\u001b[0m \u001b[0mpenguins\u001b[0m\u001b[1;33m\u001b[0m\u001b[0m\n",
      "\u001b[1;32m/usr/lib/python2.7/site-packages/holoviews/element/raster.pyc\u001b[0m in \u001b[0;36mload_image\u001b[1;34m(cls, filename, height, array, bounds, bare, **kwargs)\u001b[0m\n\u001b[0;32m    688\u001b[0m             \u001b[1;32mraise\u001b[0m \u001b[0mImportError\u001b[0m\u001b[1;33m(\u001b[0m\u001b[1;34m\"RGB.load_image requires matplotlib.\"\u001b[0m\u001b[1;33m)\u001b[0m\u001b[1;33m\u001b[0m\u001b[0m\n\u001b[0;32m    689\u001b[0m \u001b[1;33m\u001b[0m\u001b[0m\n\u001b[1;32m--> 690\u001b[1;33m         \u001b[0mdata\u001b[0m \u001b[1;33m=\u001b[0m \u001b[0mplt\u001b[0m\u001b[1;33m.\u001b[0m\u001b[0mimread\u001b[0m\u001b[1;33m(\u001b[0m\u001b[0mfilename\u001b[0m\u001b[1;33m)\u001b[0m\u001b[1;33m\u001b[0m\u001b[0m\n\u001b[0m\u001b[0;32m    691\u001b[0m         \u001b[1;32mif\u001b[0m \u001b[0marray\u001b[0m\u001b[1;33m:\u001b[0m  \u001b[1;32mreturn\u001b[0m \u001b[0mdata\u001b[0m\u001b[1;33m\u001b[0m\u001b[0m\n\u001b[0;32m    692\u001b[0m \u001b[1;33m\u001b[0m\u001b[0m\n",
      "\u001b[1;32m/usr/lib/python2.7/site-packages/matplotlib/pyplot.pyc\u001b[0m in \u001b[0;36mimread\u001b[1;34m(*args, **kwargs)\u001b[0m\n\u001b[0;32m   2288\u001b[0m \u001b[1;33m@\u001b[0m\u001b[0mdocstring\u001b[0m\u001b[1;33m.\u001b[0m\u001b[0mcopy_dedent\u001b[0m\u001b[1;33m(\u001b[0m\u001b[0m_imread\u001b[0m\u001b[1;33m)\u001b[0m\u001b[1;33m\u001b[0m\u001b[0m\n\u001b[0;32m   2289\u001b[0m \u001b[1;32mdef\u001b[0m \u001b[0mimread\u001b[0m\u001b[1;33m(\u001b[0m\u001b[1;33m*\u001b[0m\u001b[0margs\u001b[0m\u001b[1;33m,\u001b[0m \u001b[1;33m**\u001b[0m\u001b[0mkwargs\u001b[0m\u001b[1;33m)\u001b[0m\u001b[1;33m:\u001b[0m\u001b[1;33m\u001b[0m\u001b[0m\n\u001b[1;32m-> 2290\u001b[1;33m     \u001b[1;32mreturn\u001b[0m \u001b[0m_imread\u001b[0m\u001b[1;33m(\u001b[0m\u001b[1;33m*\u001b[0m\u001b[0margs\u001b[0m\u001b[1;33m,\u001b[0m \u001b[1;33m**\u001b[0m\u001b[0mkwargs\u001b[0m\u001b[1;33m)\u001b[0m\u001b[1;33m\u001b[0m\u001b[0m\n\u001b[0m\u001b[0;32m   2291\u001b[0m \u001b[1;33m\u001b[0m\u001b[0m\n\u001b[0;32m   2292\u001b[0m \u001b[1;33m\u001b[0m\u001b[0m\n",
      "\u001b[1;32m/usr/lib/python2.7/site-packages/matplotlib/image.pyc\u001b[0m in \u001b[0;36mimread\u001b[1;34m(fname, format)\u001b[0m\n\u001b[0;32m   1321\u001b[0m             \u001b[1;32mreturn\u001b[0m \u001b[0mhandler\u001b[0m\u001b[1;33m(\u001b[0m\u001b[0mfd\u001b[0m\u001b[1;33m)\u001b[0m\u001b[1;33m\u001b[0m\u001b[0m\n\u001b[0;32m   1322\u001b[0m         \u001b[1;32melse\u001b[0m\u001b[1;33m:\u001b[0m\u001b[1;33m\u001b[0m\u001b[0m\n\u001b[1;32m-> 1323\u001b[1;33m             \u001b[1;32mwith\u001b[0m \u001b[0mopen\u001b[0m\u001b[1;33m(\u001b[0m\u001b[0mfname\u001b[0m\u001b[1;33m,\u001b[0m \u001b[1;34m'rb'\u001b[0m\u001b[1;33m)\u001b[0m \u001b[1;32mas\u001b[0m \u001b[0mfd\u001b[0m\u001b[1;33m:\u001b[0m\u001b[1;33m\u001b[0m\u001b[0m\n\u001b[0m\u001b[0;32m   1324\u001b[0m                 \u001b[1;32mreturn\u001b[0m \u001b[0mhandler\u001b[0m\u001b[1;33m(\u001b[0m\u001b[0mfd\u001b[0m\u001b[1;33m)\u001b[0m\u001b[1;33m\u001b[0m\u001b[0m\n\u001b[0;32m   1325\u001b[0m     \u001b[1;32melse\u001b[0m\u001b[1;33m:\u001b[0m\u001b[1;33m\u001b[0m\u001b[0m\n",
      "\u001b[1;31mIOError\u001b[0m: [Errno 2] No such file or directory: '../assets/penguins.png'"
     ]
    }
   ],
   "source": [
    "np.random.seed(10)\n",
    "\n",
    "def sine_curve(phase, freq, amp, power, samples=102):\n",
    "    xvals = [0.1* i for i in range(samples)]\n",
    "    return [(x, amp*np.sin(phase+freq*x)**power) for x in xvals]\n",
    "\n",
    "phases =      [0, np.pi/2, np.pi, 3*np.pi/2]\n",
    "powers =      [1,2,3]\n",
    "amplitudes =  [0.5,0.75, 1.0]\n",
    "frequencies = [0.5, 0.75, 1.0, 1.25, 1.5, 1.75]\n",
    "\n",
    "\n",
    "gridspace = hv.GridSpace(kdims=['Amplitude', 'Power'], group='Parameters', label='Sines')\n",
    "\n",
    "for power in powers:\n",
    "    for amplitude in amplitudes:\n",
    "        holomap = hv.HoloMap(kdims=['Frequency'])\n",
    "        for frequency in frequencies:\n",
    "            sines = {phase : hv.Curve(sine_curve(phase, frequency, amplitude, power))\n",
    "                     for phase in phases}\n",
    "            ndoverlay = hv.NdOverlay(sines , kdims=['Phase']).relabel(group='Phases',\n",
    "                                                                      label='Sines', depth=1)\n",
    "            overlay = ndoverlay * hv.Points([(i,0) for i in range(0,10)], group='Markers', label='Dots')\n",
    "            holomap[frequency] = overlay\n",
    "        gridspace[amplitude, power] = holomap\n",
    "\n",
    "penguins = hv.RGB.load_image('../assets/penguins.png').relabel(group=\"Family\", label=\"Penguin\")\n",
    "\n",
    "layout = gridspace + penguins"
   ]
  },
  {
   "cell_type": "markdown",
   "metadata": {},
   "source": [
    "This code produces what looks like a relatively simple animation of two side-by-side figures, but is actually a deeply nested data structure:"
   ]
  },
  {
   "cell_type": "code",
   "execution_count": 3,
   "metadata": {
    "collapsed": false
   },
   "outputs": [
    {
     "ename": "NameError",
     "evalue": "name 'layout' is not defined",
     "output_type": "error",
     "traceback": [
      "\u001b[1;31m---------------------------------------------------------------------------\u001b[0m",
      "\u001b[1;31mNameError\u001b[0m                                 Traceback (most recent call last)",
      "\u001b[1;32m<ipython-input-3-b22cb184c5a5>\u001b[0m in \u001b[0;36m<module>\u001b[1;34m()\u001b[0m\n\u001b[1;32m----> 1\u001b[1;33m \u001b[0mlayout\u001b[0m\u001b[1;33m\u001b[0m\u001b[0m\n\u001b[0m",
      "\u001b[1;31mNameError\u001b[0m: name 'layout' is not defined"
     ]
    }
   ],
   "source": [
    "layout"
   ]
  },
  {
   "cell_type": "markdown",
   "metadata": {},
   "source": [
    "The structure of this object can be seen in the ``repr()``:"
   ]
  },
  {
   "cell_type": "code",
   "execution_count": null,
   "metadata": {
    "collapsed": false
   },
   "outputs": [],
   "source": [
    "print(repr(layout))"
   ]
  },
  {
   "cell_type": "markdown",
   "metadata": {},
   "source": [
    "## Nesting hierarchy <a id='NestingHierarchy'></a>"
   ]
  },
  {
   "cell_type": "markdown",
   "metadata": {},
   "source": [
    "To help us understand this structure, here is a schematic for us to refer to as we unpack this object, level by level:"
   ]
  },
  {
   "cell_type": "markdown",
   "metadata": {},
   "source": [
    "<center><img src=\"https://ioam.github.io/holoviews/Tutorials/nesting-diagram.png\"></center>"
   ]
  },
  {
   "cell_type": "markdown",
   "metadata": {},
   "source": [
    "Everything that is *displayable* in HoloViews has this same basic structure, although any of the levels can be omitted in simpler cases, and many different Element types (not containers) can be substituted for any other.  \n",
    "\n",
    "Since HoloViews 1.3.0 you are allowed to build data-structures that violate this hierarchy (e.g you can put ``Layout`` objects into ``HoloMaps``) but the resulting object cannot be displayed. Instead, you will be prompted with a message to call the ``collate`` method. Using the ``collate`` method will allow you to generate the appropriate object that correctly obeys the hierarchy shown above.\n",
    "\n",
    "As shown in the diagram, there are three different types of container involved:\n",
    "\n",
    "- Basic Element: elementary HoloViews object containing raw data, typically a Numpy array.\n",
    "- Homogenous container (UniformNdMapping): collections of Elements or other HoloViews components that are all the same type.  These are indexed using array-style key access with values sorted along some dimension(s), e.g. ``[0.50]`` or ``[\"a\",7.6]``.\n",
    "- Heterogenous container (AttrTree): collections of data of different types, e.g. different types of Element.  These are accessed by categories using attributes, e.g. ``.Parameters.Sines``, which does not assume any ordering of a dimension\n",
    "\n",
    "We will now go through each of the containers of these different types, at each level."
   ]
  },
  {
   "cell_type": "markdown",
   "metadata": {},
   "source": [
    "### ``Layout`` Level"
   ]
  },
  {
   "cell_type": "markdown",
   "metadata": {},
   "source": [
    "Above, we have already viewed the highest level of our data structure as a layout. Here is the repr of entire layout object which reflects all the levels shown in the diagram:"
   ]
  },
  {
   "cell_type": "code",
   "execution_count": null,
   "metadata": {
    "collapsed": false
   },
   "outputs": [],
   "source": [
    "print(repr(layout))"
   ]
  },
  {
   "cell_type": "markdown",
   "metadata": {},
   "source": [
    "### ``GridSpace`` Level"
   ]
  },
  {
   "cell_type": "markdown",
   "metadata": {},
   "source": [
    "As shown in the [Introductory tutorial](Introduction), elements of a ``Layout``, such as the ``GridSpace`` in this example, are reached via attribute access:"
   ]
  },
  {
   "cell_type": "code",
   "execution_count": null,
   "metadata": {
    "collapsed": false
   },
   "outputs": [],
   "source": [
    "layout.Parameters.Sines"
   ]
  },
  {
   "cell_type": "markdown",
   "metadata": {},
   "source": [
    "### ``HoloMap`` Level"
   ]
  },
  {
   "cell_type": "markdown",
   "metadata": {},
   "source": [
    "This ``GridSpace`` consists of nine ``HoloMap``s arranged in a two-dimensional space.  Let's now select one of these ``HoloMap`` objects, the one at [Amplitude,Power] ``[0.5,1.0]``, i.e. the lowest amplitude and power:"
   ]
  },
  {
   "cell_type": "code",
   "execution_count": null,
   "metadata": {
    "collapsed": false
   },
   "outputs": [],
   "source": [
    "layout.Parameters.Sines[0.5, 1]"
   ]
  },
  {
   "cell_type": "markdown",
   "metadata": {},
   "source": [
    "As shown in the schematic above, a ``HoloMap`` contains many elements with associated keys. In this example, these keys are indexed with a dimension ``Frequency``, which is why the ``Frequency`` varies when you play the animation here."
   ]
  },
  {
   "cell_type": "markdown",
   "metadata": {},
   "source": [
    "### ``Overlay`` Level"
   ]
  },
  {
   "cell_type": "markdown",
   "metadata": {},
   "source": [
    "The ``repr()`` showed us that the ``HoloMap`` is composed of ``Overlay`` objects, six in this case (giving six frames to the animation above).  Let us access one of these elements, i.e. one frame of the animation above, an ``Overlay`` associated with the key with a ``Frequency`` of *1.0*:"
   ]
  },
  {
   "cell_type": "code",
   "execution_count": null,
   "metadata": {
    "collapsed": false
   },
   "outputs": [],
   "source": [
    "layout.Parameters.Sines[0.5, 1][1.0]"
   ]
  },
  {
   "cell_type": "markdown",
   "metadata": {},
   "source": [
    "### NdOverlay Level"
   ]
  },
  {
   "cell_type": "markdown",
   "metadata": {},
   "source": [
    "As the ``repr()`` shows, the ``Overlay`` contains a ``Points`` object and an ``NdOverlay`` object.  We can access either one of these using the attribute access supported by ``Overlay``:"
   ]
  },
  {
   "cell_type": "code",
   "execution_count": null,
   "metadata": {
    "collapsed": false
   },
   "outputs": [],
   "source": [
    "(layout.Parameters.Sines[0.5, 1][1].Phases.Sines +\n",
    " layout.Parameters.Sines[0.5, 1][1].Markers.Dots)"
   ]
  },
  {
   "cell_type": "markdown",
   "metadata": {},
   "source": [
    "### ``Curve`` Level"
   ]
  },
  {
   "cell_type": "markdown",
   "metadata": {},
   "source": [
    "The ``NdOverlay`` is so named because it is an overlay of items indexed by dimensions, unlike the regular attribute-access overlay types.  In this case it is indexed by ``Phase``, with four values.  If we select one of these values, we will get an individual ``Curve``, e.g. the one with zero phase:"
   ]
  },
  {
   "cell_type": "code",
   "execution_count": null,
   "metadata": {
    "collapsed": false
   },
   "outputs": [],
   "source": [
    "l=layout.Parameters.Sines[0.5, 1][1].Phases.Sines[0.0]\n",
    "l"
   ]
  },
  {
   "cell_type": "code",
   "execution_count": null,
   "metadata": {
    "collapsed": false
   },
   "outputs": [],
   "source": [
    "repr(l)"
   ]
  },
  {
   "cell_type": "markdown",
   "metadata": {},
   "source": [
    "### Data Level"
   ]
  },
  {
   "cell_type": "markdown",
   "metadata": {},
   "source": [
    "At this point, we have reached the end of the HoloViews objects; below this object is only the raw data as a Numpy array:"
   ]
  },
  {
   "cell_type": "code",
   "execution_count": null,
   "metadata": {
    "collapsed": false
   },
   "outputs": [],
   "source": [
    "type(layout.Parameters.Sines[0.5, 1][1].Phases.Sines[0.0].data)"
   ]
  },
  {
   "cell_type": "markdown",
   "metadata": {},
   "source": [
    "Of course, you can keep going down into the Numpy array as far as it goes, to get down to a single datapoint, in this case the value at x=5.2. Note that the supplied index has to match the x-value of the underlying data exactly to floating point precision, so only use this if you know exactly what you are doing:"
   ]
  },
  {
   "cell_type": "code",
   "execution_count": null,
   "metadata": {
    "collapsed": false
   },
   "outputs": [],
   "source": [
    "layout.Parameters.Sines[0.5, 1][1].Phases.Sines[0.0][5.2]"
   ]
  },
  {
   "cell_type": "markdown",
   "metadata": {},
   "source": [
    "Here the value returned is the y-value of the underlying data, at last!  Of course, you can also use all of the access methods provided by the numpy array itself, using ``.data``, e.g. ``.data[52]``, but note that this will use the native indexing scheme of the array, i.e. integer access, starting at zero, not the [continuous coordinate system](Continuous_Coordinates) we provide through HoloViews."
   ]
  },
  {
   "cell_type": "markdown",
   "metadata": {},
   "source": [
    "### Indexing using ``.select``"
   ]
  },
  {
   "cell_type": "markdown",
   "metadata": {},
   "source": [
    "The curve displayed immediately above shows the final, deepest access possible in HoloViews for this object.\n",
    "\n",
    "```python\n",
    "layout.Parameters.Sines[0.5, 1][1].Phases.Sines[0.0]\n",
    "```\n",
    "This is the curve with an amplitude of *0.5*, raised to a power of *1.0* with frequency of *1.0* and *0* phase. These are all the numbers, in order, used in the access shown above.\n",
    "\n",
    "The ``.select`` method is a more explicit way to use key access, with both of these equivalent to each other:"
   ]
  },
  {
   "cell_type": "code",
   "execution_count": null,
   "metadata": {
    "collapsed": false
   },
   "outputs": [],
   "source": [
    "o1 = layout.Parameters.Sines.select(Amplitude=0.5, Power=1.0).select(Frequency=1.0)\n",
    "o2 = layout.Parameters.Sines.select(Amplitude=0.5, Power=1.0, Frequency=1.0)\n",
    "o1 + o2"
   ]
  },
  {
   "cell_type": "markdown",
   "metadata": {},
   "source": [
    "The second form demonstrates HoloViews' **deep indexing** feature. This is as far as we can index before reaching a heterogeneous type (the ``Overlay``), where we need to use attribute access. Here is the more explicit method of indexing down to a curve:"
   ]
  },
  {
   "cell_type": "code",
   "execution_count": null,
   "metadata": {
    "collapsed": false
   },
   "outputs": [],
   "source": [
    "layout.Parameters.Sines.select(Amplitude=0.5,Power=1.0, \n",
    "                               Frequency=1.0).Phases.Sines.select(Phase=0.0)"
   ]
  },
  {
   "cell_type": "markdown",
   "metadata": {},
   "source": [
    "## Summary"
   ]
  },
  {
   "cell_type": "markdown",
   "metadata": {},
   "source": [
    "As you can see, HoloViews lets you compose objects of heterogenous types, and objects covering many different numerical or other dimensions, laying them out spatially or as overlays where appropriate.  The resulting data structures are complex, but they are composed of simple elements with well-defined interactions, making it feasible to express nearly any relationship that will characterize your data.  In practice, you will probably not need this many levels, but given this complete example, you should be able to construct an appropriate organization for whatever type of data that you do want to organize or visualize. \n",
    "\n",
    "As emphasized above, it is not possible to combine these objects in other orderings.  Of course, any ``Element`` can be substituted for any other, which doesn't change the structure.  But you cannot e.g. have an ``Overlay`` or ``HoloMap`` of ``Layout`` objects.  Confusingly, the objects may *act* as if you have these arrangements.  For instance, a ``Layout`` of ``HoloMap`` objects will be animated, like ``HoloMap`` objects, but only because of the extra dimension(s) provided by the enclosed ``HoloMap`` objects, not because the ``Layout`` itself has data along those dimensions.  Similarly, you cannot have a ``Layout`` of ``Layout`` objects, even though it looks like you can.  E.g. the ``+`` operator on two ``Layout`` objects will not create a ``Layout`` of ``Layout`` objects; it just creates a new ``Layout`` object containing the data from both of the other objects.  Similarly for the ``Overlay`` of ``Overlay`` objects using ``*``; only a single combined ``Overlay`` is returned.\n",
    "\n",
    "If you are confused about how all of this works in practice, you can use the examples in the tutorials to guide you, especially the [Exploring Data](Exploring_Data) tutorial.  "
   ]
  }
 ],
 "metadata": {
  "kernelspec": {
   "display_name": "Python 2",
   "language": "python2",
   "name": "python2"
  },
  "language_info": {
   "codemirror_mode": {
    "name": "ipython",
    "version": 2
   },
   "file_extension": ".py",
   "mimetype": "text/x-python",
   "name": "python",
   "nbconvert_exporter": "python",
   "pygments_lexer": "ipython2",
   "version": "2.7.11"
  }
 },
 "nbformat": 4,
 "nbformat_minor": 0
}
