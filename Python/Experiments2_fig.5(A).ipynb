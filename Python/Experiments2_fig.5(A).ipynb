{
 "cells": [
  {
   "cell_type": "markdown",
   "metadata": {},
   "source": [
    "\n",
    "<h2 align=\"center\">Experiments (Sander's paper, fig.2, dynamics)</h2> "
   ]
  },
  {
   "cell_type": "code",
   "execution_count": 2,
   "metadata": {
    "collapsed": false
   },
   "outputs": [
    {
     "name": "stderr",
     "output_type": "stream",
     "text": [
      "/afs/inf.ed.ac.uk/user/s12/s1247380/Documents/HonoursProject/Python/venv/lib/python2.7/site-packages/IPython/html.py:14: ShimWarning: The `IPython.html` package has been deprecated. You should import from `notebook` instead. `IPython.html.widgets` has moved to `ipywidgets`.\n",
      "  \"`IPython.html.widgets` has moved to `ipywidgets`.\", ShimWarning)\n"
     ]
    },
    {
     "data": {
      "text/html": [
       "<script type=\"text/javascript\">\n",
       "function HoloViewsWidget(){\n",
       "        }\n",
       "        \n",
       "        HoloViewsWidget.prototype.init_slider = function(init_val){\n",
       "            if(this.cached) {\n",
       "                this.update_cache();\n",
       "                this.update(0);\n",
       "            } else {\n",
       "                this.dynamic_update(0);\n",
       "            }\n",
       "        }\n",
       "        \n",
       "        HoloViewsWidget.prototype.populate_cache = function(idx){\n",
       "            if(this.load_json) {\n",
       "        \t\tvar data_url = \"./\" + this.id + '.json';\n",
       "        \t\t$.getJSON(data_url, $.proxy(function(json_data) {\n",
       "        \t\t\tthis.frames = json_data;\n",
       "        \t\t\t$.each(this.frames, $.proxy(function(index, frame) {\n",
       "        \t\t\t\tthis.cache[index].html(frame);\n",
       "        \t\t\t}, this));\n",
       "        \t\t}, this));\n",
       "            } else {\n",
       "                this.cache[idx].html(this.frames[idx]);\n",
       "                if (this.embed) {\n",
       "                    delete this.frames[idx];\n",
       "                }\n",
       "            }\n",
       "        }\n",
       "        \n",
       "        HoloViewsWidget.prototype.process_error = function(msg){\n",
       "        \n",
       "        }\n",
       "        \n",
       "        \n",
       "        \n",
       "        HoloViewsWidget.prototype.dynamic_update = function(current){\n",
       "            function callback(msg){\n",
       "                /* This callback receives data from Python as a string\n",
       "                 in order to parse it correctly quotes are sliced off*/\n",
       "                var data = msg.content.data['text/plain'].slice(1, -1);\n",
       "                this.frames[current] = data;\n",
       "                this.update_cache();\n",
       "                this.update(current);\n",
       "            }\n",
       "            if(!(current in this.cache)) {\n",
       "                var kernel = IPython.notebook.kernel;\n",
       "                callbacks = {iopub: {output: $.proxy(callback, this)}};\n",
       "                var cmd = \"holoviews.plotting.widgets.NdWidget.widgets['\" + this.id + \"'].update(\" + current + \")\";\n",
       "                kernel.execute(\"import holoviews;\" + cmd, callbacks, {silent : false});\n",
       "            } else {\n",
       "                this.update(current);\n",
       "            }\n",
       "        }\n",
       "        \n",
       "        HoloViewsWidget.prototype.update_cache = function(){\n",
       "            if(this.load_json) {\n",
       "                var frame_len = Object.keys(this.keyMap).length;\n",
       "            } else {\n",
       "                var frame_len = Object.keys(this.frames).length;\n",
       "            }\n",
       "            for (var i=0; i<frame_len; i++) {\n",
       "                if(!this.load_json || this.dynamic)  {\n",
       "                    frame = Object.keys(this.frames)[i];\n",
       "                } else {\n",
       "                    frame = i;\n",
       "                }\n",
       "                if(!(frame in this.cache)) {\n",
       "                    this.cache[frame] = $('<div />').appendTo(\"#\" + this.img_id).hide();\n",
       "                    var cache_id = this.img_id+\"_\"+frame;\n",
       "                    this.cache[frame].attr(\"id\", cache_id);\n",
       "                    this.populate_cache(frame);\n",
       "                }\n",
       "            }\n",
       "        }\n",
       "        \n",
       "        HoloViewsWidget.prototype.update = function(current){\n",
       "            if(current in this.cache) {\n",
       "                $.each(this.cache, function(index, value) {\n",
       "                    value.hide();\n",
       "                });\n",
       "                this.cache[current].show();\n",
       "            }\n",
       "        }\n",
       "        \n",
       "        \n",
       "        function SelectionWidget(frames, id, slider_ids, keyMap, dim_vals, notFound, load_json, mode, cached, json_path, dynamic){\n",
       "            this.frames = frames;\n",
       "            this.fig_id = \"fig_\" + id;\n",
       "            this.img_id = \"_anim_img\" + id;\n",
       "            this.id = id;\n",
       "            this.slider_ids = slider_ids;\n",
       "            this.keyMap = keyMap\n",
       "            this.current_frame = 0;\n",
       "            this.current_vals = dim_vals;\n",
       "            this.load_json = load_json;\n",
       "            this.mode = mode;\n",
       "            this.notFound = notFound;\n",
       "            this.cached = cached;\n",
       "            this.dynamic = dynamic;\n",
       "            this.cache = {};\n",
       "        \tthis.json_path = json_path;\n",
       "            this.init_slider(this.current_vals[0]);\n",
       "        }\n",
       "        \n",
       "        SelectionWidget.prototype = new HoloViewsWidget;\n",
       "        \n",
       "        SelectionWidget.prototype.set_frame = function(dim_val, dim_idx){\n",
       "            this.current_vals[dim_idx] = dim_val;\n",
       "            if(this.dynamic) {\n",
       "                this.dynamic_update(this.current_vals)\n",
       "                return;\n",
       "            }\n",
       "            var key = \"(\";\n",
       "            for (var i=0; i<this.slider_ids.length; i++)\n",
       "            {\n",
       "                val = this.current_vals[i];\n",
       "                if (!(_.isString(val))) {\n",
       "                    if (val % 1 === 0) { var fixed = 1;}\n",
       "                    else { var fixed = 10;}\n",
       "                    val = val.toFixed(fixed)\n",
       "                }\n",
       "                key += \"'\" + val + \"'\";\n",
       "                if(i != this.slider_ids.length-1) { key += ', ';}\n",
       "                else if(this.slider_ids.length == 1) { key += ',';}\n",
       "            }\n",
       "            key += \")\";\n",
       "            var current = this.keyMap[key];\n",
       "            this.current_frame = current;\n",
       "            if(this.cached) {\n",
       "                this.update(current)\n",
       "            } else {\n",
       "                this.dynamic_update(current)\n",
       "            }\n",
       "        }\n",
       "        \n",
       "        \n",
       "        /* Define the ScrubberWidget class */\n",
       "        function ScrubberWidget(frames, num_frames, id, interval, load_json, mode, cached, json_path, dynamic){\n",
       "            this.img_id = \"_anim_img\" + id;\n",
       "            this.slider_id = \"_anim_slider\" + id;\n",
       "            this.loop_select_id = \"_anim_loop_select\" + id;\n",
       "            this.id = id;\n",
       "            this.fig_id = \"fig_\" + id;\n",
       "            this.interval = interval;\n",
       "            this.current_frame = 0;\n",
       "            this.direction = 0;\n",
       "            this.dynamic = dynamic;\n",
       "            this.timer = null;\n",
       "            this.load_json = load_json;\n",
       "            this.mode = mode;\n",
       "            this.cached = cached;\n",
       "            this.frames = frames;\n",
       "            this.cache = {};\n",
       "            this.length = num_frames;\n",
       "        \tthis.json_path = json_path;\n",
       "            document.getElementById(this.slider_id).max = this.length - 1;\n",
       "            this.init_slider(0);\n",
       "        }\n",
       "        \n",
       "        ScrubberWidget.prototype = new HoloViewsWidget;\n",
       "        \n",
       "        ScrubberWidget.prototype.set_frame = function(frame){\n",
       "            this.current_frame = frame;\n",
       "            document.getElementById(this.slider_id).value = this.current_frame;\n",
       "            if(this.cached) {\n",
       "                this.update(frame)\n",
       "            } else {\n",
       "                this.dynamic_update(frame)\n",
       "            }\n",
       "        }\n",
       "        \n",
       "        \n",
       "        ScrubberWidget.prototype.process_error = function(msg){\n",
       "        \tif (msg.content.ename === 'StopIteration') {\n",
       "        \t\tthis.pause_animation();\n",
       "        \t\tvar keys = Object.keys(this.frames)\n",
       "        \t\tthis.length = keys.length;\n",
       "        \t\tdocument.getElementById(this.slider_id).max = this.length-1;\n",
       "        \t\tdocument.getElementById(this.slider_id).value = this.length-1;\n",
       "        \t\tthis.current_frame = this.length-1;\n",
       "        \t}\n",
       "        }\n",
       "        \n",
       "        \n",
       "        ScrubberWidget.prototype.get_loop_state = function(){\n",
       "            var button_group = document[this.loop_select_id].state;\n",
       "            for (var i = 0; i < button_group.length; i++) {\n",
       "                var button = button_group[i];\n",
       "                if (button.checked) {\n",
       "                    return button.value;\n",
       "                }\n",
       "            }\n",
       "            return undefined;\n",
       "        }\n",
       "        \n",
       "        \n",
       "        ScrubberWidget.prototype.next_frame = function() {\n",
       "        \tif (this.dynamic && this.current_frame + 1 >= this.length) {\n",
       "        \t\tthis.length += 1;\n",
       "                document.getElementById(this.slider_id).max = this.length-1;\n",
       "        \t}\n",
       "            this.set_frame(Math.min(this.length - 1, this.current_frame + 1));\n",
       "        }\n",
       "        \n",
       "        ScrubberWidget.prototype.previous_frame = function() {\n",
       "            this.set_frame(Math.max(0, this.current_frame - 1));\n",
       "        }\n",
       "        \n",
       "        ScrubberWidget.prototype.first_frame = function() {\n",
       "            this.set_frame(0);\n",
       "        }\n",
       "        \n",
       "        ScrubberWidget.prototype.last_frame = function() {\n",
       "            this.set_frame(this.length - 1);\n",
       "        }\n",
       "        \n",
       "        ScrubberWidget.prototype.slower = function() {\n",
       "            this.interval /= 0.7;\n",
       "            if(this.direction > 0){this.play_animation();}\n",
       "            else if(this.direction < 0){this.reverse_animation();}\n",
       "        }\n",
       "        \n",
       "        ScrubberWidget.prototype.faster = function() {\n",
       "            this.interval *= 0.7;\n",
       "            if(this.direction > 0){this.play_animation();}\n",
       "            else if(this.direction < 0){this.reverse_animation();}\n",
       "        }\n",
       "        \n",
       "        ScrubberWidget.prototype.anim_step_forward = function() {\n",
       "            if(this.current_frame < this.length || this.dynamic){\n",
       "                this.next_frame();\n",
       "            }else{\n",
       "                var loop_state = this.get_loop_state();\n",
       "                if(loop_state == \"loop\"){\n",
       "                    this.first_frame();\n",
       "                }else if(loop_state == \"reflect\"){\n",
       "                    this.last_frame();\n",
       "                    this.reverse_animation();\n",
       "                }else{\n",
       "                    this.pause_animation();\n",
       "                    this.last_frame();\n",
       "                }\n",
       "            }\n",
       "        }\n",
       "        \n",
       "        ScrubberWidget.prototype.anim_step_reverse = function() {\n",
       "            this.current_frame -= 1;\n",
       "            if(this.current_frame >= 0){\n",
       "                this.set_frame(this.current_frame);\n",
       "            } else {\n",
       "                var loop_state = this.get_loop_state();\n",
       "                if(loop_state == \"loop\"){\n",
       "                    this.last_frame();\n",
       "                }else if(loop_state == \"reflect\"){\n",
       "                    this.first_frame();\n",
       "                    this.play_animation();\n",
       "                }else{\n",
       "                    this.pause_animation();\n",
       "                    this.first_frame();\n",
       "                }\n",
       "            }\n",
       "        }\n",
       "        \n",
       "        ScrubberWidget.prototype.pause_animation = function() {\n",
       "            this.direction = 0;\n",
       "            if (this.timer){\n",
       "                clearInterval(this.timer);\n",
       "                this.timer = null;\n",
       "            }\n",
       "        }\n",
       "        \n",
       "        ScrubberWidget.prototype.play_animation = function() {\n",
       "            this.pause_animation();\n",
       "            this.direction = 1;\n",
       "            var t = this;\n",
       "            if (!this.timer) this.timer = setInterval(function(){t.anim_step_forward();}, this.interval);\n",
       "        }\n",
       "        \n",
       "        ScrubberWidget.prototype.reverse_animation = function() {\n",
       "            this.pause_animation();\n",
       "            this.direction = -1;\n",
       "            var t = this;\n",
       "            if (!this.timer) this.timer = setInterval(function(){t.anim_step_reverse();}, this.interval);\n",
       "        }\n",
       "        \n",
       "        function extend(destination, source) {\n",
       "            for (var k in source) {\n",
       "                if (source.hasOwnProperty(k)) {\n",
       "                    destination[k] = source[k];\n",
       "                }\n",
       "            }\n",
       "            return destination;\n",
       "        }\n",
       "        \n",
       "        function update_widget(widget, values) {\n",
       "        \tif (widget.hasClass(\"ui-slider\")) {\n",
       "        \t\twidget.slider('option',\n",
       "        \t\t\t\t\t  {'min': 0, 'max': values.length-1,\n",
       "        \t\t\t\t\t   'dim_vals': values, 'value': 0})\n",
       "        \t\twidget.slider('option', 'slide').call(widget, event, {'value': 0})\n",
       "        \t} else {\n",
       "        \t\twidget.empty();\n",
       "        \t\tfor (var i=0; i<values.length; i++){\n",
       "        \t\t\twidget.append($(\"<option>\", {\n",
       "        \t\t\t\tvalue: i,\n",
       "        \t\t\t\ttext: values[i]\n",
       "        \t\t\t}))};\n",
       "        \t\twidget.trigger(\"change\");\n",
       "        \t};\n",
       "        }\n",
       "        \n",
       "        // Define MPL specific subclasses\n",
       "        function MPLSelectionWidget() {\n",
       "        \tSelectionWidget.apply(this, arguments);\n",
       "        }\n",
       "        \n",
       "        function MPLScrubberWidget() {\n",
       "        \tScrubberWidget.apply(this, arguments);\n",
       "        }\n",
       "        \n",
       "        // Let them inherit from the baseclasses\n",
       "        MPLSelectionWidget.prototype = Object.create(SelectionWidget.prototype);\n",
       "        MPLScrubberWidget.prototype = Object.create(ScrubberWidget.prototype);\n",
       "        \n",
       "        // Define methods to override on widgets\n",
       "        var MPLMethods = {\n",
       "        \tinit_slider : function(init_val){\n",
       "        \t\tif(this.mode == 'nbagg') {\n",
       "        \t\t\tthis.update_cache();\n",
       "        \t\t\tthis.update(0);\n",
       "        \t\t\tthis.set_frame(init_val, 0);\n",
       "        \t\t} else if(this.cached) {\n",
       "        \t\t\tthis.update_cache();\n",
       "        \t\t\tthis.update(0);\n",
       "        \t\t} else {\n",
       "        \t\t\tthis.dynamic_update(0);\n",
       "        \t\t}\n",
       "        \t},\n",
       "        \tpopulate_cache : function(idx){\n",
       "        \t\tvar cache_id = this.img_id+\"_\"+idx;\n",
       "        \t\tif(this.load_json) {\n",
       "        \t\t\tvar data_url = this.json_path + '/' + this.id + '.json';\n",
       "        \t\t\t$.getJSON(data_url, $.proxy(function(json_data) {\n",
       "        \t\t\t\tif(this.mode == 'mpld3') {\n",
       "        \t\t\t\t\tmpld3.draw_figure(cache_id, json_data[idx]);\n",
       "        \t\t\t\t} else {\n",
       "        \t\t\t\t\tthis.cache[idx].html(json_data[idx]);\n",
       "        \t\t\t\t}\n",
       "        \t\t\t}, this));\n",
       "        \t\t} else {\n",
       "        \t\t\tif(this.mode == 'mpld3') {\n",
       "        \t\t\t\tmpld3.draw_figure(cache_id, this.frames[idx]);\n",
       "        \t\t\t} else {\n",
       "        \t\t\t\tthis.cache[idx].html(this.frames[idx]);\n",
       "        \t\t\t}\n",
       "        \t\t}\n",
       "        \t},\n",
       "        \tdynamic_update : function(current){\n",
       "        \t\tif (this.dynamic) {\n",
       "        \t\t\tcurrent = JSON.stringify(current);\n",
       "        \t\t}\n",
       "        \t\tfunction callback(msg){\n",
       "        \t\t\t/* This callback receives data from Python as a string\n",
       "        \t\t\t in order to parse it correctly quotes are sliced off*/\n",
       "        \t\t\tif (msg.content.ename != undefined) {\n",
       "        \t\t\t\tthis.process_error(msg);\n",
       "        \t\t\t}\n",
       "        \t\t\tif (msg.msg_type != \"execute_result\") {\n",
       "        \t\t\t\tconsole.log(\"Warning: HoloViews callback returned unexpected data for key: (\", current, \") with the following content:\", msg.content)\n",
       "        \t\t\t\treturn\n",
       "        \t\t\t}\n",
       "        \t\t\tif (!(this.mode == 'nbagg')) {\n",
       "        \t\t\t\tif(!(current in this.cache)) {\n",
       "        \t\t\t\t\tvar data = msg.content.data['text/plain'].slice(1, -1);\n",
       "        \t\t\t\t\tif(this.mode == 'mpld3'){\n",
       "        \t\t\t\t\t\tdata = JSON.parse(data)[0];\n",
       "        \t\t\t\t\t}\n",
       "        \t\t\t\t\tthis.frames[current] = data;\n",
       "        \t\t\t\t\tthis.update_cache();\n",
       "        \t\t\t\t}\n",
       "        \t\t\t\tthis.update(current);\n",
       "        \t\t\t}\n",
       "        \t\t}\n",
       "        \t\tvar kernel = IPython.notebook.kernel;\n",
       "        \t\tcallbacks = {iopub: {output: $.proxy(callback, this)}};\n",
       "        \t\tvar cmd = \"holoviews.plotting.widgets.NdWidget.widgets['\" + this.id + \"'].update(\" + current + \")\";\n",
       "        \t\tkernel.execute(\"import holoviews;\" + cmd, callbacks, {silent : false});\n",
       "        \t}\n",
       "        }\n",
       "        \n",
       "        // Extend MPL widgets with backend specific methods\n",
       "        extend(MPLSelectionWidget.prototype, MPLMethods);\n",
       "        extend(MPLScrubberWidget.prototype, MPLMethods);\n",
       "</script>\n",
       "\n",
       "<style>\n",
       "div.hololayout {\n",
       "            display: flex;\n",
       "            align-items: center;\n",
       "            margin: 0;\n",
       "        }\n",
       "        \n",
       "        form.holoform {\n",
       "            background-color: #fafafa;\n",
       "            border-radius: 5px;\n",
       "            overflow: hidden;\n",
       "            padding: 0.8em;\n",
       "        }\n",
       "        \n",
       "        div.holoslider {\n",
       "            min-height: 0 !important;\n",
       "            height: 0.8em;\n",
       "        }\n",
       "        \n",
       "        div.holoformgroup {\n",
       "            padding-right: 0.5em;\n",
       "            padding-top: 0.5em;\n",
       "            margin-bottom: 0.5em;\n",
       "        }\n",
       "        \n",
       "        div.hologroup {\n",
       "            padding-left: 0;\n",
       "            padding-right: 0.6em;\n",
       "        }\n",
       "        \n",
       "        .holoselect {\n",
       "            width: 92%;\n",
       "            margin-left: 0;\n",
       "            margin-right: 0;\n",
       "        }\n",
       "        \n",
       "        .holotext {\n",
       "            width: 100%;\n",
       "            padding-left:  0.5em;\n",
       "            padding-right: 0;\n",
       "        }\n",
       "</style>\n",
       "\n",
       "\n",
       "<div>\n",
       "<img src='data:image/png;base64,iVBORw0KGgoAAAANSUhEUgAAABkAAAAZCAIAAABLixI0AAAACXBIWXMAAAsTAAALEwEAmpwYAAAAB3RJTUUH3wkCDDIOi3cusgAABT1JREFUOMtVlclvG2UYh3/fMovHe53FThySNHZomrRJl6QR0AJdpVblQBEHJC4ciipxAgmO3PgPEP8BQkIsRUJUSF1oqGih0JY2CtnjOLGz2Em8xPbMeL6Pw9RJOprLjPT+5tH7Pu83JE7pqeHh8wMD2evfyXMXf/nxB2FZo6dPNzVHvvr6GxMQeOEigARswNzzUgK6x8NagPzS0nqxODQ62nLn1xMnX99/eLC3sGVROj2/IBxHABKgANlzM4ACTuMRAOecNREiAWtzc0NIEu/M37zVMTWeqlrpUDg1M7NTVgdkowwvxqGRRV1CE8jOznq7uhYAi2CpXtdVVQE4QAAdCAAGwAAJyEa9Amh7PsAihBBAABrg1XUfpe3bxTXb8XR0WJa1VSzWGyAcUAEVoIAARIMOQH2HC4AA6lKW8/n9Pm/Ahl4zV8fGTg0PtzQ3K3tA3GId8AO+BqZLt8sFQKE0GouRSkWtFM63KV0Vy1rJhN44k56cFFI6exJ3MBWANACVHS63aw5QtutVVT/4xWfHv/0ylytmHvx56sIFLxACfIABGIAf8ANRn++9y5evXrkS0XWXd5dLJWRfOHwspA1tr4iFtP3gD8/apjCtSDiyQYhZKNA94wOQTCQPhfzm9FTJH8jn84Tz3SyPlEQ4vf0Dt5/MPE5vpVObzQbxqvaDdL731MnWnh5pmsxxdE3rTCZfO3u2FbL6+2+hzpcKwXA2ldrNUgAVII7TMXhkZnzcAQTgAWI6sgV7YmKivLra1tFxMJk4Ho/r5fLy3btsYS7JHL1YoeHQKldKhcLzLNcdlRDOWDgczuVyOtDt4yN9gRYVmc161TTLmYw9P9e8OHcU5dG2fa3EmhNyKjGwROmzZ8+YqlIAKsDd9jtOenIy1t8vgDJQtuvYrjRT0kMQBRIUQxqSXkSDUIO0YAulvdfxGk/u33eVZs2EeBvu6gCjtKW7Oz81xQBhI73mtATQn/BuZ6wTrezsYX+1Jn+aNR8sl9Zb47l4/O+HD2u27QDgnHUQwhvKuFmRaLS2tkZsmwJSQpqIUzHYyynndx5t/1Vy5gXyhMhorEJIKpViQB0QnFNlZzkbdExRhBAckIAFbFXFetkpg94er004WK6jCniamrRAYHlmxhXFtWTXVfW50SQYDjvVKm+YHVMR10G5VAGrcWAohkEVpbC1RRo7QN2mS0BzuQiJHziwMTurAwrgBTo95NVjnshb3XaF9q1MTM7VeWNv6kJQgAISYAAHuARUQAHA2NCZM35KJ27c6KA4YiBXJlpVro5bkaGN2mStsCy8gAXobpyU7iFhAgxQAB40jMHh4WhnJ6nVpsfGVjOZUQMhi40k9K1FqQZI4ogffd3k33GPobTb5kCIFmriEYjgnABao60KwD68eCnz5PH0vXsr4+OsVIpRvNmpnLvQEozRpm5vxAP107dx+RMlvGTcmw7Xle6DwZlsdbZY05qbAq2ta9msCkhAcM4+yv+3uFZWAA+gA5pEaUOUnpaMohb+/BK7+j76r4IliFoyAv9EjsZ4ZbMmyOKqmdvciiWTL4+OUsY8mkY554d7okGyciuHqgQFVIABlkJ9fV44FLFrz8ecuIZ3u6offzD1fSnFmJSgle35mzcdVQ1Eo23B4Eh7lJdWNgZGohM/r5QAjZEoaDzi0TfKPlFDV/KF35mqs0NN1v3iRrqqAT7Xbdti6UXPImKZaf5SQiUBtAIG0OVXXnmnDUJWb9nET7D8VPba7pAJTKRnxPUpI+v0BXlApZPrlgDaCTke1VqaaLZC/wesjSVVF5Ac7QAAAABJRU5ErkJggg=='\n",
       "     style='width:25px;height:25px; border-radius:12px;'/>\n",
       "\n",
       "HoloViewsJS successfully loaded in this cell.\n",
       "</div>\n"
      ],
      "text/plain": [
       "<IPython.core.display.HTML object>"
      ]
     },
     "metadata": {},
     "output_type": "display_data"
    }
   ],
   "source": [
    "# Imports\n",
    "import math as m\n",
    "import numpy as np\n",
    "import matplotlib.pyplot as plt\n",
    "import holoviews as hv\n",
    "import pylab as pl\n",
    "from pylab import exp,cos,sin,pi,tan, pi\n",
    "import pandas as pd\n",
    "import seaborn as sb\n",
    "import holoviews as hv\n",
    "from IPython.display import SVG\n",
    "import io\n",
    "from PIL import Image\n",
    "from random import random\n",
    "import elastica as el\n",
    "import elastica_neurons as en\n",
    "from dynamics import *\n",
    "%matplotlib inline\n",
    "hv.notebook_extension()"
   ]
  },
  {
   "cell_type": "markdown",
   "metadata": {},
   "source": [
    "Central orientation is $\\cfrac{\\pi}{2}$ (vertical bar) and the flanker orienatation is $\\cfrac{\\pi}{2} + \\cfrac{\\pi}{10}$. In this notebook we built a dynamic model using the elastica energy and compare the response to the already implemented passive model (see other notebook). Another important distinction between the two implementations, apart from the added dynamics is how we model the modulation. In both of the models we use an additive model. In both the passive and dynamic model, we use certain numbers of orientation selective neurons to decode the response of the center bar. However in the passive model (elastica model), we don't model the the flanker's bar response with orientation selective neurons. Rather we just calculate the energy between the orientation selective neurons of the center bar and the flanker's orientation.\n",
    "\n",
    "In this model we change two things. First of all we model the flanker with orientation selective neurons. We also add recurrence, by not only applying modulation from the flanker to the center bar, but also back from the center to the flanker bar. The responses change with time, until they settle to a stable point.\n",
    "\n",
    "The result from the passive and dynamic model can be seen below."
   ]
  },
  {
   "cell_type": "code",
   "execution_count": 3,
   "metadata": {
    "collapsed": false
   },
   "outputs": [],
   "source": [
    "#----- Define some variables -----\n",
    "\n",
    "# number of neurons\n",
    "nn = 100\n",
    "\n",
    "number_of_experiments = 25\n",
    "\n",
    "# We can experiment with different center and flanker orientation\n",
    "#center = 3*pl.pi/4\n",
    "#lanker = 3*pl.pi/4\n",
    "center = pl.pi/2\n",
    "flanker = pl.pi/2 + pl.pi/10\n",
    "#center = pl.pi/2\n",
    "#flanker = pl.pi/4\n",
    "\n",
    "# constants for von mises function\n",
    "A = 3\n",
    "k = 0.25\n",
    "# offset energy\n",
    "E0 = 4\n",
    "# strength of the modulation\n",
    "a = np.array([0.01,0.02,0.05,0.1])/nn\n",
    "# elastica energies for different flanker orientations (calculated below)\n",
    "energies = np.zeros(nn)\n",
    "\n",
    "# used to calculate the matrix\n",
    "m = 1\n",
    "n = 3\n",
    "nosn = nn\n",
    "\n",
    "# used for simulation\n",
    "timesteps = 50\n",
    "tau = 6"
   ]
  },
  {
   "cell_type": "code",
   "execution_count": 161,
   "metadata": {
    "collapsed": false
   },
   "outputs": [],
   "source": [
    "#----- Calculate matrix -----\n",
    "def calculateMatrix3(x,y):\n",
    "    m = 1\n",
    "    n = 3\n",
    "    nosn = 100\n",
    "    orientations = np.arange(0, np.pi, np.pi/nosn)\n",
    "    orientations2 = np.expand_dims(orientations, axis=1)\n",
    "    orientations3 = np.expand_dims(orientations2, axis=2)\n",
    "    orientations4 = np.tile(orientations3, (1, m, n))\n",
    "    orientations4 = np.swapaxes(orientations4,0,1)\n",
    "    orientations4 = np.swapaxes(orientations4,1,2)\n",
    "    vector_length = np.size(orientations4.ravel())\n",
    "    matrix2 = np.zeros((vector_length, vector_length))\n",
    "    for i in range(vector_length):\n",
    "        for j in range(vector_length):\n",
    "            # Calculate the coordinates of the two neurons (x,y,preferred_orientation)\n",
    "            first_neuron = calculateCoordinatesNew(i, orientations4.shape)\n",
    "            second_neuron = calculateCoordinatesNew(j, orientations4.shape)\n",
    "            # If the neurons respond to the same part of the visual field, don't have any connection between them\n",
    "            if ((first_neuron[0]==second_neuron[0] and first_neuron[1]==second_neuron[1]) or matrix2[i,j]!=0):\n",
    "                continue\n",
    "            # Model the connection of the neurons according to the elastica principle\n",
    "            #y = first_neuron[0]-second_neuron[0]\n",
    "            #x = first_neuron[1]-second_neuron[1]\n",
    "            mult_y = np.max([np.abs(first_neuron[0]-second_neuron[0]),1])\n",
    "            mult_x = np.max([np.abs(first_neuron[1]-second_neuron[1]),1])\n",
    "            theta1 = orientations4[first_neuron[0],first_neuron[1],first_neuron[2]]\n",
    "            theta2 = orientations4[second_neuron[0],second_neuron[1],second_neuron[2]]\n",
    "            energy = en.E(theta1,theta2,[x*mult_x,y*mult_y])\n",
    "            distance = np.sqrt(np.power(x,2) + np.power(y,2))\n",
    "            matrix2[i,j] = -(energy-E0)\n",
    "            matrix2[j,i] = matrix2[i,j]\n",
    "    matrix2[0:100,200:300] /= 2\n",
    "    matrix2[200:300,0:100] /= 2\n",
    "    return matrix2\n",
    "    #showWeights(matrix, fig_size=10)"
   ]
  },
  {
   "cell_type": "code",
   "execution_count": 168,
   "metadata": {
    "collapsed": false
   },
   "outputs": [
    {
     "name": "stderr",
     "output_type": "stream",
     "text": [
      "/afs/inf.ed.ac.uk/user/s12/s1247380/Documents/HonoursProject/Python/venv/lib/python2.7/site-packages/ipykernel/__main__.py:27: DeprecationWarning: using a non-integer number instead of an integer will result in an error in the future\n",
      "/afs/inf.ed.ac.uk/user/s12/s1247380/Documents/HonoursProject/Python/venv/lib/python2.7/site-packages/ipykernel/__main__.py:28: DeprecationWarning: using a non-integer number instead of an integer will result in an error in the future\n"
     ]
    }
   ],
   "source": [
    "number_of_experiments = 25\n",
    "setNumberOfColors(number_of_experiments)\n",
    "timesteps = 50\n",
    "tau = 6\n",
    "orientations = np.arange(0, np.pi, np.pi/nosn)\n",
    "\n",
    "theta = np.linspace(np.pi/2,np.pi, number_of_experiments)\n",
    "r = np.sqrt(1)\n",
    "# compute x1 and x2\n",
    "x1 = r*np.cos(theta)\n",
    "y1 = r*np.sin(theta)\n",
    "\n",
    "flanker_orientation = pl.linspace(pl.pi/2,pl.pi,number_of_experiments)\n",
    "flanker_orientation = pl.linspace(np.pi/2,pl.pi,number_of_experiments)\n",
    "flankers = np.zeros((timesteps,number_of_experiments))\n",
    "centers = np.zeros((timesteps,number_of_experiments))\n",
    "\n",
    "\n",
    "\n",
    "for i in range(number_of_experiments):\n",
    "    for j in range(a.shape[0]):\n",
    "        responses = np.zeros((nosn, timesteps))\n",
    "        t = np.arange(0,timesteps,1)\n",
    "        ac_orient = np.array([[flanker_orientation[i]],[pl.pi/2],[flanker_orientation[i]]])\n",
    "        spikes_ = vonMises(A,k,ac_orient,orientations)\n",
    "        spikes = spikes_.ravel(order='F')\n",
    "        r = np.zeros(len(spikes))\n",
    "        drdt = spikes/tau\n",
    "        rs = np.zeros(spikes.shape + (len(t),))\n",
    "        matrix = a[j]*calculateMatrix3(y1[i],x1[i])\n",
    "        for s in range(len(t)):\n",
    "            r = r + drdt\n",
    "            drdt = (-r + (spikes + np.dot(matrix,r)).clip(min=0))/tau\n",
    "            rs[:,s] = r\n",
    "        rs = np.reshape(rs, spikes_.shape + (len(t),), order='F')\n",
    "        (direction, magnitude) = populationVector(orientations, rs, nosn, timesteps)\n",
    "        flankers[j,i] = direction[0,0,number_of_experiments-1]\n",
    "        centers[j,i] = direction[1,0,number_of_experiments-1]"
   ]
  },
  {
   "cell_type": "code",
   "execution_count": 167,
   "metadata": {
    "collapsed": false
   },
   "outputs": [
    {
     "data": {
      "text/plain": [
       "(100, 3, 1, 50)"
      ]
     },
     "execution_count": 167,
     "metadata": {},
     "output_type": "execute_result"
    }
   ],
   "source": [
    "rs.shape"
   ]
  },
  {
   "cell_type": "code",
   "execution_count": 6,
   "metadata": {
    "collapsed": false
   },
   "outputs": [
    {
     "data": {
      "image/png": "[encoded data removed]",
      "text/plain": [
       "<matplotlib.figure.Figure at 0x5361fd0>"
      ]
     },
     "metadata": {},
     "output_type": "display_data"
    }
   ],
   "source": [
    "theta = np.linspace(0,np.pi/2, 25)\n",
    "r = np.sqrt(60)\n",
    "# compute x1 and x2\n",
    "x1 = r*np.cos(theta)\n",
    "y1 = r*np.sin(theta)\n",
    "\n",
    "# create the figure\n",
    "fig, ax = plt.subplots(1)\n",
    "ax.plot(x1, y1)\n",
    "ax.set_aspect(1)\n",
    "plt.show()"
   ]
  },
  {
   "cell_type": "code",
   "execution_count": 169,
   "metadata": {
    "collapsed": false
   },
   "outputs": [
    {
     "data": {
      "text/html": [
       "<img src='data:image/png;base64,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' style='max-width:100%; margin: auto; display: block; '/>"
      ],
      "text/plain": [
       ":Overlay\n",
       "   .Curve.I   :Curve   [x]   (y)\n",
       "   .Curve.II  :Curve   [x]   (y)\n",
       "   .Curve.III :Curve   [x]   (y)\n",
       "   .Curve.IV  :Curve   [x]   (y)"
      ]
     },
     "execution_count": 169,
     "metadata": {},
     "output_type": "execute_result"
    }
   ],
   "source": [
    "%output size=300\n",
    "#centers[centers<1] = np.pi\n",
    "plot = hv.Curve(centers[0,:])\n",
    "for i in np.arange(1,a.shape[0],1):\n",
    "    plot *= hv.Curve(centers[i,:])\n",
    "plot(plot={'aspect':3})"
   ]
  },
  {
   "cell_type": "code",
   "execution_count": 177,
   "metadata": {
    "collapsed": false
   },
   "outputs": [
    {
     "data": {
      "text/plain": [
       "[<matplotlib.lines.Line2D at 0xb875690>]"
      ]
     },
     "execution_count": 177,
     "metadata": {},
     "output_type": "execute_result"
    },
    {
     "data": {
      "image/png": "[encoded data removed]",
      "text/plain": [
       "<matplotlib.figure.Figure at 0xb89fad0>"
      ]
     },
     "metadata": {},
     "output_type": "display_data"
    }
   ],
   "source": [
    "plt.plot(centers[2,:])"
   ]
  },
  {
   "cell_type": "code",
   "execution_count": 170,
   "metadata": {
    "collapsed": false
   },
   "outputs": [
    {
     "data": {
      "text/html": [
       "<img src='data:image/png;base64,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' style='max-width:100%; margin: auto; display: block; '/>"
      ],
      "text/plain": [
       ":Overlay\n",
       "   .Curve.I   :Curve   [x]   (y)\n",
       "   .Curve.II  :Curve   [x]   (y)\n",
       "   .Curve.III :Curve   [x]   (y)\n",
       "   .Curve.IV  :Curve   [x]   (y)"
      ]
     },
     "execution_count": 170,
     "metadata": {},
     "output_type": "execute_result"
    }
   ],
   "source": [
    "%output size=300\n",
    "#flankers[flankers<1] = np.pi\n",
    "plot = hv.Curve(flankers[0,:])\n",
    "for i in np.arange(1,a.shape[0],1):\n",
    "    plot *= hv.Curve(flankers[i,:])\n",
    "plot(plot={'aspect':3})"
   ]
  },
  {
   "cell_type": "code",
   "execution_count": 9,
   "metadata": {
    "collapsed": false
   },
   "outputs": [
    {
     "data": {
      "text/plain": [
       "array([ 3.14159265,  3.13822946,  3.12815427,  3.11141024,  3.08806907,\n",
       "        3.0582307 ,  3.0220229 ,  2.97960073,  2.93114585,  2.87686574,\n",
       "        2.81699284,  2.75178353,  2.68151706,  2.60649431,  2.52703654,\n",
       "        2.44348401,  2.35619449,  2.26554178,  2.17191406,  2.07571226,\n",
       "        1.97734833,  1.87724349,  1.77582639,  1.67353132,  1.57079633])"
      ]
     },
     "execution_count": 9,
     "metadata": {},
     "output_type": "execute_result"
    },
    {
     "data": {
      "image/png": "[encoded data removed]",
      "text/plain": [
       "<matplotlib.figure.Figure at 0x59d3f50>"
      ]
     },
     "metadata": {},
     "output_type": "display_data"
    }
   ],
   "source": [
    "theta = np.linspace(0,np.pi/2, 25)\n",
    "r = np.sqrt(1)\n",
    "# compute x1 and x2\n",
    "x1 = r*np.cos(theta)\n",
    "y1 = r*np.sin(theta)\n",
    "plt.plot(y1)\n",
    "plt.plot(x1)\n",
    "flanker_orientation = np.ones(number_of_experiments)*pl.pi/2*x1 + pl.pi/2\n",
    "flanker_orientation"
   ]
  },
  {
   "cell_type": "code",
   "execution_count": 10,
   "metadata": {
    "collapsed": false
   },
   "outputs": [
    {
     "data": {
      "text/plain": [
       "array([  1.57079633e+00,   1.56743313e+00,   1.55735795e+00,\n",
       "         1.54061392e+00,   1.51727274e+00,   1.48743437e+00,\n",
       "         1.45122658e+00,   1.40880441e+00,   1.36034952e+00,\n",
       "         1.30606941e+00,   1.24619651e+00,   1.18098721e+00,\n",
       "         1.11072073e+00,   1.03569798e+00,   9.56240217e-01,\n",
       "         8.72687681e-01,   7.85398163e-01,   6.94745450e-01,\n",
       "         6.01117730e-01,   5.04915931e-01,   4.06552005e-01,\n",
       "         3.06447161e-01,   2.05030063e-01,   1.02734995e-01,\n",
       "         9.61835347e-17])"
      ]
     },
     "execution_count": 10,
     "metadata": {},
     "output_type": "execute_result"
    }
   ],
   "source": [
    "flanker_orientation = np.ones(number_of_experiments)*pl.pi/2*x1\n",
    "#flanker_orientation = np.flipud(np.arange(-pl.pi/2,0,pl.pi/2/number_of_experiments))\n",
    "flanker_orientation"
   ]
  },
  {
   "cell_type": "code",
   "execution_count": 48,
   "metadata": {
    "collapsed": false
   },
   "outputs": [
    {
     "data": {
      "text/plain": [
       "[<matplotlib.lines.Line2D at 0x6eebd90>]"
      ]
     },
     "execution_count": 48,
     "metadata": {},
     "output_type": "execute_result"
    },
    {
     "data": {
      "image/png": "[encoded data removed]",
      "text/plain": [
       "<matplotlib.figure.Figure at 0x7391e10>"
      ]
     },
     "metadata": {},
     "output_type": "display_data"
    }
   ],
   "source": [
    "#flanker_orientation = np.ones(number_of_experiments)*pl.pi/2*x1\n",
    "#plt.plot(flanker_orientation)\n",
    "flanker_orientation = np.flipud(pl.linspace(-pl.pi/2,0,number_of_experiments))\n",
    "plt.plot(flanker_orientation)"
   ]
  },
  {
   "cell_type": "code",
   "execution_count": 163,
   "metadata": {
    "collapsed": false
   },
   "outputs": [
    {
     "data": {
      "text/html": [
       "<img src='data:image/png;base64,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' style='max-width:100%; margin: auto; display: block; '/>"
      ],
      "text/plain": [
       ":Overlay\n",
       "   .Curve.I   :Curve   [x]   (y)\n",
       "   .Curve.II  :Curve   [x]   (y)\n",
       "   .Curve.III :Curve   [x]   (y)\n",
       "   .Curve.IV  :Curve   [x]   (y)"
      ]
     },
     "execution_count": 163,
     "metadata": {},
     "output_type": "execute_result"
    }
   ],
   "source": [
    "%output size=300\n",
    "number_of_experiments = 61\n",
    "nn = 30\n",
    "flankers = np.zeros((a.shape[0],number_of_experiments))\n",
    "centers = np.zeros((a.shape[0],number_of_experiments))\n",
    "orientations = np.arange(0, np.pi, np.pi/nn)\n",
    "a = np.array([0.5,1,2,3])\n",
    "flanker_orientation = pl.linspace(np.pi/2,pl.pi,number_of_experiments)\n",
    "theta = np.linspace(np.pi/2,np.pi, number_of_experiments)\n",
    "r = 1\n",
    "# compute x1 and x2\n",
    "x1 = r*np.cos(flanker_orientation)\n",
    "y1 = r*np.sin(flanker_orientation)\n",
    "\n",
    "#flanker_orientation = np.ones(number_of_experiments)*pl.pi/2*x1\n",
    "#flanker_orientation = pl.linspace(-pl.pi/2,0,number_of_experiments)\n",
    "center = np.pi/2\n",
    "\n",
    "for i in range(number_of_experiments):\n",
    "    for j in range(a.shape[0]):\n",
    "        # elastica energies for different flanker orientations (calculated below)\n",
    "        energies = np.zeros(nn)\n",
    "\n",
    "\n",
    "        # Elastica energies between neuron with orientation 1 rad and population of 32 neurons with variable orientation from 0 to pi\n",
    "        for k in range(nn):\n",
    "            energies[k] = en.E(orientations[k],flanker_orientation[i],[y1[i],x1[i]]) + en.E(orientations[k],flanker_orientation[i],[-y1[i],-x1[i]])\n",
    "\n",
    "        modulation_ad = -a[j]*(energies - E0)\n",
    "\n",
    "\n",
    "        # Central drive\n",
    "        curve,x,y = mises_curve(A,k,center,neuron=nn)\n",
    "        centers[j,i] = popvec((y+modulation_ad).clip(min=0),nn)\n",
    "\n",
    "centers[centers<1] = np.pi + centers[centers<1]\n",
    "plot = hv.Curve(centers[0,:])\n",
    "for i in np.arange(1,a.shape[0],1):\n",
    "    plot *= hv.Curve(centers[i,:])\n",
    "plot(plot={'aspect':3})"
   ]
  },
  {
   "cell_type": "code",
   "execution_count": null,
   "metadata": {
    "collapsed": false
   },
   "outputs": [],
   "source": [
    "\n"
   ]
  },
  {
   "cell_type": "code",
   "execution_count": 54,
   "metadata": {
    "collapsed": false
   },
   "outputs": [
    {
     "data": {
      "text/plain": [
       "array([ 9.8696044])"
      ]
     },
     "execution_count": 54,
     "metadata": {},
     "output_type": "execute_result"
    }
   ],
   "source": [
    "en.E(center,flanker_orientation[0],[x1[0],y1[0]])"
   ]
  }
 ],
 "metadata": {
  "kernelspec": {
   "display_name": "Python 2",
   "language": "python",
   "name": "python2"
  },
  "language_info": {
   "codemirror_mode": {
    "name": "ipython",
    "version": 2
   },
   "file_extension": ".py",
   "mimetype": "text/x-python",
   "name": "python",
   "nbconvert_exporter": "python",
   "pygments_lexer": "ipython2",
   "version": "2.7.5"
  }
 },
 "nbformat": 4,
 "nbformat_minor": 0
}
