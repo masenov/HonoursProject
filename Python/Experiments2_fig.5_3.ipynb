{
 "cells": [
  {
   "cell_type": "markdown",
   "metadata": {},
   "source": [
    "\n",
    "<h2 align=\"center\">Experiments (Sander's paper, fig.2, dynamics)</h2> "
   ]
  },
  {
   "cell_type": "code",
   "execution_count": 1,
   "metadata": {
    "collapsed": false
   },
   "outputs": [
    {
     "name": "stderr",
     "output_type": "stream",
     "text": [
      "/afs/inf.ed.ac.uk/user/s12/s1247380/Documents/HonoursProject/Python/venv/lib/python2.7/site-packages/IPython/html.py:14: ShimWarning: The `IPython.html` package has been deprecated. You should import from `notebook` instead. `IPython.html.widgets` has moved to `ipywidgets`.\n",
      "  \"`IPython.html.widgets` has moved to `ipywidgets`.\", ShimWarning)\n"
     ]
    },
    {
     "data": {
      "text/html": [
       "<script type=\"text/javascript\">\n",
       "function HoloViewsWidget(){\n",
       "        }\n",
       "        \n",
       "        HoloViewsWidget.prototype.init_slider = function(init_val){\n",
       "            if(this.cached) {\n",
       "                this.update_cache();\n",
       "                this.update(0);\n",
       "            } else {\n",
       "                this.dynamic_update(0);\n",
       "            }\n",
       "        }\n",
       "        \n",
       "        HoloViewsWidget.prototype.populate_cache = function(idx){\n",
       "            if(this.load_json) {\n",
       "        \t\tvar data_url = \"./\" + this.id + '.json';\n",
       "        \t\t$.getJSON(data_url, $.proxy(function(json_data) {\n",
       "        \t\t\tthis.frames = json_data;\n",
       "        \t\t\t$.each(this.frames, $.proxy(function(index, frame) {\n",
       "        \t\t\t\tthis.cache[index].html(frame);\n",
       "        \t\t\t}, this));\n",
       "        \t\t}, this));\n",
       "            } else {\n",
       "                this.cache[idx].html(this.frames[idx]);\n",
       "                if (this.embed) {\n",
       "                    delete this.frames[idx];\n",
       "                }\n",
       "            }\n",
       "        }\n",
       "        \n",
       "        HoloViewsWidget.prototype.process_error = function(msg){\n",
       "        \n",
       "        }\n",
       "        \n",
       "        \n",
       "        \n",
       "        HoloViewsWidget.prototype.dynamic_update = function(current){\n",
       "            function callback(msg){\n",
       "                /* This callback receives data from Python as a string\n",
       "                 in order to parse it correctly quotes are sliced off*/\n",
       "                var data = msg.content.data['text/plain'].slice(1, -1);\n",
       "                this.frames[current] = data;\n",
       "                this.update_cache();\n",
       "                this.update(current);\n",
       "            }\n",
       "            if(!(current in this.cache)) {\n",
       "                var kernel = IPython.notebook.kernel;\n",
       "                callbacks = {iopub: {output: $.proxy(callback, this)}};\n",
       "                var cmd = \"holoviews.plotting.widgets.NdWidget.widgets['\" + this.id + \"'].update(\" + current + \")\";\n",
       "                kernel.execute(\"import holoviews;\" + cmd, callbacks, {silent : false});\n",
       "            } else {\n",
       "                this.update(current);\n",
       "            }\n",
       "        }\n",
       "        \n",
       "        HoloViewsWidget.prototype.update_cache = function(){\n",
       "            if(this.load_json) {\n",
       "                var frame_len = Object.keys(this.keyMap).length;\n",
       "            } else {\n",
       "                var frame_len = Object.keys(this.frames).length;\n",
       "            }\n",
       "            for (var i=0; i<frame_len; i++) {\n",
       "                if(!this.load_json || this.dynamic)  {\n",
       "                    frame = Object.keys(this.frames)[i];\n",
       "                } else {\n",
       "                    frame = i;\n",
       "                }\n",
       "                if(!(frame in this.cache)) {\n",
       "                    this.cache[frame] = $('<div />').appendTo(\"#\" + this.img_id).hide();\n",
       "                    var cache_id = this.img_id+\"_\"+frame;\n",
       "                    this.cache[frame].attr(\"id\", cache_id);\n",
       "                    this.populate_cache(frame);\n",
       "                }\n",
       "            }\n",
       "        }\n",
       "        \n",
       "        HoloViewsWidget.prototype.update = function(current){\n",
       "            if(current in this.cache) {\n",
       "                $.each(this.cache, function(index, value) {\n",
       "                    value.hide();\n",
       "                });\n",
       "                this.cache[current].show();\n",
       "            }\n",
       "        }\n",
       "        \n",
       "        \n",
       "        function SelectionWidget(frames, id, slider_ids, keyMap, dim_vals, notFound, load_json, mode, cached, json_path, dynamic){\n",
       "            this.frames = frames;\n",
       "            this.fig_id = \"fig_\" + id;\n",
       "            this.img_id = \"_anim_img\" + id;\n",
       "            this.id = id;\n",
       "            this.slider_ids = slider_ids;\n",
       "            this.keyMap = keyMap\n",
       "            this.current_frame = 0;\n",
       "            this.current_vals = dim_vals;\n",
       "            this.load_json = load_json;\n",
       "            this.mode = mode;\n",
       "            this.notFound = notFound;\n",
       "            this.cached = cached;\n",
       "            this.dynamic = dynamic;\n",
       "            this.cache = {};\n",
       "        \tthis.json_path = json_path;\n",
       "            this.init_slider(this.current_vals[0]);\n",
       "        }\n",
       "        \n",
       "        SelectionWidget.prototype = new HoloViewsWidget;\n",
       "        \n",
       "        SelectionWidget.prototype.set_frame = function(dim_val, dim_idx){\n",
       "            this.current_vals[dim_idx] = dim_val;\n",
       "            if(this.dynamic) {\n",
       "                this.dynamic_update(this.current_vals)\n",
       "                return;\n",
       "            }\n",
       "            var key = \"(\";\n",
       "            for (var i=0; i<this.slider_ids.length; i++)\n",
       "            {\n",
       "                val = this.current_vals[i];\n",
       "                if (!(_.isString(val))) {\n",
       "                    if (val % 1 === 0) { var fixed = 1;}\n",
       "                    else { var fixed = 10;}\n",
       "                    val = val.toFixed(fixed)\n",
       "                }\n",
       "                key += \"'\" + val + \"'\";\n",
       "                if(i != this.slider_ids.length-1) { key += ', ';}\n",
       "                else if(this.slider_ids.length == 1) { key += ',';}\n",
       "            }\n",
       "            key += \")\";\n",
       "            var current = this.keyMap[key];\n",
       "            this.current_frame = current;\n",
       "            if(this.cached) {\n",
       "                this.update(current)\n",
       "            } else {\n",
       "                this.dynamic_update(current)\n",
       "            }\n",
       "        }\n",
       "        \n",
       "        \n",
       "        /* Define the ScrubberWidget class */\n",
       "        function ScrubberWidget(frames, num_frames, id, interval, load_json, mode, cached, json_path, dynamic){\n",
       "            this.img_id = \"_anim_img\" + id;\n",
       "            this.slider_id = \"_anim_slider\" + id;\n",
       "            this.loop_select_id = \"_anim_loop_select\" + id;\n",
       "            this.id = id;\n",
       "            this.fig_id = \"fig_\" + id;\n",
       "            this.interval = interval;\n",
       "            this.current_frame = 0;\n",
       "            this.direction = 0;\n",
       "            this.dynamic = dynamic;\n",
       "            this.timer = null;\n",
       "            this.load_json = load_json;\n",
       "            this.mode = mode;\n",
       "            this.cached = cached;\n",
       "            this.frames = frames;\n",
       "            this.cache = {};\n",
       "            this.length = num_frames;\n",
       "        \tthis.json_path = json_path;\n",
       "            document.getElementById(this.slider_id).max = this.length - 1;\n",
       "            this.init_slider(0);\n",
       "        }\n",
       "        \n",
       "        ScrubberWidget.prototype = new HoloViewsWidget;\n",
       "        \n",
       "        ScrubberWidget.prototype.set_frame = function(frame){\n",
       "            this.current_frame = frame;\n",
       "            document.getElementById(this.slider_id).value = this.current_frame;\n",
       "            if(this.cached) {\n",
       "                this.update(frame)\n",
       "            } else {\n",
       "                this.dynamic_update(frame)\n",
       "            }\n",
       "        }\n",
       "        \n",
       "        \n",
       "        ScrubberWidget.prototype.process_error = function(msg){\n",
       "        \tif (msg.content.ename === 'StopIteration') {\n",
       "        \t\tthis.pause_animation();\n",
       "        \t\tvar keys = Object.keys(this.frames)\n",
       "        \t\tthis.length = keys.length;\n",
       "        \t\tdocument.getElementById(this.slider_id).max = this.length-1;\n",
       "        \t\tdocument.getElementById(this.slider_id).value = this.length-1;\n",
       "        \t\tthis.current_frame = this.length-1;\n",
       "        \t}\n",
       "        }\n",
       "        \n",
       "        \n",
       "        ScrubberWidget.prototype.get_loop_state = function(){\n",
       "            var button_group = document[this.loop_select_id].state;\n",
       "            for (var i = 0; i < button_group.length; i++) {\n",
       "                var button = button_group[i];\n",
       "                if (button.checked) {\n",
       "                    return button.value;\n",
       "                }\n",
       "            }\n",
       "            return undefined;\n",
       "        }\n",
       "        \n",
       "        \n",
       "        ScrubberWidget.prototype.next_frame = function() {\n",
       "        \tif (this.dynamic && this.current_frame + 1 >= this.length) {\n",
       "        \t\tthis.length += 1;\n",
       "                document.getElementById(this.slider_id).max = this.length-1;\n",
       "        \t}\n",
       "            this.set_frame(Math.min(this.length - 1, this.current_frame + 1));\n",
       "        }\n",
       "        \n",
       "        ScrubberWidget.prototype.previous_frame = function() {\n",
       "            this.set_frame(Math.max(0, this.current_frame - 1));\n",
       "        }\n",
       "        \n",
       "        ScrubberWidget.prototype.first_frame = function() {\n",
       "            this.set_frame(0);\n",
       "        }\n",
       "        \n",
       "        ScrubberWidget.prototype.last_frame = function() {\n",
       "            this.set_frame(this.length - 1);\n",
       "        }\n",
       "        \n",
       "        ScrubberWidget.prototype.slower = function() {\n",
       "            this.interval /= 0.7;\n",
       "            if(this.direction > 0){this.play_animation();}\n",
       "            else if(this.direction < 0){this.reverse_animation();}\n",
       "        }\n",
       "        \n",
       "        ScrubberWidget.prototype.faster = function() {\n",
       "            this.interval *= 0.7;\n",
       "            if(this.direction > 0){this.play_animation();}\n",
       "            else if(this.direction < 0){this.reverse_animation();}\n",
       "        }\n",
       "        \n",
       "        ScrubberWidget.prototype.anim_step_forward = function() {\n",
       "            if(this.current_frame < this.length || this.dynamic){\n",
       "                this.next_frame();\n",
       "            }else{\n",
       "                var loop_state = this.get_loop_state();\n",
       "                if(loop_state == \"loop\"){\n",
       "                    this.first_frame();\n",
       "                }else if(loop_state == \"reflect\"){\n",
       "                    this.last_frame();\n",
       "                    this.reverse_animation();\n",
       "                }else{\n",
       "                    this.pause_animation();\n",
       "                    this.last_frame();\n",
       "                }\n",
       "            }\n",
       "        }\n",
       "        \n",
       "        ScrubberWidget.prototype.anim_step_reverse = function() {\n",
       "            this.current_frame -= 1;\n",
       "            if(this.current_frame >= 0){\n",
       "                this.set_frame(this.current_frame);\n",
       "            } else {\n",
       "                var loop_state = this.get_loop_state();\n",
       "                if(loop_state == \"loop\"){\n",
       "                    this.last_frame();\n",
       "                }else if(loop_state == \"reflect\"){\n",
       "                    this.first_frame();\n",
       "                    this.play_animation();\n",
       "                }else{\n",
       "                    this.pause_animation();\n",
       "                    this.first_frame();\n",
       "                }\n",
       "            }\n",
       "        }\n",
       "        \n",
       "        ScrubberWidget.prototype.pause_animation = function() {\n",
       "            this.direction = 0;\n",
       "            if (this.timer){\n",
       "                clearInterval(this.timer);\n",
       "                this.timer = null;\n",
       "            }\n",
       "        }\n",
       "        \n",
       "        ScrubberWidget.prototype.play_animation = function() {\n",
       "            this.pause_animation();\n",
       "            this.direction = 1;\n",
       "            var t = this;\n",
       "            if (!this.timer) this.timer = setInterval(function(){t.anim_step_forward();}, this.interval);\n",
       "        }\n",
       "        \n",
       "        ScrubberWidget.prototype.reverse_animation = function() {\n",
       "            this.pause_animation();\n",
       "            this.direction = -1;\n",
       "            var t = this;\n",
       "            if (!this.timer) this.timer = setInterval(function(){t.anim_step_reverse();}, this.interval);\n",
       "        }\n",
       "        \n",
       "        function extend(destination, source) {\n",
       "            for (var k in source) {\n",
       "                if (source.hasOwnProperty(k)) {\n",
       "                    destination[k] = source[k];\n",
       "                }\n",
       "            }\n",
       "            return destination;\n",
       "        }\n",
       "        \n",
       "        function update_widget(widget, values) {\n",
       "        \tif (widget.hasClass(\"ui-slider\")) {\n",
       "        \t\twidget.slider('option',\n",
       "        \t\t\t\t\t  {'min': 0, 'max': values.length-1,\n",
       "        \t\t\t\t\t   'dim_vals': values, 'value': 0})\n",
       "        \t\twidget.slider('option', 'slide').call(widget, event, {'value': 0})\n",
       "        \t} else {\n",
       "        \t\twidget.empty();\n",
       "        \t\tfor (var i=0; i<values.length; i++){\n",
       "        \t\t\twidget.append($(\"<option>\", {\n",
       "        \t\t\t\tvalue: i,\n",
       "        \t\t\t\ttext: values[i]\n",
       "        \t\t\t}))};\n",
       "        \t\twidget.trigger(\"change\");\n",
       "        \t};\n",
       "        }\n",
       "        \n",
       "        // Define MPL specific subclasses\n",
       "        function MPLSelectionWidget() {\n",
       "        \tSelectionWidget.apply(this, arguments);\n",
       "        }\n",
       "        \n",
       "        function MPLScrubberWidget() {\n",
       "        \tScrubberWidget.apply(this, arguments);\n",
       "        }\n",
       "        \n",
       "        // Let them inherit from the baseclasses\n",
       "        MPLSelectionWidget.prototype = Object.create(SelectionWidget.prototype);\n",
       "        MPLScrubberWidget.prototype = Object.create(ScrubberWidget.prototype);\n",
       "        \n",
       "        // Define methods to override on widgets\n",
       "        var MPLMethods = {\n",
       "        \tinit_slider : function(init_val){\n",
       "        \t\tif(this.mode == 'nbagg') {\n",
       "        \t\t\tthis.update_cache();\n",
       "        \t\t\tthis.update(0);\n",
       "        \t\t\tthis.set_frame(init_val, 0);\n",
       "        \t\t} else if(this.cached) {\n",
       "        \t\t\tthis.update_cache();\n",
       "        \t\t\tthis.update(0);\n",
       "        \t\t} else {\n",
       "        \t\t\tthis.dynamic_update(0);\n",
       "        \t\t}\n",
       "        \t},\n",
       "        \tpopulate_cache : function(idx){\n",
       "        \t\tvar cache_id = this.img_id+\"_\"+idx;\n",
       "        \t\tif(this.load_json) {\n",
       "        \t\t\tvar data_url = this.json_path + '/' + this.id + '.json';\n",
       "        \t\t\t$.getJSON(data_url, $.proxy(function(json_data) {\n",
       "        \t\t\t\tif(this.mode == 'mpld3') {\n",
       "        \t\t\t\t\tmpld3.draw_figure(cache_id, json_data[idx]);\n",
       "        \t\t\t\t} else {\n",
       "        \t\t\t\t\tthis.cache[idx].html(json_data[idx]);\n",
       "        \t\t\t\t}\n",
       "        \t\t\t}, this));\n",
       "        \t\t} else {\n",
       "        \t\t\tif(this.mode == 'mpld3') {\n",
       "        \t\t\t\tmpld3.draw_figure(cache_id, this.frames[idx]);\n",
       "        \t\t\t} else {\n",
       "        \t\t\t\tthis.cache[idx].html(this.frames[idx]);\n",
       "        \t\t\t}\n",
       "        \t\t}\n",
       "        \t},\n",
       "        \tdynamic_update : function(current){\n",
       "        \t\tif (this.dynamic) {\n",
       "        \t\t\tcurrent = JSON.stringify(current);\n",
       "        \t\t}\n",
       "        \t\tfunction callback(msg){\n",
       "        \t\t\t/* This callback receives data from Python as a string\n",
       "        \t\t\t in order to parse it correctly quotes are sliced off*/\n",
       "        \t\t\tif (msg.content.ename != undefined) {\n",
       "        \t\t\t\tthis.process_error(msg);\n",
       "        \t\t\t}\n",
       "        \t\t\tif (msg.msg_type != \"execute_result\") {\n",
       "        \t\t\t\tconsole.log(\"Warning: HoloViews callback returned unexpected data for key: (\", current, \") with the following content:\", msg.content)\n",
       "        \t\t\t\treturn\n",
       "        \t\t\t}\n",
       "        \t\t\tif (!(this.mode == 'nbagg')) {\n",
       "        \t\t\t\tif(!(current in this.cache)) {\n",
       "        \t\t\t\t\tvar data = msg.content.data['text/plain'].slice(1, -1);\n",
       "        \t\t\t\t\tif(this.mode == 'mpld3'){\n",
       "        \t\t\t\t\t\tdata = JSON.parse(data)[0];\n",
       "        \t\t\t\t\t}\n",
       "        \t\t\t\t\tthis.frames[current] = data;\n",
       "        \t\t\t\t\tthis.update_cache();\n",
       "        \t\t\t\t}\n",
       "        \t\t\t\tthis.update(current);\n",
       "        \t\t\t}\n",
       "        \t\t}\n",
       "        \t\tvar kernel = IPython.notebook.kernel;\n",
       "        \t\tcallbacks = {iopub: {output: $.proxy(callback, this)}};\n",
       "        \t\tvar cmd = \"holoviews.plotting.widgets.NdWidget.widgets['\" + this.id + \"'].update(\" + current + \")\";\n",
       "        \t\tkernel.execute(\"import holoviews;\" + cmd, callbacks, {silent : false});\n",
       "        \t}\n",
       "        }\n",
       "        \n",
       "        // Extend MPL widgets with backend specific methods\n",
       "        extend(MPLSelectionWidget.prototype, MPLMethods);\n",
       "        extend(MPLScrubberWidget.prototype, MPLMethods);\n",
       "</script>\n",
       "\n",
       "<style>\n",
       "div.hololayout {\n",
       "            display: flex;\n",
       "            align-items: center;\n",
       "            margin: 0;\n",
       "        }\n",
       "        \n",
       "        form.holoform {\n",
       "            background-color: #fafafa;\n",
       "            border-radius: 5px;\n",
       "            overflow: hidden;\n",
       "            padding: 0.8em;\n",
       "        }\n",
       "        \n",
       "        div.holoslider {\n",
       "            min-height: 0 !important;\n",
       "            height: 0.8em;\n",
       "        }\n",
       "        \n",
       "        div.holoformgroup {\n",
       "            padding-right: 0.5em;\n",
       "            padding-top: 0.5em;\n",
       "            margin-bottom: 0.5em;\n",
       "        }\n",
       "        \n",
       "        div.hologroup {\n",
       "            padding-left: 0;\n",
       "            padding-right: 0.6em;\n",
       "        }\n",
       "        \n",
       "        .holoselect {\n",
       "            width: 92%;\n",
       "            margin-left: 0;\n",
       "            margin-right: 0;\n",
       "        }\n",
       "        \n",
       "        .holotext {\n",
       "            width: 100%;\n",
       "            padding-left:  0.5em;\n",
       "            padding-right: 0;\n",
       "        }\n",
       "</style>\n",
       "\n",
       "\n",
       "<div>\n",
       "<img src='data:image/png;base64,iVBORw0KGgoAAAANSUhEUgAAABkAAAAZCAIAAABLixI0AAAACXBIWXMAAAsTAAALEwEAmpwYAAAAB3RJTUUH3wkCDDIOi3cusgAABT1JREFUOMtVlclvG2UYh3/fMovHe53FThySNHZomrRJl6QR0AJdpVblQBEHJC4ciipxAgmO3PgPEP8BQkIsRUJUSF1oqGih0JY2CtnjOLGz2Em8xPbMeL6Pw9RJOprLjPT+5tH7Pu83JE7pqeHh8wMD2evfyXMXf/nxB2FZo6dPNzVHvvr6GxMQeOEigARswNzzUgK6x8NagPzS0nqxODQ62nLn1xMnX99/eLC3sGVROj2/IBxHABKgANlzM4ACTuMRAOecNREiAWtzc0NIEu/M37zVMTWeqlrpUDg1M7NTVgdkowwvxqGRRV1CE8jOznq7uhYAi2CpXtdVVQE4QAAdCAAGwAAJyEa9Amh7PsAihBBAABrg1XUfpe3bxTXb8XR0WJa1VSzWGyAcUAEVoIAARIMOQH2HC4AA6lKW8/n9Pm/Ahl4zV8fGTg0PtzQ3K3tA3GId8AO+BqZLt8sFQKE0GouRSkWtFM63KV0Vy1rJhN44k56cFFI6exJ3MBWANACVHS63aw5QtutVVT/4xWfHv/0ylytmHvx56sIFLxACfIABGIAf8ANRn++9y5evXrkS0XWXd5dLJWRfOHwspA1tr4iFtP3gD8/apjCtSDiyQYhZKNA94wOQTCQPhfzm9FTJH8jn84Tz3SyPlEQ4vf0Dt5/MPE5vpVObzQbxqvaDdL731MnWnh5pmsxxdE3rTCZfO3u2FbL6+2+hzpcKwXA2ldrNUgAVII7TMXhkZnzcAQTgAWI6sgV7YmKivLra1tFxMJk4Ho/r5fLy3btsYS7JHL1YoeHQKldKhcLzLNcdlRDOWDgczuVyOtDt4yN9gRYVmc161TTLmYw9P9e8OHcU5dG2fa3EmhNyKjGwROmzZ8+YqlIAKsDd9jtOenIy1t8vgDJQtuvYrjRT0kMQBRIUQxqSXkSDUIO0YAulvdfxGk/u33eVZs2EeBvu6gCjtKW7Oz81xQBhI73mtATQn/BuZ6wTrezsYX+1Jn+aNR8sl9Zb47l4/O+HD2u27QDgnHUQwhvKuFmRaLS2tkZsmwJSQpqIUzHYyynndx5t/1Vy5gXyhMhorEJIKpViQB0QnFNlZzkbdExRhBAckIAFbFXFetkpg94er004WK6jCniamrRAYHlmxhXFtWTXVfW50SQYDjvVKm+YHVMR10G5VAGrcWAohkEVpbC1RRo7QN2mS0BzuQiJHziwMTurAwrgBTo95NVjnshb3XaF9q1MTM7VeWNv6kJQgAISYAAHuARUQAHA2NCZM35KJ27c6KA4YiBXJlpVro5bkaGN2mStsCy8gAXobpyU7iFhAgxQAB40jMHh4WhnJ6nVpsfGVjOZUQMhi40k9K1FqQZI4ogffd3k33GPobTb5kCIFmriEYjgnABao60KwD68eCnz5PH0vXsr4+OsVIpRvNmpnLvQEozRpm5vxAP107dx+RMlvGTcmw7Xle6DwZlsdbZY05qbAq2ta9msCkhAcM4+yv+3uFZWAA+gA5pEaUOUnpaMohb+/BK7+j76r4IliFoyAv9EjsZ4ZbMmyOKqmdvciiWTL4+OUsY8mkY554d7okGyciuHqgQFVIABlkJ9fV44FLFrz8ecuIZ3u6offzD1fSnFmJSgle35mzcdVQ1Eo23B4Eh7lJdWNgZGohM/r5QAjZEoaDzi0TfKPlFDV/KF35mqs0NN1v3iRrqqAT7Xbdti6UXPImKZaf5SQiUBtAIG0OVXXnmnDUJWb9nET7D8VPba7pAJTKRnxPUpI+v0BXlApZPrlgDaCTke1VqaaLZC/wesjSVVF5Ac7QAAAABJRU5ErkJggg=='\n",
       "     style='width:25px;height:25px; border-radius:12px;'/>\n",
       "\n",
       "HoloViewsJS successfully loaded in this cell.\n",
       "</div>\n"
      ],
      "text/plain": [
       "<IPython.core.display.HTML object>"
      ]
     },
     "metadata": {},
     "output_type": "display_data"
    }
   ],
   "source": [
    "'''\n",
    "# Imports\n",
    "import math as m\n",
    "import numpy as np\n",
    "import matplotlib.pyplot as plt\n",
    "import holoviews as hv\n",
    "import pylab as pl\n",
    "from pylab import exp,cos,sin,pi,tan, pi\n",
    "import pandas as pd\n",
    "import seaborn as sb\n",
    "import holoviews as hv\n",
    "from IPython.display import SVG\n",
    "import io\n",
    "from PIL import Image\n",
    "from random import random\n",
    "import elastica as el\n",
    "import elastica_neurons as en\n",
    "from dynamics import *\n",
    "%matplotlib inline\n",
    "hv.notebook_extension()\n",
    "'''"
   ]
  },
  {
   "cell_type": "markdown",
   "metadata": {},
   "source": [
    "Central orientation is $\\cfrac{\\pi}{2}$ (vertical bar) and the flanker orienatation is $\\cfrac{\\pi}{2} + \\cfrac{\\pi}{10}$. In this notebook we built a dynamic model using the elastica energy and compare the response to the already implemented passive model (see other notebook). Another important distinction between the two implementations, apart from the added dynamics is how we model the modulation. In both of the models we use an additive model. In both the passive and dynamic model, we use certain numbers of orientation selective neurons to decode the response of the center bar. However in the passive model (elastica model), we don't model the the flanker's bar response with orientation selective neurons. Rather we just calculate the energy between the orientation selective neurons of the center bar and the flanker's orientation.\n",
    "\n",
    "In this model we change two things. First of all we model the flanker with orientation selective neurons. We also add recurrence, by not only applying modulation from the flanker to the center bar, but also back from the center to the flanker bar. The responses change with time, until they settle to a stable point.\n",
    "\n",
    "The result from the passive and dynamic model can be seen below."
   ]
  },
  {
   "cell_type": "code",
   "execution_count": 2,
   "metadata": {
    "collapsed": false
   },
   "outputs": [],
   "source": [
    "# Define some variables\n",
    "# number of neurons\n",
    "nn = 100\n",
    "\n",
    "# We can experiment with different center and flanker orientation\n",
    "#center = 3*pl.pi/4\n",
    "#lanker = 3*pl.pi/4\n",
    "center = pl.pi/2\n",
    "flanker = pl.pi/2 + pl.pi/10\n",
    "#center = pl.pi/2\n",
    "#flanker = pl.pi/4\n",
    "\n",
    "# constants for von mises function\n",
    "A = 3\n",
    "k = 0.25\n",
    "# offset energy\n",
    "E0 = 4\n",
    "# strength of the modulation\n",
    "a = 0.1/150\n",
    "# different flanker orientations\n",
    "theta = pl.linspace(0,pl.pi,nn)\n",
    "# elastica energies for different flanker orientations (calculated below)\n",
    "energies = np.zeros(nn)\n",
    "\n",
    "\n"
   ]
  },
  {
   "cell_type": "code",
   "execution_count": 59,
   "metadata": {
    "collapsed": false
   },
   "outputs": [],
   "source": [
    "def calculateMatrix3(x,y):\n",
    "    m = 1\n",
    "    n = 3\n",
    "    nosn = 100\n",
    "    orientations = np.arange(0, np.pi, np.pi/nosn)\n",
    "    orientations2 = np.expand_dims(orientations, axis=1)\n",
    "    orientations3 = np.expand_dims(orientations2, axis=2)\n",
    "    orientations4 = np.tile(orientations3, (1, m, n))\n",
    "    orientations4 = np.swapaxes(orientations4,0,1)\n",
    "    orientations4 = np.swapaxes(orientations4,1,2)\n",
    "    vector_length = np.size(orientations4.ravel())\n",
    "    matrix2 = np.zeros((vector_length, vector_length))\n",
    "    for i in range(vector_length):\n",
    "        for j in range(vector_length):\n",
    "            # Calculate the coordinates of the two neurons (x,y,preferred_orientation)\n",
    "            first_neuron = calculateCoordinatesNew(i, orientations4.shape)\n",
    "            second_neuron = calculateCoordinatesNew(j, orientations4.shape)\n",
    "            # If the neurons respond to the same part of the visual field, don't have any connection between them\n",
    "            if ((first_neuron[0]==second_neuron[0] and first_neuron[1]==second_neuron[1]) or matrix2[i,j]!=0):\n",
    "                continue\n",
    "            # Model the connection of the neurons according to the elastica principle\n",
    "            y = first_neuron[0]-second_neuron[0]\n",
    "            x = first_neuron[1]-second_neuron[1]\n",
    "            theta1 = orientations4[first_neuron[0],first_neuron[1],first_neuron[2]]\n",
    "            theta2 = orientations4[second_neuron[0],second_neuron[1],second_neuron[2]]\n",
    "            energy = en.E(theta1,theta2,[x,y])\n",
    "            distance = np.sqrt(np.power(x,2) + np.power(y,2))\n",
    "            matrix2[i,j] = (energy-E0)\n",
    "            matrix2[j,i] = matrix2[i,j]\n",
    "    matrix2[0:100,200:300] /= 2\n",
    "    matrix2[200:300,0:100] /= 2\n",
    "    return matrix2\n",
    "    #showWeights(matrix, fig_size=10)"
   ]
  },
  {
   "cell_type": "code",
   "execution_count": 95,
   "metadata": {
    "collapsed": false
   },
   "outputs": [
    {
     "name": "stderr",
     "output_type": "stream",
     "text": [
      "/afs/inf.ed.ac.uk/user/s12/s1247380/Documents/HonoursProject/Python/venv/lib/python2.7/site-packages/ipykernel/__main__.py:24: DeprecationWarning: using a non-integer number instead of an integer will result in an error in the future\n",
      "/afs/inf.ed.ac.uk/user/s12/s1247380/Documents/HonoursProject/Python/venv/lib/python2.7/site-packages/ipykernel/__main__.py:25: DeprecationWarning: using a non-integer number instead of an integer will result in an error in the future\n"
     ]
    }
   ],
   "source": [
    "number_of_experiments = 25\n",
    "setNumberOfColors(number_of_experiments)\n",
    "timesteps = 50\n",
    "tau = 6\n",
    "orientations = np.arange(0, np.pi, np.pi/nosn)\n",
    "\n",
    "flanker_orientation = pl.linspace(0,pl.pi/2,number_of_experiments)\n",
    "flankers = np.zeros((timesteps,number_of_experiments))\n",
    "centers = np.zeros((timesteps,number_of_experiments))\n",
    "\n",
    "theta = np.linspace(0, np.pi/2, 25)\n",
    "r = np.sqrt(0.6)\n",
    "# compute x1 and x2\n",
    "x1 = r*np.cos(theta)\n",
    "y1 = r*np.sin(theta)\n",
    "\n",
    "for i in range(number_of_experiments):\n",
    "    #ac_orient = np.random.rand(m,n)\n",
    "    responses = np.zeros((nosn, timesteps))\n",
    "    t = np.arange(0,timesteps,1)\n",
    "    ac_orient = np.array([[flanker_orientation[i]],[0],[flanker_orientation[i]]])\n",
    "    spikes_ = vonMises(A,k,ac_orient,orientations)\n",
    "    spikes = spikes_.ravel(order='F')\n",
    "    r = np.zeros(len(spikes))\n",
    "    drdt = spikes/tau\n",
    "    rs = np.zeros(spikes.shape + (len(t),))\n",
    "    matrix = calculateMatrix3(x1[i],y1[i])\n",
    "    for s in range(len(t)):\n",
    "        r = r + drdt\n",
    "        drdt = (-r + (spikes + np.dot(matrix,r)).clip(min=0))/tau\n",
    "        rs[:,s] = r\n",
    "    rs = np.reshape(rs, spikes_.shape + (len(t),), order='F')\n",
    "    (direction, magnitude) = populationVector(orientations, rs, nosn, timesteps)\n",
    "    flankers[:,i] = direction[0,0,:]\n",
    "    centers[:,i] = direction[1,0,:]\n",
    "\n",
    "#dimensions = ['T']\n",
    "#keys = [i for i in range(timesteps)]\n",
    "#oneColor()\n",
    "#r_first_neuron_hm = [(k, visualField(direction[:,:,k], aspect=n/float(m), fix_scale=True)) for k in keys]\n",
    "#results = hv.HoloMap(r_first_neuron_hm, kdims=dimensions)"
   ]
  },
  {
   "cell_type": "code",
   "execution_count": 96,
   "metadata": {
    "collapsed": false
   },
   "outputs": [
    {
     "data": {
      "text/html": [
       "<img src='data:image/png;base64,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' style='max-width:100%; margin: auto; display: block; '/>"
      ],
      "text/plain": [
       ":Overlay\n",
       "   .Curve.I     :Curve   [x]   (y)\n",
       "   .Curve.II    :Curve   [x]   (y)\n",
       "   .Curve.III   :Curve   [x]   (y)\n",
       "   .Curve.IV    :Curve   [x]   (y)\n",
       "   .Curve.V     :Curve   [x]   (y)\n",
       "   .Curve.VI    :Curve   [x]   (y)\n",
       "   .Curve.VII   :Curve   [x]   (y)\n",
       "   .Curve.VIII  :Curve   [x]   (y)\n",
       "   .Curve.IX    :Curve   [x]   (y)\n",
       "   .Curve.X     :Curve   [x]   (y)\n",
       "   .Curve.XI    :Curve   [x]   (y)\n",
       "   .Curve.XII   :Curve   [x]   (y)\n",
       "   .Curve.XIII  :Curve   [x]   (y)\n",
       "   .Curve.XIV   :Curve   [x]   (y)\n",
       "   .Curve.XV    :Curve   [x]   (y)\n",
       "   .Curve.XVI   :Curve   [x]   (y)\n",
       "   .Curve.XVII  :Curve   [x]   (y)\n",
       "   .Curve.XVIII :Curve   [x]   (y)\n",
       "   .Curve.XIX   :Curve   [x]   (y)\n",
       "   .Curve.XX    :Curve   [x]   (y)\n",
       "   .Curve.XXI   :Curve   [x]   (y)\n",
       "   .Curve.XXII  :Curve   [x]   (y)\n",
       "   .Curve.XXIII :Curve   [x]   (y)\n",
       "   .Curve.XXIV  :Curve   [x]   (y)\n",
       "   .Curve.XXV   :Curve   [x]   (y)"
      ]
     },
     "execution_count": 96,
     "metadata": {},
     "output_type": "execute_result"
    }
   ],
   "source": [
    "%output size=300\n",
    "a = hv.Curve(centers[0,0:99])\n",
    "for i in np.arange(1,25,1):\n",
    "    a *= hv.Curve(centers[i,0:99])\n",
    "a(plot={'aspect':3})"
   ]
  },
  {
   "cell_type": "code",
   "execution_count": 94,
   "metadata": {
    "collapsed": false
   },
   "outputs": [
    {
     "data": {
      "text/plain": [
       "0.0"
      ]
     },
     "execution_count": 94,
     "metadata": {},
     "output_type": "execute_result"
    }
   ],
   "source": [
    "y1[0]"
   ]
  },
  {
   "cell_type": "code",
   "execution_count": 92,
   "metadata": {
    "collapsed": false
   },
   "outputs": [
    {
     "data": {
      "image/png": "[encoded data removed]",
      "text/plain": [
       "<matplotlib.figure.Figure at 0x5b4c510>"
      ]
     },
     "metadata": {},
     "output_type": "display_data"
    }
   ],
   "source": [
    "theta = np.linspace(0, np.pi/2, 25)\n",
    "r = np.sqrt(0.6)\n",
    "# compute x1 and x2\n",
    "x1 = r*np.cos(theta)\n",
    "y1 = r*np.sin(theta)\n",
    "\n",
    "# create the figure\n",
    "fig, ax = plt.subplots(1)\n",
    "ax.plot(x1, y1)\n",
    "ax.set_aspect(1)\n",
    "plt.show()"
   ]
  },
  {
   "cell_type": "code",
   "execution_count": 30,
   "metadata": {
    "collapsed": false
   },
   "outputs": [
    {
     "data": {
      "image/png": "[encoded data removed]",
      "text/plain": [
       "<matplotlib.figure.Figure at 0x6c1ef90>"
      ]
     },
     "metadata": {},
     "output_type": "display_data"
    }
   ],
   "source": [
    "x3 = x1[50:75]\n",
    "y3 = y1[50:75]\n",
    "\n",
    "# create the figure\n",
    "fig, ax = plt.subplots(1)\n",
    "ax.plot(-x3, -y3)\n",
    "ax.set_aspect(1)\n",
    "plt.show()"
   ]
  },
  {
   "cell_type": "code",
   "execution_count": 29,
   "metadata": {
    "collapsed": false
   },
   "outputs": [
    {
     "data": {
      "image/png": "[encoded data removed]",
      "text/plain": [
       "<matplotlib.figure.Figure at 0x6bea0d0>"
      ]
     },
     "metadata": {},
     "output_type": "display_data"
    }
   ],
   "source": [
    "x3 = x1[50:75]\n",
    "y3 = y1[50:75]\n",
    "\n",
    "# create the figure\n",
    "fig, ax = plt.subplots(1)\n",
    "ax.plot(np.flipud(x3), np.flipud(y3))\n",
    "ax.set_aspect(1)\n",
    "plt.show()"
   ]
  },
  {
   "cell_type": "code",
   "execution_count": 42,
   "metadata": {
    "collapsed": true
   },
   "outputs": [],
   "source": [
    "theta = pl.linspace(pl.pi/2,pl.pi,25)"
   ]
  },
  {
   "cell_type": "code",
   "execution_count": 11,
   "metadata": {
    "collapsed": false
   },
   "outputs": [
    {
     "data": {
      "text/plain": [
       "(50,)"
      ]
     },
     "execution_count": 11,
     "metadata": {},
     "output_type": "execute_result"
    }
   ],
   "source": [
    "orientations = np.arange(np.pi/2, np.pi, np.pi/nosn)\n",
    "orientations.shape"
   ]
  },
  {
   "cell_type": "code",
   "execution_count": 13,
   "metadata": {
    "collapsed": false
   },
   "outputs": [
    {
     "data": {
      "text/html": [
       "<img src='data:image/png;base64,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' style='max-width:100%; margin: auto; display: block; '/>"
      ],
      "text/plain": [
       ":Overlay\n",
       "   .Curve.I   :Curve   [x]   (y)\n",
       "   .Curve.II  :Curve   [x]   (y)\n",
       "   .Curve.III :Curve   [x]   (y)\n",
       "   .Curve.IV  :Curve   [x]   (y)\n",
       "   .Curve.V   :Curve   [x]   (y)"
      ]
     },
     "execution_count": 13,
     "metadata": {},
     "output_type": "execute_result"
    }
   ],
   "source": [
    "a = hv.Curve(centers[0,1:98])\n",
    "for i in range(1,5):\n",
    "    a *= hv.Curve(centers[i,1:98])\n",
    "a(plot={'aspect':3})"
   ]
  },
  {
   "cell_type": "code",
   "execution_count": 14,
   "metadata": {
    "collapsed": true
   },
   "outputs": [],
   "source": [
    "setNumberOfColors(nosn)\n",
    "timesteps = 50\n",
    "tau = 6\n",
    "orientations = np.arange(0, np.pi, np.pi/nosn)\n",
    "flanker_orientation = pl.linspace(pl.pi/2,pl.pi,nosn)\n",
    "flankers = np.zeros((timesteps,nosn))\n",
    "centers = np.zeros((timesteps,nosn))\n",
    "for i in range(nosn):\n",
    "    #ac_orient = np.random.rand(m,n)\n",
    "    responses = np.zeros((nosn, timesteps))\n",
    "    t = np.arange(0,timesteps,1)\n",
    "    ac_orient = np.array([[flanker_orientation[i]],[np.pi/2],[flanker_orientation[i]]])\n",
    "    spikes_ = vonMises(A,k,ac_orient,orientations)\n",
    "    spikes = spikes_.ravel(order='F')\n",
    "    r = np.zeros(len(spikes))\n",
    "    drdt = spikes/tau\n",
    "    rs = np.zeros(spikes.shape + (len(t),))\n",
    "    for s in range(len(t)):\n",
    "        r = r + drdt\n",
    "        drdt = (-r + (spikes + np.dot(matrix,r)).clip(min=0))/tau\n",
    "        rs[:,s] = r\n",
    "    rs = np.reshape(rs, spikes_.shape + (len(t),), order='F')\n",
    "    (direction, magnitude) = populationVector(orientations, rs, nosn, timesteps)\n",
    "    flankers[:,i] = direction[0,0,:]\n",
    "    centers[:,i] = direction[1,0,:]\n",
    "\n",
    "#dimensions = ['T']\n",
    "#keys = [i for i in range(timesteps)]\n",
    "#oneColor()\n",
    "#r_first_neuron_hm = [(k, visualField(direction[:,:,k], aspect=n/float(m), fix_scale=True)) for k in keys]\n",
    "#results = hv.HoloMap(r_first_neuron_hm, kdims=dimensions)"
   ]
  },
  {
   "cell_type": "code",
   "execution_count": 15,
   "metadata": {
    "collapsed": false
   },
   "outputs": [
    {
     "data": {
      "text/html": [
       "<img src='data:image/png;base64,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' style='max-width:100%; margin: auto; display: block; '/>"
      ],
      "text/plain": [
       ":Overlay\n",
       "   .Curve.I   :Curve   [x]   (y)\n",
       "   .Curve.II  :Curve   [x]   (y)\n",
       "   .Curve.III :Curve   [x]   (y)\n",
       "   .Curve.IV  :Curve   [x]   (y)\n",
       "   .Curve.V   :Curve   [x]   (y)"
      ]
     },
     "execution_count": 15,
     "metadata": {},
     "output_type": "execute_result"
    }
   ],
   "source": [
    "a = hv.Curve(centers[0,1:98])\n",
    "for i in range(1,5):\n",
    "    a *= hv.Curve(centers[i,1:98])\n",
    "a(plot={'aspect':3})"
   ]
  },
  {
   "cell_type": "code",
   "execution_count": 16,
   "metadata": {
    "collapsed": false
   },
   "outputs": [
    {
     "data": {
      "text/plain": [
       "<matplotlib.legend.Legend at 0x6da4990>"
      ]
     },
     "execution_count": 16,
     "metadata": {},
     "output_type": "execute_result"
    },
    {
     "data": {
      "image/png": "[encoded data removed]",
      "text/plain": [
       "<matplotlib.figure.Figure at 0x666a590>"
      ]
     },
     "metadata": {},
     "output_type": "display_data"
    }
   ],
   "source": [
    "# Magnitude of the response\n",
    "fla1, = plt.plot(magnitude[0,0,:], label='flanker1')\n",
    "cen, = plt.plot(magnitude[1,0,:], label='center')\n",
    "fla2, = plt.plot(magnitude[2,0,:], label='flanker2')\n",
    "plt.legend(handles=[fla1, cen, fla2])"
   ]
  },
  {
   "cell_type": "code",
   "execution_count": 17,
   "metadata": {
    "collapsed": false
   },
   "outputs": [
    {
     "data": {
      "text/plain": [
       "<matplotlib.legend.Legend at 0x6f5c450>"
      ]
     },
     "execution_count": 17,
     "metadata": {},
     "output_type": "execute_result"
    },
    {
     "data": {
      "image/png": "[encoded data removed]",
      "text/plain": [
       "<matplotlib.figure.Figure at 0x6d8f550>"
      ]
     },
     "metadata": {},
     "output_type": "display_data"
    }
   ],
   "source": [
    "# Direction of the response\n",
    "fla1, = plt.plot(direction[0,0,:], label='flanker1')\n",
    "cen, = plt.plot(direction[1,0,:], label='center')\n",
    "fla2, = plt.plot(direction[2,0,:], label='flanker2')\n",
    "plt.legend(handles=[fla1, cen, fla2])"
   ]
  },
  {
   "cell_type": "markdown",
   "metadata": {},
   "source": [
    "Population of center orientation selective neurons for different timesteps"
   ]
  }
 ],
 "metadata": {
  "kernelspec": {
   "display_name": "Python 2",
   "language": "python",
   "name": "python2"
  },
  "language_info": {
   "codemirror_mode": {
    "name": "ipython",
    "version": 2
   },
   "file_extension": ".py",
   "mimetype": "text/x-python",
   "name": "python",
   "nbconvert_exporter": "python",
   "pygments_lexer": "ipython2",
   "version": "2.7.5"
  }
 },
 "nbformat": 4,
 "nbformat_minor": 0
}
