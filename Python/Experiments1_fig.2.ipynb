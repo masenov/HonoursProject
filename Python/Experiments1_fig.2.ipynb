{
 "cells": [
  {
   "cell_type": "markdown",
   "metadata": {},
   "source": [
    "\n",
    "<h2 align=\"center\">Experiments (Sander's paper, fig.2)</h2> "
   ]
  },
  {
   "cell_type": "markdown",
   "metadata": {},
   "source": [
    "In this experiment we reproduce the experiment from fig.2 in the Elastica paper. We analyze the response of single orientaiton selective neuron (with prefered orientation 1 radian, or around 60 degrees). Its response is modulated by 32 neurons with varying orientation from 0 to pi."
   ]
  },
  {
   "cell_type": "code",
   "execution_count": 75,
   "metadata": {
    "collapsed": false
   },
   "outputs": [
    {
     "data": {
      "text/html": [
       "<script type=\"text/javascript\">\n",
       "function HoloViewsWidget(){\n",
       "        }\n",
       "        \n",
       "        HoloViewsWidget.prototype.init_slider = function(init_val){\n",
       "            if(this.cached) {\n",
       "                this.update_cache();\n",
       "                this.update(0);\n",
       "            } else {\n",
       "                this.dynamic_update(0);\n",
       "            }\n",
       "        }\n",
       "        \n",
       "        HoloViewsWidget.prototype.populate_cache = function(idx){\n",
       "            if(this.load_json) {\n",
       "        \t\tvar data_url = \"./\" + this.id + '.json';\n",
       "        \t\t$.getJSON(data_url, $.proxy(function(json_data) {\n",
       "        \t\t\tthis.frames = json_data;\n",
       "        \t\t\t$.each(this.frames, $.proxy(function(index, frame) {\n",
       "        \t\t\t\tthis.cache[index].html(frame);\n",
       "        \t\t\t}, this));\n",
       "        \t\t}, this));\n",
       "            } else {\n",
       "                this.cache[idx].html(this.frames[idx]);\n",
       "                if (this.embed) {\n",
       "                    delete this.frames[idx];\n",
       "                }\n",
       "            }\n",
       "        }\n",
       "        \n",
       "        HoloViewsWidget.prototype.process_error = function(msg){\n",
       "        \n",
       "        }\n",
       "        \n",
       "        \n",
       "        \n",
       "        HoloViewsWidget.prototype.dynamic_update = function(current){\n",
       "            function callback(msg){\n",
       "                /* This callback receives data from Python as a string\n",
       "                 in order to parse it correctly quotes are sliced off*/\n",
       "                var data = msg.content.data['text/plain'].slice(1, -1);\n",
       "                this.frames[current] = data;\n",
       "                this.update_cache();\n",
       "                this.update(current);\n",
       "            }\n",
       "            if(!(current in this.cache)) {\n",
       "                var kernel = IPython.notebook.kernel;\n",
       "                callbacks = {iopub: {output: $.proxy(callback, this)}};\n",
       "                var cmd = \"holoviews.plotting.widgets.NdWidget.widgets['\" + this.id + \"'].update(\" + current + \")\";\n",
       "                kernel.execute(\"import holoviews;\" + cmd, callbacks, {silent : false});\n",
       "            } else {\n",
       "                this.update(current);\n",
       "            }\n",
       "        }\n",
       "        \n",
       "        HoloViewsWidget.prototype.update_cache = function(){\n",
       "            if(this.load_json) {\n",
       "                var frame_len = Object.keys(this.keyMap).length;\n",
       "            } else {\n",
       "                var frame_len = Object.keys(this.frames).length;\n",
       "            }\n",
       "            for (var i=0; i<frame_len; i++) {\n",
       "                if(!this.load_json || this.dynamic)  {\n",
       "                    frame = Object.keys(this.frames)[i];\n",
       "                } else {\n",
       "                    frame = i;\n",
       "                }\n",
       "                if(!(frame in this.cache)) {\n",
       "                    this.cache[frame] = $('<div />').appendTo(\"#\" + this.img_id).hide();\n",
       "                    var cache_id = this.img_id+\"_\"+frame;\n",
       "                    this.cache[frame].attr(\"id\", cache_id);\n",
       "                    this.populate_cache(frame);\n",
       "                }\n",
       "            }\n",
       "        }\n",
       "        \n",
       "        HoloViewsWidget.prototype.update = function(current){\n",
       "            if(current in this.cache) {\n",
       "                $.each(this.cache, function(index, value) {\n",
       "                    value.hide();\n",
       "                });\n",
       "                this.cache[current].show();\n",
       "            }\n",
       "        }\n",
       "        \n",
       "        \n",
       "        function SelectionWidget(frames, id, slider_ids, keyMap, dim_vals, notFound, load_json, mode, cached, json_path, dynamic){\n",
       "            this.frames = frames;\n",
       "            this.fig_id = \"fig_\" + id;\n",
       "            this.img_id = \"_anim_img\" + id;\n",
       "            this.id = id;\n",
       "            this.slider_ids = slider_ids;\n",
       "            this.keyMap = keyMap\n",
       "            this.current_frame = 0;\n",
       "            this.current_vals = dim_vals;\n",
       "            this.load_json = load_json;\n",
       "            this.mode = mode;\n",
       "            this.notFound = notFound;\n",
       "            this.cached = cached;\n",
       "            this.dynamic = dynamic;\n",
       "            this.cache = {};\n",
       "        \tthis.json_path = json_path;\n",
       "            this.init_slider(this.current_vals[0]);\n",
       "        }\n",
       "        \n",
       "        SelectionWidget.prototype = new HoloViewsWidget;\n",
       "        \n",
       "        SelectionWidget.prototype.set_frame = function(dim_val, dim_idx){\n",
       "            this.current_vals[dim_idx] = dim_val;\n",
       "            if(this.dynamic) {\n",
       "                this.dynamic_update(this.current_vals)\n",
       "                return;\n",
       "            }\n",
       "            var key = \"(\";\n",
       "            for (var i=0; i<this.slider_ids.length; i++)\n",
       "            {\n",
       "                val = this.current_vals[i];\n",
       "                if (!(_.isString(val))) {\n",
       "                    if (val % 1 === 0) { var fixed = 1;}\n",
       "                    else { var fixed = 10;}\n",
       "                    val = val.toFixed(fixed)\n",
       "                }\n",
       "                key += \"'\" + val + \"'\";\n",
       "                if(i != this.slider_ids.length-1) { key += ', ';}\n",
       "                else if(this.slider_ids.length == 1) { key += ',';}\n",
       "            }\n",
       "            key += \")\";\n",
       "            var current = this.keyMap[key];\n",
       "            this.current_frame = current;\n",
       "            if(this.cached) {\n",
       "                this.update(current)\n",
       "            } else {\n",
       "                this.dynamic_update(current)\n",
       "            }\n",
       "        }\n",
       "        \n",
       "        \n",
       "        /* Define the ScrubberWidget class */\n",
       "        function ScrubberWidget(frames, num_frames, id, interval, load_json, mode, cached, json_path, dynamic){\n",
       "            this.img_id = \"_anim_img\" + id;\n",
       "            this.slider_id = \"_anim_slider\" + id;\n",
       "            this.loop_select_id = \"_anim_loop_select\" + id;\n",
       "            this.id = id;\n",
       "            this.fig_id = \"fig_\" + id;\n",
       "            this.interval = interval;\n",
       "            this.current_frame = 0;\n",
       "            this.direction = 0;\n",
       "            this.dynamic = dynamic;\n",
       "            this.timer = null;\n",
       "            this.load_json = load_json;\n",
       "            this.mode = mode;\n",
       "            this.cached = cached;\n",
       "            this.frames = frames;\n",
       "            this.cache = {};\n",
       "            this.length = num_frames;\n",
       "        \tthis.json_path = json_path;\n",
       "            document.getElementById(this.slider_id).max = this.length - 1;\n",
       "            this.init_slider(0);\n",
       "        }\n",
       "        \n",
       "        ScrubberWidget.prototype = new HoloViewsWidget;\n",
       "        \n",
       "        ScrubberWidget.prototype.set_frame = function(frame){\n",
       "            this.current_frame = frame;\n",
       "            document.getElementById(this.slider_id).value = this.current_frame;\n",
       "            if(this.cached) {\n",
       "                this.update(frame)\n",
       "            } else {\n",
       "                this.dynamic_update(frame)\n",
       "            }\n",
       "        }\n",
       "        \n",
       "        \n",
       "        ScrubberWidget.prototype.process_error = function(msg){\n",
       "        \tif (msg.content.ename === 'StopIteration') {\n",
       "        \t\tthis.pause_animation();\n",
       "        \t\tvar keys = Object.keys(this.frames)\n",
       "        \t\tthis.length = keys.length;\n",
       "        \t\tdocument.getElementById(this.slider_id).max = this.length-1;\n",
       "        \t\tdocument.getElementById(this.slider_id).value = this.length-1;\n",
       "        \t\tthis.current_frame = this.length-1;\n",
       "        \t}\n",
       "        }\n",
       "        \n",
       "        \n",
       "        ScrubberWidget.prototype.get_loop_state = function(){\n",
       "            var button_group = document[this.loop_select_id].state;\n",
       "            for (var i = 0; i < button_group.length; i++) {\n",
       "                var button = button_group[i];\n",
       "                if (button.checked) {\n",
       "                    return button.value;\n",
       "                }\n",
       "            }\n",
       "            return undefined;\n",
       "        }\n",
       "        \n",
       "        \n",
       "        ScrubberWidget.prototype.next_frame = function() {\n",
       "        \tif (this.dynamic && this.current_frame + 1 >= this.length) {\n",
       "        \t\tthis.length += 1;\n",
       "                document.getElementById(this.slider_id).max = this.length-1;\n",
       "        \t}\n",
       "            this.set_frame(Math.min(this.length - 1, this.current_frame + 1));\n",
       "        }\n",
       "        \n",
       "        ScrubberWidget.prototype.previous_frame = function() {\n",
       "            this.set_frame(Math.max(0, this.current_frame - 1));\n",
       "        }\n",
       "        \n",
       "        ScrubberWidget.prototype.first_frame = function() {\n",
       "            this.set_frame(0);\n",
       "        }\n",
       "        \n",
       "        ScrubberWidget.prototype.last_frame = function() {\n",
       "            this.set_frame(this.length - 1);\n",
       "        }\n",
       "        \n",
       "        ScrubberWidget.prototype.slower = function() {\n",
       "            this.interval /= 0.7;\n",
       "            if(this.direction > 0){this.play_animation();}\n",
       "            else if(this.direction < 0){this.reverse_animation();}\n",
       "        }\n",
       "        \n",
       "        ScrubberWidget.prototype.faster = function() {\n",
       "            this.interval *= 0.7;\n",
       "            if(this.direction > 0){this.play_animation();}\n",
       "            else if(this.direction < 0){this.reverse_animation();}\n",
       "        }\n",
       "        \n",
       "        ScrubberWidget.prototype.anim_step_forward = function() {\n",
       "            if(this.current_frame < this.length || this.dynamic){\n",
       "                this.next_frame();\n",
       "            }else{\n",
       "                var loop_state = this.get_loop_state();\n",
       "                if(loop_state == \"loop\"){\n",
       "                    this.first_frame();\n",
       "                }else if(loop_state == \"reflect\"){\n",
       "                    this.last_frame();\n",
       "                    this.reverse_animation();\n",
       "                }else{\n",
       "                    this.pause_animation();\n",
       "                    this.last_frame();\n",
       "                }\n",
       "            }\n",
       "        }\n",
       "        \n",
       "        ScrubberWidget.prototype.anim_step_reverse = function() {\n",
       "            this.current_frame -= 1;\n",
       "            if(this.current_frame >= 0){\n",
       "                this.set_frame(this.current_frame);\n",
       "            } else {\n",
       "                var loop_state = this.get_loop_state();\n",
       "                if(loop_state == \"loop\"){\n",
       "                    this.last_frame();\n",
       "                }else if(loop_state == \"reflect\"){\n",
       "                    this.first_frame();\n",
       "                    this.play_animation();\n",
       "                }else{\n",
       "                    this.pause_animation();\n",
       "                    this.first_frame();\n",
       "                }\n",
       "            }\n",
       "        }\n",
       "        \n",
       "        ScrubberWidget.prototype.pause_animation = function() {\n",
       "            this.direction = 0;\n",
       "            if (this.timer){\n",
       "                clearInterval(this.timer);\n",
       "                this.timer = null;\n",
       "            }\n",
       "        }\n",
       "        \n",
       "        ScrubberWidget.prototype.play_animation = function() {\n",
       "            this.pause_animation();\n",
       "            this.direction = 1;\n",
       "            var t = this;\n",
       "            if (!this.timer) this.timer = setInterval(function(){t.anim_step_forward();}, this.interval);\n",
       "        }\n",
       "        \n",
       "        ScrubberWidget.prototype.reverse_animation = function() {\n",
       "            this.pause_animation();\n",
       "            this.direction = -1;\n",
       "            var t = this;\n",
       "            if (!this.timer) this.timer = setInterval(function(){t.anim_step_reverse();}, this.interval);\n",
       "        }\n",
       "        \n",
       "        function extend(destination, source) {\n",
       "            for (var k in source) {\n",
       "                if (source.hasOwnProperty(k)) {\n",
       "                    destination[k] = source[k];\n",
       "                }\n",
       "            }\n",
       "            return destination;\n",
       "        }\n",
       "        \n",
       "        function update_widget(widget, values) {\n",
       "        \tif (widget.hasClass(\"ui-slider\")) {\n",
       "        \t\twidget.slider('option',\n",
       "        \t\t\t\t\t  {'min': 0, 'max': values.length-1,\n",
       "        \t\t\t\t\t   'dim_vals': values, 'value': 0})\n",
       "        \t\twidget.slider('option', 'slide').call(widget, event, {'value': 0})\n",
       "        \t} else {\n",
       "        \t\twidget.empty();\n",
       "        \t\tfor (var i=0; i<values.length; i++){\n",
       "        \t\t\twidget.append($(\"<option>\", {\n",
       "        \t\t\t\tvalue: i,\n",
       "        \t\t\t\ttext: values[i]\n",
       "        \t\t\t}))};\n",
       "        \t\twidget.trigger(\"change\");\n",
       "        \t};\n",
       "        }\n",
       "        \n",
       "        // Define MPL specific subclasses\n",
       "        function MPLSelectionWidget() {\n",
       "        \tSelectionWidget.apply(this, arguments);\n",
       "        }\n",
       "        \n",
       "        function MPLScrubberWidget() {\n",
       "        \tScrubberWidget.apply(this, arguments);\n",
       "        }\n",
       "        \n",
       "        // Let them inherit from the baseclasses\n",
       "        MPLSelectionWidget.prototype = Object.create(SelectionWidget.prototype);\n",
       "        MPLScrubberWidget.prototype = Object.create(ScrubberWidget.prototype);\n",
       "        \n",
       "        // Define methods to override on widgets\n",
       "        var MPLMethods = {\n",
       "        \tinit_slider : function(init_val){\n",
       "        \t\tif(this.mode == 'nbagg') {\n",
       "        \t\t\tthis.update_cache();\n",
       "        \t\t\tthis.update(0);\n",
       "        \t\t\tthis.set_frame(init_val, 0);\n",
       "        \t\t} else if(this.cached) {\n",
       "        \t\t\tthis.update_cache();\n",
       "        \t\t\tthis.update(0);\n",
       "        \t\t} else {\n",
       "        \t\t\tthis.dynamic_update(0);\n",
       "        \t\t}\n",
       "        \t},\n",
       "        \tpopulate_cache : function(idx){\n",
       "        \t\tvar cache_id = this.img_id+\"_\"+idx;\n",
       "        \t\tif(this.load_json) {\n",
       "        \t\t\tvar data_url = this.json_path + '/' + this.id + '.json';\n",
       "        \t\t\t$.getJSON(data_url, $.proxy(function(json_data) {\n",
       "        \t\t\t\tif(this.mode == 'mpld3') {\n",
       "        \t\t\t\t\tmpld3.draw_figure(cache_id, json_data[idx]);\n",
       "        \t\t\t\t} else {\n",
       "        \t\t\t\t\tthis.cache[idx].html(json_data[idx]);\n",
       "        \t\t\t\t}\n",
       "        \t\t\t}, this));\n",
       "        \t\t} else {\n",
       "        \t\t\tif(this.mode == 'mpld3') {\n",
       "        \t\t\t\tmpld3.draw_figure(cache_id, this.frames[idx]);\n",
       "        \t\t\t} else {\n",
       "        \t\t\t\tthis.cache[idx].html(this.frames[idx]);\n",
       "        \t\t\t}\n",
       "        \t\t}\n",
       "        \t},\n",
       "        \tdynamic_update : function(current){\n",
       "        \t\tif (this.dynamic) {\n",
       "        \t\t\tcurrent = JSON.stringify(current);\n",
       "        \t\t}\n",
       "        \t\tfunction callback(msg){\n",
       "        \t\t\t/* This callback receives data from Python as a string\n",
       "        \t\t\t in order to parse it correctly quotes are sliced off*/\n",
       "        \t\t\tif (msg.content.ename != undefined) {\n",
       "        \t\t\t\tthis.process_error(msg);\n",
       "        \t\t\t}\n",
       "        \t\t\tif (msg.msg_type != \"execute_result\") {\n",
       "        \t\t\t\tconsole.log(\"Warning: HoloViews callback returned unexpected data for key: (\", current, \") with the following content:\", msg.content)\n",
       "        \t\t\t\treturn\n",
       "        \t\t\t}\n",
       "        \t\t\tif (!(this.mode == 'nbagg')) {\n",
       "        \t\t\t\tif(!(current in this.cache)) {\n",
       "        \t\t\t\t\tvar data = msg.content.data['text/plain'].slice(1, -1);\n",
       "        \t\t\t\t\tif(this.mode == 'mpld3'){\n",
       "        \t\t\t\t\t\tdata = JSON.parse(data)[0];\n",
       "        \t\t\t\t\t}\n",
       "        \t\t\t\t\tthis.frames[current] = data;\n",
       "        \t\t\t\t\tthis.update_cache();\n",
       "        \t\t\t\t}\n",
       "        \t\t\t\tthis.update(current);\n",
       "        \t\t\t}\n",
       "        \t\t}\n",
       "        \t\tvar kernel = IPython.notebook.kernel;\n",
       "        \t\tcallbacks = {iopub: {output: $.proxy(callback, this)}};\n",
       "        \t\tvar cmd = \"holoviews.plotting.widgets.NdWidget.widgets['\" + this.id + \"'].update(\" + current + \")\";\n",
       "        \t\tkernel.execute(\"import holoviews;\" + cmd, callbacks, {silent : false});\n",
       "        \t}\n",
       "        }\n",
       "        \n",
       "        // Extend MPL widgets with backend specific methods\n",
       "        extend(MPLSelectionWidget.prototype, MPLMethods);\n",
       "        extend(MPLScrubberWidget.prototype, MPLMethods);\n",
       "</script>\n",
       "\n",
       "<style>\n",
       "div.hololayout {\n",
       "            display: flex;\n",
       "            align-items: center;\n",
       "            margin: 0;\n",
       "        }\n",
       "        \n",
       "        form.holoform {\n",
       "            background-color: #fafafa;\n",
       "            border-radius: 5px;\n",
       "            overflow: hidden;\n",
       "            padding: 0.8em;\n",
       "        }\n",
       "        \n",
       "        div.holoslider {\n",
       "            min-height: 0 !important;\n",
       "            height: 0.8em;\n",
       "        }\n",
       "        \n",
       "        div.holoformgroup {\n",
       "            padding-right: 0.5em;\n",
       "            padding-top: 0.5em;\n",
       "            margin-bottom: 0.5em;\n",
       "        }\n",
       "        \n",
       "        div.hologroup {\n",
       "            padding-left: 0;\n",
       "            padding-right: 0.6em;\n",
       "        }\n",
       "        \n",
       "        .holoselect {\n",
       "            width: 92%;\n",
       "            margin-left: 0;\n",
       "            margin-right: 0;\n",
       "        }\n",
       "        \n",
       "        .holotext {\n",
       "            width: 100%;\n",
       "            padding-left:  0.5em;\n",
       "            padding-right: 0;\n",
       "        }\n",
       "</style>\n",
       "\n",
       "\n",
       "<div>\n",
       "<img src='data:image/png;base64,iVBORw0KGgoAAAANSUhEUgAAABkAAAAZCAIAAABLixI0AAAACXBIWXMAAAsTAAALEwEAmpwYAAAAB3RJTUUH3wkCDDIOi3cusgAABT1JREFUOMtVlclvG2UYh3/fMovHe53FThySNHZomrRJl6QR0AJdpVblQBEHJC4ciipxAgmO3PgPEP8BQkIsRUJUSF1oqGih0JY2CtnjOLGz2Em8xPbMeL6Pw9RJOprLjPT+5tH7Pu83JE7pqeHh8wMD2evfyXMXf/nxB2FZo6dPNzVHvvr6GxMQeOEigARswNzzUgK6x8NagPzS0nqxODQ62nLn1xMnX99/eLC3sGVROj2/IBxHABKgANlzM4ACTuMRAOecNREiAWtzc0NIEu/M37zVMTWeqlrpUDg1M7NTVgdkowwvxqGRRV1CE8jOznq7uhYAi2CpXtdVVQE4QAAdCAAGwAAJyEa9Amh7PsAihBBAABrg1XUfpe3bxTXb8XR0WJa1VSzWGyAcUAEVoIAARIMOQH2HC4AA6lKW8/n9Pm/Ahl4zV8fGTg0PtzQ3K3tA3GId8AO+BqZLt8sFQKE0GouRSkWtFM63KV0Vy1rJhN44k56cFFI6exJ3MBWANACVHS63aw5QtutVVT/4xWfHv/0ylytmHvx56sIFLxACfIABGIAf8ANRn++9y5evXrkS0XWXd5dLJWRfOHwspA1tr4iFtP3gD8/apjCtSDiyQYhZKNA94wOQTCQPhfzm9FTJH8jn84Tz3SyPlEQ4vf0Dt5/MPE5vpVObzQbxqvaDdL731MnWnh5pmsxxdE3rTCZfO3u2FbL6+2+hzpcKwXA2ldrNUgAVII7TMXhkZnzcAQTgAWI6sgV7YmKivLra1tFxMJk4Ho/r5fLy3btsYS7JHL1YoeHQKldKhcLzLNcdlRDOWDgczuVyOtDt4yN9gRYVmc161TTLmYw9P9e8OHcU5dG2fa3EmhNyKjGwROmzZ8+YqlIAKsDd9jtOenIy1t8vgDJQtuvYrjRT0kMQBRIUQxqSXkSDUIO0YAulvdfxGk/u33eVZs2EeBvu6gCjtKW7Oz81xQBhI73mtATQn/BuZ6wTrezsYX+1Jn+aNR8sl9Zb47l4/O+HD2u27QDgnHUQwhvKuFmRaLS2tkZsmwJSQpqIUzHYyynndx5t/1Vy5gXyhMhorEJIKpViQB0QnFNlZzkbdExRhBAckIAFbFXFetkpg94er004WK6jCniamrRAYHlmxhXFtWTXVfW50SQYDjvVKm+YHVMR10G5VAGrcWAohkEVpbC1RRo7QN2mS0BzuQiJHziwMTurAwrgBTo95NVjnshb3XaF9q1MTM7VeWNv6kJQgAISYAAHuARUQAHA2NCZM35KJ27c6KA4YiBXJlpVro5bkaGN2mStsCy8gAXobpyU7iFhAgxQAB40jMHh4WhnJ6nVpsfGVjOZUQMhi40k9K1FqQZI4ogffd3k33GPobTb5kCIFmriEYjgnABao60KwD68eCnz5PH0vXsr4+OsVIpRvNmpnLvQEozRpm5vxAP107dx+RMlvGTcmw7Xle6DwZlsdbZY05qbAq2ta9msCkhAcM4+yv+3uFZWAA+gA5pEaUOUnpaMohb+/BK7+j76r4IliFoyAv9EjsZ4ZbMmyOKqmdvciiWTL4+OUsY8mkY554d7okGyciuHqgQFVIABlkJ9fV44FLFrz8ecuIZ3u6offzD1fSnFmJSgle35mzcdVQ1Eo23B4Eh7lJdWNgZGohM/r5QAjZEoaDzi0TfKPlFDV/KF35mqs0NN1v3iRrqqAT7Xbdti6UXPImKZaf5SQiUBtAIG0OVXXnmnDUJWb9nET7D8VPba7pAJTKRnxPUpI+v0BXlApZPrlgDaCTke1VqaaLZC/wesjSVVF5Ac7QAAAABJRU5ErkJggg=='\n",
       "     style='width:25px;height:25px; border-radius:12px;'/>\n",
       "\n",
       "HoloViewsJS successfully loaded in this cell.\n",
       "</div>\n"
      ],
      "text/plain": [
       "<IPython.core.display.HTML object>"
      ]
     },
     "metadata": {},
     "output_type": "display_data"
    }
   ],
   "source": [
    "# Imports\n",
    "import math as m\n",
    "import numpy as np\n",
    "import holoviews as hv\n",
    "import pylab as pl\n",
    "from pylab import exp,cos,sin,pi,tan, pi\n",
    "import pandas as pd\n",
    "import seaborn as sb\n",
    "import holoviews as hv\n",
    "from IPython.display import SVG\n",
    "import io\n",
    "from PIL import Image\n",
    "from random import random\n",
    "import elastica as el\n",
    "import elastica_neurons as en\n",
    "from dynamics import *\n",
    "import matplotlib as mpl\n",
    "\n",
    "%matplotlib inline\n",
    "hv.notebook_extension()"
   ]
  },
  {
   "cell_type": "code",
   "execution_count": 76,
   "metadata": {
    "collapsed": false
   },
   "outputs": [],
   "source": [
    "# Define some variables\n",
    "# number of neurons\n",
    "nn = 100\n",
    "# flanker orientation\n",
    "flanker = pl.pi/2+pl.pi/10\n",
    "center = pl.pi/2\n",
    "#center = 3*pl.pi/4\n",
    "#lanker = 3*pl.pi/4\n",
    "center = np.pi/4\n",
    "flanker = 0\n",
    "#center = pl.pi/2\n",
    "#flanker = pl.pi/4\n",
    "# constants for von mises function\n",
    "A = 3\n",
    "k = 0.25\n",
    "# offset energy\n",
    "E0 = 4\n",
    "# strength of the modulation\n",
    "a = 0.1\n",
    "# different flanker orientations\n",
    "theta = pl.linspace(0,pl.pi,nn)\n",
    "# elastica energies for different flanker orientations (calculated below)\n",
    "energies = np.zeros(nn)\n",
    "\n",
    "\n"
   ]
  },
  {
   "cell_type": "code",
   "execution_count": 77,
   "metadata": {
    "collapsed": false
   },
   "outputs": [
    {
     "data": {
      "image/png": "[encoded data removed]",
      "text/plain": [
       "<matplotlib.figure.Figure at 0x649d990>"
      ]
     },
     "metadata": {},
     "output_type": "display_data"
    }
   ],
   "source": [
    "# Elastica energies between neuron with orientation 1 rad and population of 32 neurons with variable orientation from 0 to pi\n",
    "for i in range(nn):\n",
    "    energies[i] = en.E(theta[i],flanker,[1,0])\n",
    "mpl.rcParams.update({'font.size': 16})\n",
    "en, = plt.plot(theta,energies,linewidth=4,label='Elastica energy')\n",
    "plt.legend(handles=[en])\n",
    "plt.xlabel('Orientation')\n",
    "plt.ylabel('Elastica energy')\n",
    "plt.xlim(0,np.pi)\n",
    "plt.xticks([0, np.pi/4, np.pi/2, 3*np.pi/4,np.pi], [r'$0$', r'$\\pi/4$', r'$\\pi/2$', r'$3/4\\pi$', r'$\\pi$'])\n",
    "plt.savefig('../Report/Pictures/experiments/exp1_fig2/el_ener.png', dpi=200,bbox_inches='tight')\n",
    "\n"
   ]
  },
  {
   "cell_type": "markdown",
   "metadata": {},
   "source": [
    "Calculate h, in additive and multiplicate models"
   ]
  },
  {
   "cell_type": "code",
   "execution_count": 78,
   "metadata": {
    "collapsed": false
   },
   "outputs": [],
   "source": [
    "modulation_ad = -a*(energies - E0)\n",
    "modulation_mp = np.exp(-a*(energies - E0))"
   ]
  },
  {
   "cell_type": "code",
   "execution_count": 79,
   "metadata": {
    "collapsed": false
   },
   "outputs": [
    {
     "data": {
      "image/png": "[encoded data removed]",
      "text/plain": [
       "<matplotlib.figure.Figure at 0x62a5210>"
      ]
     },
     "metadata": {},
     "output_type": "display_data"
    }
   ],
   "source": [
    "# Additive\n",
    "ad, = plt.plot(theta,modulation_ad,linewidth=4,label='Additive')\n",
    "plt.legend(handles=[ad])\n",
    "plt.ylim([-1,5])\n",
    "plt.xlabel('Orientation')\n",
    "plt.ylabel('h, additive')\n",
    "plt.xlim(0,np.pi)\n",
    "plt.xticks([0, np.pi/4, np.pi/2, 3*np.pi/4,np.pi], [r'$0$', r'$\\pi/4$', r'$\\pi/2$', r'$3/4\\pi$', r'$\\pi$'])\n",
    "plt.savefig('../Report/Pictures/experiments/exp1_fig2/h_add.png', dpi=200,bbox_inches='tight')\n"
   ]
  },
  {
   "cell_type": "code",
   "execution_count": 80,
   "metadata": {
    "collapsed": false
   },
   "outputs": [
    {
     "data": {
      "image/png": "[encoded data removed]",
      "text/plain": [
       "<matplotlib.figure.Figure at 0x62a5b10>"
      ]
     },
     "metadata": {},
     "output_type": "display_data"
    }
   ],
   "source": [
    "# Multiplicative\n",
    "mp, = plt.plot(theta,modulation_mp,linewidth=4,label='Multiplicative')\n",
    "plt.legend(handles=[mp])\n",
    "plt.ylim([-1,5])\n",
    "plt.xlabel('Orientation')\n",
    "plt.ylabel('h, multplicate')\n",
    "plt.xlim(0,np.pi)\n",
    "plt.xticks([0, np.pi/4, np.pi/2, 3*np.pi/4,np.pi], [r'$0$', r'$\\pi/4$', r'$\\pi/2$', r'$3/4\\pi$', r'$\\pi$'])\n",
    "plt.savefig('../Report/Pictures/experiments/exp1_fig2/h_mul.png', dpi=200,bbox_inches='tight')\n"
   ]
  },
  {
   "cell_type": "code",
   "execution_count": 81,
   "metadata": {
    "collapsed": false
   },
   "outputs": [
    {
     "data": {
      "image/png": "[encoded data removed]",
      "text/plain": [
       "<matplotlib.figure.Figure at 0x53ce3d0>"
      ]
     },
     "metadata": {},
     "output_type": "display_data"
    }
   ],
   "source": [
    "# Central drive\n",
    "curve,x,y = mises_curve(A,k,center,neuron=nn)\n",
    "cd, = plt.plot(x,y,linewidth=4,label='Central response')\n",
    "plt.legend(handles=[cd])\n",
    "plt.xlabel('Orientation')\n",
    "plt.ylabel('Response')\n",
    "plt.xlim(0,np.pi)\n",
    "plt.xticks([0, np.pi/4, np.pi/2, 3*np.pi/4,np.pi], [r'$0$', r'$\\pi/4$', r'$\\pi/2$', r'$3/4\\pi$', r'$\\pi$'])\n",
    "plt.savefig('../Report/Pictures/experiments/exp1_fig2/cen.png', dpi=200,bbox_inches='tight')\n"
   ]
  },
  {
   "cell_type": "code",
   "execution_count": 82,
   "metadata": {
    "collapsed": false
   },
   "outputs": [
    {
     "data": {
      "image/png": "[encoded data removed]",
      "text/plain": [
       "<matplotlib.figure.Figure at 0x2878e10>"
      ]
     },
     "metadata": {},
     "output_type": "display_data"
    }
   ],
   "source": [
    "# Additive\n",
    "mod, = plt.plot(theta,modulation_ad, label='Modulation',linewidth=4)\n",
    "cen, = plt.plot(x,y, label='Central response',linewidth=4)\n",
    "# Take only the positive values\n",
    "com, = plt.plot(x,(y+modulation_ad).clip(min=0), label='Combined', linewidth=4)\n",
    "\n",
    "plt.legend(handles=[mod, cen, com])\n",
    "plt.xlabel('Orientation')\n",
    "plt.ylabel('Response')\n",
    "plt.xlim(0,np.pi)\n",
    "plt.xticks([0, np.pi/4, np.pi/2, 3*np.pi/4,np.pi], [r'$0$', r'$\\pi/4$', r'$\\pi/2$', r'$3/4\\pi$', r'$\\pi$'])\n",
    "plt.savefig('../Report/Pictures/experiments/exp1_fig2/ad_comb.png', dpi=200,bbox_inches='tight')\n"
   ]
  },
  {
   "cell_type": "code",
   "execution_count": 83,
   "metadata": {
    "collapsed": false
   },
   "outputs": [
    {
     "data": {
      "image/png": "[encoded data removed]",
      "text/plain": [
       "<matplotlib.figure.Figure at 0x5630d10>"
      ]
     },
     "metadata": {},
     "output_type": "display_data"
    }
   ],
   "source": [
    "# Multiplicative\n",
    "mod, = plt.plot(theta,modulation_mp, label='Modulation', linewidth=4)\n",
    "cen, = plt.plot(x,y, label='Central response', linewidth=4)\n",
    "com, = plt.plot(x,np.multiply(y,modulation_mp), label='Combined', linewidth=4)\n",
    "\n",
    "plt.legend(handles=[mod, cen, com])\n",
    "plt.xlabel('Orientation')\n",
    "plt.ylabel('Response')\n",
    "plt.xlim(0,np.pi)\n",
    "plt.xticks([0, np.pi/4, np.pi/2, 3*np.pi/4,np.pi], [r'$0$', r'$\\pi/4$', r'$\\pi/2$', r'$3/4\\pi$', r'$\\pi$'])\n",
    "plt.savefig('../Report/Pictures/experiments/exp1_fig2/mul_comb.png', dpi=200,bbox_inches='tight')\n"
   ]
  },
  {
   "cell_type": "code",
   "execution_count": 84,
   "metadata": {
    "collapsed": false
   },
   "outputs": [
    {
     "data": {
      "text/plain": [
       "0.72710518593947338"
      ]
     },
     "execution_count": 84,
     "metadata": {},
     "output_type": "execute_result"
    }
   ],
   "source": [
    "popvec(np.multiply(y,modulation_mp),nn)"
   ]
  },
  {
   "cell_type": "code",
   "execution_count": 85,
   "metadata": {
    "collapsed": false
   },
   "outputs": [
    {
     "data": {
      "text/plain": [
       "0.68501961500813457"
      ]
     },
     "execution_count": 85,
     "metadata": {},
     "output_type": "execute_result"
    }
   ],
   "source": [
    "popvec((y+modulation_ad),nn)"
   ]
  },
  {
   "cell_type": "code",
   "execution_count": 86,
   "metadata": {
    "collapsed": false
   },
   "outputs": [
    {
     "data": {
      "text/plain": [
       "0.7853981633974483"
      ]
     },
     "execution_count": 86,
     "metadata": {},
     "output_type": "execute_result"
    }
   ],
   "source": [
    "np.pi/4"
   ]
  },
  {
   "cell_type": "code",
   "execution_count": 87,
   "metadata": {
    "collapsed": false
   },
   "outputs": [
    {
     "ename": "AttributeError",
     "evalue": "'Line2D' object has no attribute 'E'",
     "output_type": "error",
     "traceback": [
      "\u001b[1;31m---------------------------------------------------------------------------\u001b[0m",
      "\u001b[1;31mAttributeError\u001b[0m                            Traceback (most recent call last)",
      "\u001b[1;32m<ipython-input-87-435826a88c15>\u001b[0m in \u001b[0;36m<module>\u001b[1;34m()\u001b[0m\n\u001b[0;32m     19\u001b[0m     \u001b[0mflanker\u001b[0m \u001b[1;33m=\u001b[0m \u001b[0mtheta\u001b[0m\u001b[1;33m[\u001b[0m\u001b[0mj\u001b[0m\u001b[1;33m]\u001b[0m\u001b[1;33m\u001b[0m\u001b[0m\n\u001b[0;32m     20\u001b[0m     \u001b[1;32mfor\u001b[0m \u001b[0mi\u001b[0m \u001b[1;32min\u001b[0m \u001b[0mrange\u001b[0m\u001b[1;33m(\u001b[0m\u001b[0mnn\u001b[0m\u001b[1;33m)\u001b[0m\u001b[1;33m:\u001b[0m\u001b[1;33m\u001b[0m\u001b[0m\n\u001b[1;32m---> 21\u001b[1;33m         \u001b[0menergies\u001b[0m\u001b[1;33m[\u001b[0m\u001b[0mi\u001b[0m\u001b[1;33m]\u001b[0m \u001b[1;33m=\u001b[0m \u001b[0men\u001b[0m\u001b[1;33m.\u001b[0m\u001b[0mE\u001b[0m\u001b[1;33m(\u001b[0m\u001b[0mtheta\u001b[0m\u001b[1;33m[\u001b[0m\u001b[0mi\u001b[0m\u001b[1;33m]\u001b[0m\u001b[1;33m,\u001b[0m\u001b[0mflanker\u001b[0m\u001b[1;33m,\u001b[0m\u001b[1;33m[\u001b[0m\u001b[1;36m1\u001b[0m\u001b[1;33m,\u001b[0m\u001b[1;36m0\u001b[0m\u001b[1;33m]\u001b[0m\u001b[1;33m)\u001b[0m\u001b[1;33m\u001b[0m\u001b[0m\n\u001b[0m\u001b[0;32m     22\u001b[0m     \u001b[0mmodulation_ad\u001b[0m \u001b[1;33m=\u001b[0m \u001b[1;33m-\u001b[0m\u001b[0ma\u001b[0m\u001b[1;33m*\u001b[0m\u001b[1;33m(\u001b[0m\u001b[0menergies\u001b[0m \u001b[1;33m-\u001b[0m \u001b[0mE0\u001b[0m\u001b[1;33m)\u001b[0m\u001b[1;33m\u001b[0m\u001b[0m\n\u001b[0;32m     23\u001b[0m     \u001b[0mmodulation_mp\u001b[0m \u001b[1;33m=\u001b[0m \u001b[0mnp\u001b[0m\u001b[1;33m.\u001b[0m\u001b[0mexp\u001b[0m\u001b[1;33m(\u001b[0m\u001b[1;33m-\u001b[0m\u001b[0ma\u001b[0m\u001b[1;33m*\u001b[0m\u001b[1;33m(\u001b[0m\u001b[0menergies\u001b[0m \u001b[1;33m-\u001b[0m \u001b[0mE0\u001b[0m\u001b[1;33m)\u001b[0m\u001b[1;33m)\u001b[0m\u001b[1;33m\u001b[0m\u001b[0m\n",
      "\u001b[1;31mAttributeError\u001b[0m: 'Line2D' object has no attribute 'E'"
     ]
    }
   ],
   "source": [
    "# Define some variables\n",
    "# number of neurons\n",
    "nn = 100\n",
    "center = 0\n",
    "# constants for von mises function\n",
    "A = 3\n",
    "k = 0.25\n",
    "# offset energy\n",
    "E0 = 4\n",
    "# strength of the modulation\n",
    "a = 0.1\n",
    "# different flanker orientations\n",
    "theta = pl.linspace(0,pl.pi,nn)\n",
    "# elastica energies for different flanker orientations (calculated below)\n",
    "energies = np.zeros(nn)\n",
    "mult = np.zeros(nn)\n",
    "add = np.zeros(nn)\n",
    "for j in range(len(theta)):\n",
    "    flanker = theta[j]\n",
    "    for i in range(nn):\n",
    "        energies[i] = en.E(theta[i],flanker,[1,0])\n",
    "    modulation_ad = -a*(energies - E0)\n",
    "    modulation_mp = np.exp(-a*(energies - E0))\n",
    "    curve,x,y = mises_curve(A,k,center,neuron=nn)\n",
    "    mult[j] = popvec(np.multiply(y,modulation_mp),nn)\n",
    "    add[j] = popvec((y+modulation_ad),nn)\n"
   ]
  },
  {
   "cell_type": "code",
   "execution_count": null,
   "metadata": {
    "collapsed": false
   },
   "outputs": [],
   "source": [
    "mpl.rcParams.update({'font.size': 12})\n",
    "ad, = plt.plot(theta,add, label='Additive', linewidth=4)\n",
    "ml, = plt.plot(theta,mult, label='Multiplicative', linewidth=4)\n",
    "plt.xlabel('Flanker orientation')\n",
    "plt.ylabel('Modulation of center bar')\n",
    "plt.xlim(0,np.pi)\n",
    "plt.xticks([0,np.pi/4,np.pi/2,3*np.pi/4,np.pi], [r'$0$', r'$\\pi/4$', r'$\\pi/2$', r'$3/4\\pi$', r'$\\pi$'])\n",
    "plt.legend(handles=[ad, ml], loc=4)\n",
    "plt.savefig('../Report/Pictures/experiments/exp1_fig2/ADD_vs_MULT.png', dpi=200,bbox_inches='tight')\n",
    "\n",
    "\n"
   ]
  },
  {
   "cell_type": "code",
   "execution_count": null,
   "metadata": {
    "collapsed": false
   },
   "outputs": [],
   "source": [
    "# Define some variables\n",
    "# number of neurons\n",
    "nn = 100\n",
    "center = np.pi/2\n",
    "# constants for von mises function\n",
    "A = 3\n",
    "k = 0.25\n",
    "# offset energy\n",
    "E0 = 4\n",
    "# strength of the modulation\n",
    "a = 0.1\n",
    "# different flanker orientations\n",
    "theta = pl.linspace(0,pl.pi,nn)\n",
    "# elastica energies for different flanker orientations (calculated below)\n",
    "energies = np.zeros(nn)\n",
    "mult = np.zeros(nn)\n",
    "add = np.zeros(nn)\n",
    "for j in range(len(theta)):\n",
    "    flanker = theta[j]\n",
    "    for i in range(nn):\n",
    "        energies[i] = en.E(theta[i],flanker,[1,0])\n",
    "    modulation_ad = -a*(energies - E0)\n",
    "    modulation_mp = np.exp(-a*(energies - E0))\n",
    "    curve,x,y = mises_curve(A,k,center,neuron=nn)\n",
    "    mult[j] = popvec(np.multiply(y,modulation_mp),nn)\n",
    "    add[j] = popvec((y+modulation_ad),nn)\n",
    "plt.plot(add)\n",
    "plt.plot(mult)"
   ]
  },
  {
   "cell_type": "code",
   "execution_count": null,
   "metadata": {
    "collapsed": true
   },
   "outputs": [],
   "source": []
  }
 ],
 "metadata": {
  "kernelspec": {
   "display_name": "Python 2",
   "language": "python",
   "name": "python2"
  },
  "language_info": {
   "codemirror_mode": {
    "name": "ipython",
    "version": 2
   },
   "file_extension": ".py",
   "mimetype": "text/x-python",
   "name": "python",
   "nbconvert_exporter": "python",
   "pygments_lexer": "ipython2",
   "version": "2.7.5"
  }
 },
 "nbformat": 4,
 "nbformat_minor": 0
}
